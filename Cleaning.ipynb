{
 "cells": [
  {
   "cell_type": "code",
   "execution_count": null,
   "id": "22d68375",
   "metadata": {},
   "outputs": [],
   "source": [
    "import numpy as np \n",
    "import pandas as pd\n",
    "import matplotlib.pyplot as plt\n",
    "\n",
    "# NOTE: librosa dependencies apparently require specific versions of numpy, try numpy==1.21.4\n",
    "import librosa\n",
    "import librosa.display\n",
    "\n",
    "import IPython.display\n",
    "import scipy"
   ]
  },
  {
   "cell_type": "markdown",
   "id": "031f4c40",
   "metadata": {},
   "source": [
    "Dataset explored is UrbanSound8K:\n",
    "\n",
    "J. Salamon, C. Jacoby and J. P. Bello, \"A Dataset and Taxonomy for Urban Sound Research\", \n",
    "22nd ACM International Conference on Multimedia, Orlando USA, Nov. 2014.\n",
    "\n",
    "https://urbansounddataset.weebly.com/urbansound8k.html\n",
    "\n",
    "https://zenodo.org/record/1203745"
   ]
  },
  {
   "cell_type": "code",
   "execution_count": null,
   "id": "b2b6cb73",
   "metadata": {},
   "outputs": [],
   "source": [
    "# Data should be placed in the \"large_data/\" directory, which is not staged in the git repo\n",
    "metadata = pd.read_csv('./large_data/UrbanSound8K/metadata/UrbanSound8K.csv')\n",
    "metadata.info()\n",
    "display(metadata)"
   ]
  },
  {
   "cell_type": "code",
   "execution_count": null,
   "id": "d46b02a3",
   "metadata": {},
   "outputs": [],
   "source": [
    "# Function to load wav file with librosa, given a row from metadata table\n",
    "def load_data(meta_row):\n",
    "    filename = meta_row['slice_file_name']\n",
    "    filepath = f'large_data/UrbanSound8K/audio/fold{meta_row[\"fold\"]}/'\n",
    "    return librosa.load(filepath+filename,sr=None)"
   ]
  },
  {
   "cell_type": "markdown",
   "id": "c7ccd2d4",
   "metadata": {},
   "source": [
    "The various audiofiles do not exhibit a uniform length or sampling rate. As such we aim to do some pre-classification analysis to generate a uniform observable vector.\n",
    "\n",
    "For this reason we are going to take inspiration from the idea of a music \"equalizer\" scale. We will break down the fourier transform of each audio section into a number of human audible frequencies, as well as the sub-audible and supra-audible sections. "
   ]
  },
  {
   "cell_type": "code",
   "execution_count": null,
   "id": "53a89272",
   "metadata": {},
   "outputs": [],
   "source": [
    "row_ind = metadata.loc[514]\n",
    "test_y, sr = load_data(row_ind)\n",
    "\n",
    "# row_ind = 100\n",
    "# # row_ind = metadata_gun_shot.iloc[row_ind]\n",
    "# test_y, sr = load_data(metadata_gun_shot.iloc[row_ind])\n",
    "\n",
    "load_data(metadata.loc[1])\n",
    "\n",
    "len(test_y)\n",
    "\n",
    "t = round(row[\"end\"]-row[\"start\"],3)\n",
    "dt = t/len(test_y)\n",
    "print(dt)\n",
    "\n",
    "k = np.fft.fftfreq(len(test_y), d=dt)\n",
    "print(k[1])\n",
    "\n",
    "yk = np.fft.fft(test_y)\n",
    "mag_yk = np.abs(yk)\n",
    "mag_yk = mag_yk[:len(mag_yk)//2]\n",
    "\n",
    "test_y2 = np.sqrt(test_y*test_y)\n",
    "yk2 = np.fft.fft(test_y2)\n",
    "mag_yk2 = np.abs(yk2)\n",
    "mag_yk2 = mag_yk2[:len(mag_yk2)//2]\n",
    "\n",
    "filttest = yk * np.exp(-k*k/10000000)\n",
    "test_back = np.fft.ifft(filttest)\n",
    "\n",
    "test_y.max()\n",
    "\n",
    "np.sqrt(test_y2.mean())\n",
    "\n",
    "Crestfactor = test_y.max()/np.sqrt(test_y2.mean())\n",
    "Crestfactor"
   ]
  },
  {
   "cell_type": "markdown",
   "id": "f92e0d92",
   "metadata": {},
   "source": [
    "After initial exploration of the data I noticed that a number of the audio samples have significant \"room noise\" present. In an attempt to clean this up I'm taking the hilbert transform (extracts the instantaneous amplitude of a signal). Smoothing this transform and dividing by the root mean square power should then amplify the parts of the signal that are large in amplitude, while minimizing the areas that are simply a constant amplitude \"hum\". Low crest factor systems will be largely unaffected as the root mean square will be similar to the root mean square of the signal for such signals. Finally we ensure that the maximum amplitude of the signal is scaled to be equal to the input signal."
   ]
  },
  {
   "cell_type": "code",
   "execution_count": 1120,
   "id": "cf6d237c",
   "metadata": {},
   "outputs": [],
   "source": [
    "testwav = test_y * np.abs(np.abs(scipy.signal.hilbert(test_y)))/np.sqrt((test_y*test_y).mean())\n",
    "testwav *= test_y.max() / testwav.max()"
   ]
  },
  {
   "cell_type": "code",
   "execution_count": null,
   "id": "88aedbd0",
   "metadata": {},
   "outputs": [],
   "source": [
    "hil = np.abs(scipy.signal.hilbert(test_y))\n",
    "plt.plot(hil)\n",
    "# hil = np.abs(scipy.signal.hilbert(testwav2))\n",
    "# plt.plot(hil)"
   ]
  },
  {
   "cell_type": "code",
   "execution_count": null,
   "id": "e9589295",
   "metadata": {},
   "outputs": [],
   "source": [
    "hilk = np.fft.fft(hil)\n",
    "hilk *= np.exp(-k*k / (2*10**2))\n",
    "hil2 = np.fft.ifft(hilk)\n",
    "hil2 = np.abs(hil2)\n",
    "hil2 *= hil.max() / hil2.max()\n",
    "plt.plot(hil)\n",
    "plt.plot(np.abs(hil2))"
   ]
  },
  {
   "cell_type": "code",
   "execution_count": null,
   "id": "b7eafead",
   "metadata": {},
   "outputs": [],
   "source": [
    "testwav2 = test_y * hil2/np.sqrt((test_y*test_y).mean())\n",
    "testwav2 *= test_y.max() / testwav2.max()"
   ]
  },
  {
   "cell_type": "markdown",
   "id": "cca385f3",
   "metadata": {},
   "source": [
    "Check the audio samples against one another to see if our attempts at minimizing room noise were successful."
   ]
  },
  {
   "cell_type": "code",
   "execution_count": null,
   "id": "a3a223ea",
   "metadata": {},
   "outputs": [],
   "source": [
    "IPython.display.Audio(test_y,rate=sr)"
   ]
  },
  {
   "cell_type": "code",
   "execution_count": null,
   "id": "8b83b749",
   "metadata": {},
   "outputs": [],
   "source": [
    "IPython.display.Audio(testwav / testwav.max() * test_y.max(),rate=sr)"
   ]
  },
  {
   "cell_type": "code",
   "execution_count": null,
   "id": "3fb9b389",
   "metadata": {},
   "outputs": [],
   "source": [
    "IPython.display.Audio(testwav2 / testwav2.max() * test_y.max(),rate=sr)"
   ]
  },
  {
   "cell_type": "markdown",
   "id": "060f9c9d",
   "metadata": {},
   "source": [
    "Note that the version with the filtered hilbert transform acting as the instantaneous amplitude has less distortion."
   ]
  },
  {
   "cell_type": "markdown",
   "id": "ae41caf6",
   "metadata": {},
   "source": [
    "We now generate the equilizer values by manually summing over the relevent portions of fourier space."
   ]
  },
  {
   "cell_type": "code",
   "execution_count": null,
   "id": "a614f1fb",
   "metadata": {},
   "outputs": [],
   "source": [
    "eq_cutoffs = [20.0, 40.0, 80.0, 160.0, 300.0, 600.0, 1200.0, 2400.0, 5000.0, 10000.0, 20000.0, np.inf]\n",
    "equilizer = np.zeros(12)\n",
    "equilizer2 = np.zeros(12)\n",
    "equilizer3 = np.zeros(12)\n",
    "# equilizer4 = np.zeros(12)\n",
    "\n",
    "ykclean = np.fft.fft(testwav)\n",
    "mag_ykclean = np.abs(ykclean)\n",
    "mag_ykclean = mag_ykclean[:len(mag_ykclean)//2]\n",
    "\n",
    "ykclean2 = np.fft.fft(testwav2)\n",
    "mag_ykclean2 = np.abs(ykclean2)\n",
    "mag_ykclean2 = mag_ykclean2[:len(mag_ykclean2)//2]\n",
    "\n",
    "# ykclean3 = np.fft.fft(testwav3)\n",
    "# mag_ykclean3 = np.abs(ykclean3)\n",
    "# mag_ykclean3 = mag_ykclean3[:len(mag_ykclean3)//2]\n",
    "\n",
    "for i in range(0,12):\n",
    "    index = 0\n",
    "    num = 0\n",
    "    while ((index < len(mag_yk)) & (k[index] < eq_cutoffs[i])):\n",
    "        equilizer[i] += mag_yk[index]\n",
    "        equilizer2[i] += mag_ykclean[index]\n",
    "        equilizer3[i] += mag_ykclean2[index]\n",
    "#         equilizer4[i] += mag_ykclean3[index]\n",
    "        index += 1\n",
    "        num += 1\n",
    "    equilizer[i] /= num\n",
    "    equilizer2[i] /= num\n",
    "    equilizer3[i] /= num\n",
    "#     equilizer4[i] /= num\n",
    "    \n",
    "equilizer /= equilizer.max()\n",
    "equilizer2 /= equilizer2.max()\n",
    "equilizer3 /= equilizer3.max()\n",
    "# equilizer4 /= equilizer4.max()"
   ]
  },
  {
   "cell_type": "code",
   "execution_count": null,
   "id": "65c7e2eb",
   "metadata": {},
   "outputs": [],
   "source": [
    "print(equilizer)\n",
    "print(equilizer2)\n",
    "print(equilizer3)"
   ]
  },
  {
   "cell_type": "markdown",
   "id": "fc2e6f63",
   "metadata": {},
   "source": [
    "Sanity check with some plots. We notice that the unfiltered version of our clean up step displays distortion in the numerical data as well as testing by ear."
   ]
  },
  {
   "cell_type": "code",
   "execution_count": null,
   "id": "c778f516",
   "metadata": {},
   "outputs": [],
   "source": [
    "plt.scatter(range(0,12),equilizer)\n",
    "plt.scatter(range(0,12),equilizer2)\n",
    "plt.scatter(range(0,12),equilizer3)"
   ]
  },
  {
   "cell_type": "code",
   "execution_count": null,
   "id": "2b7f2746",
   "metadata": {},
   "outputs": [],
   "source": [
    "plt.scatter(range(0,12),np.log(equilizer)/np.log(10.0))\n",
    "plt.scatter(range(0,12),np.log(equilizer2)/np.log(10.0))\n",
    "plt.scatter(range(0,12),np.log(equilizer3)/np.log(10.0))"
   ]
  },
  {
   "cell_type": "markdown",
   "id": "9358e018",
   "metadata": {},
   "source": [
    "Make a function to do the cleanup and save the results as a nice, compact csv file."
   ]
  },
  {
   "cell_type": "code",
   "execution_count": null,
   "id": "ad1ae57b",
   "metadata": {},
   "outputs": [],
   "source": [
    "def make_filt_eq_csv(filenm):\n",
    "    file = open(filenm,'w+')\n",
    "    file.write(\"class,eq_0,eq_20,eq_40,eq_80,eq_160,eq_300,eq_600,eq_1200,eq_2400,eq_5000,eq_10000,eq_20000,crestfactor,fold\\n\")\n",
    "    \n",
    "    eq_cutoffs = [20.0, 40.0, 80.0, 160.0, 300.0, 600.0, 1200.0, 2400.0, 5000.0, 10000.0, 20000.0, np.inf]\n",
    "    \n",
    "    for row_ind in range(0,len(metadata)):\n",
    "        y,sr = load_data(metadata.loc[row_ind])\n",
    "        classifier = metadata['class'][row_ind]\n",
    "        foldinfo = metadata['fold'][row_ind]\n",
    "        t = round(row[\"end\"]-row[\"start\"],3)\n",
    "        dt = t/len(y)\n",
    "        k = np.fft.fftfreq(len(y), d=dt)\n",
    "#         k = k[:len(k)//2]\n",
    "        \n",
    "        \n",
    "        hil = np.abs(scipy.signal.hilbert(y))\n",
    "        hilk = np.fft.fft(hil)\n",
    "        hilk *= np.exp(-k*k / (2*10**2))\n",
    "        hil2 = np.fft.ifft(hilk)\n",
    "        hil2 = np.abs(hil2)\n",
    "        hil2 *= hil.max() / hil2.max()\n",
    "        filt_y = y * hil2/np.sqrt((y*y).mean())\n",
    "        filt_y *= y.max() / filt_y.max()\n",
    "        y_sq = filt_y*filt_y\n",
    "        Cr = filt_y.max() / np.sqrt(y_sq.mean())\n",
    "        \n",
    "        yk = np.fft.fft(filt_y)\n",
    "        mag_yk = np.abs(yk)\n",
    "        mag_yk = mag_yk[:len(mag_yk)//2]\n",
    "        \n",
    "        equilizer = np.zeros(12)\n",
    "        for i in range(0,12):\n",
    "            index = 0\n",
    "            num = 0\n",
    "            while ((index < len(mag_yk)) & (k[index] < eq_cutoffs[i])):\n",
    "                equilizer[i] += mag_yk[index]\n",
    "                index += 1\n",
    "                num += 1\n",
    "            equilizer[i] /= num\n",
    "            \n",
    "        file.write(classifier)\n",
    "        for i in range(0,12):\n",
    "            file.write(\",\"+str(equilizer[i]))\n",
    "        \n",
    "        file.write(\",\"+str(Cr))\n",
    "        file.write(\",\"+str(foldinfo)+\"\\n\")\n",
    "    file.close()"
   ]
  },
  {
   "cell_type": "code",
   "execution_count": null,
   "id": "c2c9c4ac",
   "metadata": {},
   "outputs": [],
   "source": [
    "make_filt_eq_csv('./large_data/filt_equilizer_data.csv')"
   ]
  },
  {
   "cell_type": "markdown",
   "id": "822109c7",
   "metadata": {},
   "source": [
    "Check that everything worked and we can load our file as expected."
   ]
  },
  {
   "cell_type": "code",
   "execution_count": null,
   "id": "98f25c97",
   "metadata": {},
   "outputs": [],
   "source": [
    "eq_df = pd.read_csv('./large_data/filt_equilizer_data.csv')\n",
    "display(eq_df)"
   ]
  }
 ],
 "metadata": {
  "kernelspec": {
   "display_name": "Python 3",
   "language": "python",
   "name": "python3"
  },
  "language_info": {
   "codemirror_mode": {
    "name": "ipython",
    "version": 3
   },
   "file_extension": ".py",
   "mimetype": "text/x-python",
   "name": "python",
   "nbconvert_exporter": "python",
   "pygments_lexer": "ipython3",
   "version": "3.8.0"
  }
 },
 "nbformat": 4,
 "nbformat_minor": 5
}

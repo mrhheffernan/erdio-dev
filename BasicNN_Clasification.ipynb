{
 "cells": [
  {
   "cell_type": "code",
   "execution_count": 5,
   "id": "013ab746",
   "metadata": {},
   "outputs": [],
   "source": [
    "import numpy as np \n",
    "import pandas as pd\n",
    "import matplotlib.pyplot as plt\n",
    "\n",
    "# NOTE: librosa dependencies apparently require specific versions of numpy, try numpy==1.21.4\n",
    "import librosa\n",
    "import librosa.display\n",
    "\n",
    "import IPython.display"
   ]
  },
  {
   "cell_type": "code",
   "execution_count": 19,
   "id": "7c806a04",
   "metadata": {},
   "outputs": [
    {
     "data": {
      "text/html": [
       "<div>\n",
       "<style scoped>\n",
       "    .dataframe tbody tr th:only-of-type {\n",
       "        vertical-align: middle;\n",
       "    }\n",
       "\n",
       "    .dataframe tbody tr th {\n",
       "        vertical-align: top;\n",
       "    }\n",
       "\n",
       "    .dataframe thead th {\n",
       "        text-align: right;\n",
       "    }\n",
       "</style>\n",
       "<table border=\"1\" class=\"dataframe\">\n",
       "  <thead>\n",
       "    <tr style=\"text-align: right;\">\n",
       "      <th></th>\n",
       "      <th>class</th>\n",
       "      <th>eq_0</th>\n",
       "      <th>eq_10</th>\n",
       "      <th>eq_20</th>\n",
       "      <th>eq_30</th>\n",
       "      <th>eq_40</th>\n",
       "      <th>eq_60</th>\n",
       "      <th>eq_80</th>\n",
       "      <th>eq_120</th>\n",
       "      <th>eq_160</th>\n",
       "      <th>...</th>\n",
       "      <th>eq_10000</th>\n",
       "      <th>eq_15000</th>\n",
       "      <th>eq_20000</th>\n",
       "      <th>crestfactor</th>\n",
       "      <th>salience</th>\n",
       "      <th>harmonic_power</th>\n",
       "      <th>percussive_power</th>\n",
       "      <th>harmonic_hits</th>\n",
       "      <th>percussive_hits</th>\n",
       "      <th>fold</th>\n",
       "    </tr>\n",
       "  </thead>\n",
       "  <tbody>\n",
       "    <tr>\n",
       "      <th>0</th>\n",
       "      <td>dog_bark</td>\n",
       "      <td>0.042073</td>\n",
       "      <td>0.037768</td>\n",
       "      <td>0.037040</td>\n",
       "      <td>0.040564</td>\n",
       "      <td>0.103124</td>\n",
       "      <td>0.126494</td>\n",
       "      <td>0.166781</td>\n",
       "      <td>0.199152</td>\n",
       "      <td>0.419491</td>\n",
       "      <td>...</td>\n",
       "      <td>7.060339</td>\n",
       "      <td>5.324175</td>\n",
       "      <td>4.841554</td>\n",
       "      <td>7.006769</td>\n",
       "      <td>1.0</td>\n",
       "      <td>0.000005</td>\n",
       "      <td>2.825963e-03</td>\n",
       "      <td>5.0</td>\n",
       "      <td>1.0</td>\n",
       "      <td>5.0</td>\n",
       "    </tr>\n",
       "    <tr>\n",
       "      <th>1</th>\n",
       "      <td>children_playing</td>\n",
       "      <td>7.185887</td>\n",
       "      <td>6.910740</td>\n",
       "      <td>7.921071</td>\n",
       "      <td>7.460572</td>\n",
       "      <td>7.698635</td>\n",
       "      <td>7.091304</td>\n",
       "      <td>6.637689</td>\n",
       "      <td>5.694018</td>\n",
       "      <td>4.534828</td>\n",
       "      <td>...</td>\n",
       "      <td>0.556369</td>\n",
       "      <td>0.417778</td>\n",
       "      <td>0.379089</td>\n",
       "      <td>11.940308</td>\n",
       "      <td>1.0</td>\n",
       "      <td>0.000006</td>\n",
       "      <td>2.081879e-05</td>\n",
       "      <td>11.0</td>\n",
       "      <td>0.0</td>\n",
       "      <td>5.0</td>\n",
       "    </tr>\n",
       "    <tr>\n",
       "      <th>2</th>\n",
       "      <td>children_playing</td>\n",
       "      <td>6.597605</td>\n",
       "      <td>6.398027</td>\n",
       "      <td>6.016003</td>\n",
       "      <td>6.052477</td>\n",
       "      <td>5.801635</td>\n",
       "      <td>5.684627</td>\n",
       "      <td>5.734884</td>\n",
       "      <td>4.941867</td>\n",
       "      <td>4.015981</td>\n",
       "      <td>...</td>\n",
       "      <td>0.319594</td>\n",
       "      <td>0.240222</td>\n",
       "      <td>0.218051</td>\n",
       "      <td>8.454538</td>\n",
       "      <td>1.0</td>\n",
       "      <td>0.000016</td>\n",
       "      <td>3.140698e-07</td>\n",
       "      <td>6.0</td>\n",
       "      <td>2.0</td>\n",
       "      <td>5.0</td>\n",
       "    </tr>\n",
       "    <tr>\n",
       "      <th>3</th>\n",
       "      <td>children_playing</td>\n",
       "      <td>5.929216</td>\n",
       "      <td>5.157348</td>\n",
       "      <td>5.165380</td>\n",
       "      <td>5.563031</td>\n",
       "      <td>5.046141</td>\n",
       "      <td>5.564920</td>\n",
       "      <td>5.776320</td>\n",
       "      <td>6.222735</td>\n",
       "      <td>5.007891</td>\n",
       "      <td>...</td>\n",
       "      <td>0.808725</td>\n",
       "      <td>0.608560</td>\n",
       "      <td>0.552146</td>\n",
       "      <td>9.255638</td>\n",
       "      <td>1.0</td>\n",
       "      <td>0.000011</td>\n",
       "      <td>8.845374e-05</td>\n",
       "      <td>11.0</td>\n",
       "      <td>4.0</td>\n",
       "      <td>5.0</td>\n",
       "    </tr>\n",
       "    <tr>\n",
       "      <th>4</th>\n",
       "      <td>children_playing</td>\n",
       "      <td>8.538324</td>\n",
       "      <td>6.440980</td>\n",
       "      <td>6.393698</td>\n",
       "      <td>7.740646</td>\n",
       "      <td>7.195990</td>\n",
       "      <td>7.131680</td>\n",
       "      <td>6.614982</td>\n",
       "      <td>5.932448</td>\n",
       "      <td>4.940455</td>\n",
       "      <td>...</td>\n",
       "      <td>0.450104</td>\n",
       "      <td>0.338348</td>\n",
       "      <td>0.307133</td>\n",
       "      <td>6.102388</td>\n",
       "      <td>1.0</td>\n",
       "      <td>0.000028</td>\n",
       "      <td>5.712090e-07</td>\n",
       "      <td>16.0</td>\n",
       "      <td>0.0</td>\n",
       "      <td>5.0</td>\n",
       "    </tr>\n",
       "    <tr>\n",
       "      <th>...</th>\n",
       "      <td>...</td>\n",
       "      <td>...</td>\n",
       "      <td>...</td>\n",
       "      <td>...</td>\n",
       "      <td>...</td>\n",
       "      <td>...</td>\n",
       "      <td>...</td>\n",
       "      <td>...</td>\n",
       "      <td>...</td>\n",
       "      <td>...</td>\n",
       "      <td>...</td>\n",
       "      <td>...</td>\n",
       "      <td>...</td>\n",
       "      <td>...</td>\n",
       "      <td>...</td>\n",
       "      <td>...</td>\n",
       "      <td>...</td>\n",
       "      <td>...</td>\n",
       "      <td>...</td>\n",
       "      <td>...</td>\n",
       "      <td>...</td>\n",
       "    </tr>\n",
       "    <tr>\n",
       "      <th>8728</th>\n",
       "      <td>car_horn</td>\n",
       "      <td>2.228170</td>\n",
       "      <td>2.972869</td>\n",
       "      <td>3.430412</td>\n",
       "      <td>3.801715</td>\n",
       "      <td>5.101242</td>\n",
       "      <td>5.173664</td>\n",
       "      <td>5.687871</td>\n",
       "      <td>5.096503</td>\n",
       "      <td>5.210139</td>\n",
       "      <td>...</td>\n",
       "      <td>0.587284</td>\n",
       "      <td>0.441381</td>\n",
       "      <td>0.400527</td>\n",
       "      <td>7.153451</td>\n",
       "      <td>2.0</td>\n",
       "      <td>0.000120</td>\n",
       "      <td>3.828546e-07</td>\n",
       "      <td>12.0</td>\n",
       "      <td>0.0</td>\n",
       "      <td>7.0</td>\n",
       "    </tr>\n",
       "    <tr>\n",
       "      <th>8729</th>\n",
       "      <td>car_horn</td>\n",
       "      <td>2.685533</td>\n",
       "      <td>2.139769</td>\n",
       "      <td>2.083099</td>\n",
       "      <td>2.181417</td>\n",
       "      <td>2.495794</td>\n",
       "      <td>2.707547</td>\n",
       "      <td>2.518987</td>\n",
       "      <td>2.219531</td>\n",
       "      <td>2.064120</td>\n",
       "      <td>...</td>\n",
       "      <td>1.508850</td>\n",
       "      <td>1.136151</td>\n",
       "      <td>1.032083</td>\n",
       "      <td>7.721215</td>\n",
       "      <td>2.0</td>\n",
       "      <td>0.001297</td>\n",
       "      <td>5.428997e-07</td>\n",
       "      <td>4.0</td>\n",
       "      <td>1.0</td>\n",
       "      <td>7.0</td>\n",
       "    </tr>\n",
       "    <tr>\n",
       "      <th>8730</th>\n",
       "      <td>car_horn</td>\n",
       "      <td>3.132223</td>\n",
       "      <td>2.452053</td>\n",
       "      <td>2.546355</td>\n",
       "      <td>2.729121</td>\n",
       "      <td>3.563305</td>\n",
       "      <td>4.425730</td>\n",
       "      <td>4.677102</td>\n",
       "      <td>4.777865</td>\n",
       "      <td>7.052980</td>\n",
       "      <td>...</td>\n",
       "      <td>2.370569</td>\n",
       "      <td>1.788467</td>\n",
       "      <td>1.622412</td>\n",
       "      <td>15.893921</td>\n",
       "      <td>2.0</td>\n",
       "      <td>0.000040</td>\n",
       "      <td>3.741536e-06</td>\n",
       "      <td>14.0</td>\n",
       "      <td>3.0</td>\n",
       "      <td>7.0</td>\n",
       "    </tr>\n",
       "    <tr>\n",
       "      <th>8731</th>\n",
       "      <td>car_horn</td>\n",
       "      <td>1.599208</td>\n",
       "      <td>1.839636</td>\n",
       "      <td>3.051158</td>\n",
       "      <td>3.095292</td>\n",
       "      <td>5.155525</td>\n",
       "      <td>5.937903</td>\n",
       "      <td>5.650943</td>\n",
       "      <td>5.174344</td>\n",
       "      <td>4.879232</td>\n",
       "      <td>...</td>\n",
       "      <td>0.955482</td>\n",
       "      <td>0.718008</td>\n",
       "      <td>0.651918</td>\n",
       "      <td>7.465270</td>\n",
       "      <td>2.0</td>\n",
       "      <td>0.000432</td>\n",
       "      <td>3.024667e-07</td>\n",
       "      <td>17.0</td>\n",
       "      <td>1.0</td>\n",
       "      <td>7.0</td>\n",
       "    </tr>\n",
       "    <tr>\n",
       "      <th>8732</th>\n",
       "      <td>car_horn</td>\n",
       "      <td>1.518642</td>\n",
       "      <td>2.247809</td>\n",
       "      <td>3.420582</td>\n",
       "      <td>3.789863</td>\n",
       "      <td>4.670066</td>\n",
       "      <td>4.805187</td>\n",
       "      <td>5.870084</td>\n",
       "      <td>6.088801</td>\n",
       "      <td>5.937513</td>\n",
       "      <td>...</td>\n",
       "      <td>1.224897</td>\n",
       "      <td>0.922624</td>\n",
       "      <td>0.837856</td>\n",
       "      <td>7.368791</td>\n",
       "      <td>2.0</td>\n",
       "      <td>0.001227</td>\n",
       "      <td>1.993985e-07</td>\n",
       "      <td>10.0</td>\n",
       "      <td>1.0</td>\n",
       "      <td>7.0</td>\n",
       "    </tr>\n",
       "  </tbody>\n",
       "</table>\n",
       "<p>8733 rows × 31 columns</p>\n",
       "</div>"
      ],
      "text/plain": [
       "                 class      eq_0     eq_10     eq_20     eq_30     eq_40  \\\n",
       "0             dog_bark  0.042073  0.037768  0.037040  0.040564  0.103124   \n",
       "1     children_playing  7.185887  6.910740  7.921071  7.460572  7.698635   \n",
       "2     children_playing  6.597605  6.398027  6.016003  6.052477  5.801635   \n",
       "3     children_playing  5.929216  5.157348  5.165380  5.563031  5.046141   \n",
       "4     children_playing  8.538324  6.440980  6.393698  7.740646  7.195990   \n",
       "...                ...       ...       ...       ...       ...       ...   \n",
       "8728          car_horn  2.228170  2.972869  3.430412  3.801715  5.101242   \n",
       "8729          car_horn  2.685533  2.139769  2.083099  2.181417  2.495794   \n",
       "8730          car_horn  3.132223  2.452053  2.546355  2.729121  3.563305   \n",
       "8731          car_horn  1.599208  1.839636  3.051158  3.095292  5.155525   \n",
       "8732          car_horn  1.518642  2.247809  3.420582  3.789863  4.670066   \n",
       "\n",
       "         eq_60     eq_80    eq_120    eq_160  ...  eq_10000  eq_15000  \\\n",
       "0     0.126494  0.166781  0.199152  0.419491  ...  7.060339  5.324175   \n",
       "1     7.091304  6.637689  5.694018  4.534828  ...  0.556369  0.417778   \n",
       "2     5.684627  5.734884  4.941867  4.015981  ...  0.319594  0.240222   \n",
       "3     5.564920  5.776320  6.222735  5.007891  ...  0.808725  0.608560   \n",
       "4     7.131680  6.614982  5.932448  4.940455  ...  0.450104  0.338348   \n",
       "...        ...       ...       ...       ...  ...       ...       ...   \n",
       "8728  5.173664  5.687871  5.096503  5.210139  ...  0.587284  0.441381   \n",
       "8729  2.707547  2.518987  2.219531  2.064120  ...  1.508850  1.136151   \n",
       "8730  4.425730  4.677102  4.777865  7.052980  ...  2.370569  1.788467   \n",
       "8731  5.937903  5.650943  5.174344  4.879232  ...  0.955482  0.718008   \n",
       "8732  4.805187  5.870084  6.088801  5.937513  ...  1.224897  0.922624   \n",
       "\n",
       "      eq_20000  crestfactor  salience  harmonic_power  percussive_power  \\\n",
       "0     4.841554     7.006769       1.0        0.000005      2.825963e-03   \n",
       "1     0.379089    11.940308       1.0        0.000006      2.081879e-05   \n",
       "2     0.218051     8.454538       1.0        0.000016      3.140698e-07   \n",
       "3     0.552146     9.255638       1.0        0.000011      8.845374e-05   \n",
       "4     0.307133     6.102388       1.0        0.000028      5.712090e-07   \n",
       "...        ...          ...       ...             ...               ...   \n",
       "8728  0.400527     7.153451       2.0        0.000120      3.828546e-07   \n",
       "8729  1.032083     7.721215       2.0        0.001297      5.428997e-07   \n",
       "8730  1.622412    15.893921       2.0        0.000040      3.741536e-06   \n",
       "8731  0.651918     7.465270       2.0        0.000432      3.024667e-07   \n",
       "8732  0.837856     7.368791       2.0        0.001227      1.993985e-07   \n",
       "\n",
       "      harmonic_hits  percussive_hits  fold  \n",
       "0               5.0              1.0   5.0  \n",
       "1              11.0              0.0   5.0  \n",
       "2               6.0              2.0   5.0  \n",
       "3              11.0              4.0   5.0  \n",
       "4              16.0              0.0   5.0  \n",
       "...             ...              ...   ...  \n",
       "8728           12.0              0.0   7.0  \n",
       "8729            4.0              1.0   7.0  \n",
       "8730           14.0              3.0   7.0  \n",
       "8731           17.0              1.0   7.0  \n",
       "8732           10.0              1.0   7.0  \n",
       "\n",
       "[8733 rows x 31 columns]"
      ]
     },
     "metadata": {},
     "output_type": "display_data"
    }
   ],
   "source": [
    "eq_df = pd.read_csv('./large_data/eq_with_harmony2.csv')\n",
    "display(eq_df)"
   ]
  },
  {
   "cell_type": "markdown",
   "id": "063bb1c1",
   "metadata": {},
   "source": [
    "After initial attempts performed relatively poorly, I decided to try to add another classifier object. Crest factor is the ratio of the maximum amplitude of a signal to its root mean square. As such, I expect short, loud sounds like gunshots to exhibit large crest factors.\n",
    "\n",
    "After initial attempts with the crest factor I noticed that a number of the audio samples have significant \"room noise\" present. In an attempt to clean this up I'm taking the hilbert transform (extracts the instantaneous amplitude of a signal). Smoothing this transform and dividing by the root mean square power should then amplify the parts of the signal that are large in amplitude, while minimizing the areas that are simply a constant amplitude \"hum\". Low crest factor systems will be largely unaffected as the root mean square will be similar to the root mean square of the signal for such signals. Finally we ensure that the maximum amplitude of the signal is scaled to be equal to the input signal."
   ]
  },
  {
   "cell_type": "code",
   "execution_count": 20,
   "id": "3e7ba585",
   "metadata": {},
   "outputs": [
    {
     "data": {
      "text/plain": [
       "402    True\n",
       "417    True\n",
       "Name: crestfactor, dtype: bool"
      ]
     },
     "execution_count": 20,
     "metadata": {},
     "output_type": "execute_result"
    }
   ],
   "source": [
    "nansvec = np.isnan(eq_df['crestfactor'])\n",
    "nansvec[nansvec==True]"
   ]
  },
  {
   "cell_type": "code",
   "execution_count": 25,
   "id": "3994bf0b",
   "metadata": {},
   "outputs": [],
   "source": [
    "eq_df = eq_df.dropna()"
   ]
  },
  {
   "cell_type": "code",
   "execution_count": 26,
   "id": "816e66e6",
   "metadata": {},
   "outputs": [
    {
     "data": {
      "text/plain": [
       "Series([], Name: crestfactor, dtype: bool)"
      ]
     },
     "execution_count": 26,
     "metadata": {},
     "output_type": "execute_result"
    }
   ],
   "source": [
    "nansvec = np.isnan(eq_df['crestfactor'])\n",
    "nansvec[nansvec==True]"
   ]
  },
  {
   "cell_type": "code",
   "execution_count": 27,
   "id": "9fd7b87d",
   "metadata": {},
   "outputs": [],
   "source": [
    "# try classifying with the log instead?\n",
    "for i in range(0,len(eq_df)):\n",
    "    eq_df.iloc[i,1:-7] = np.log10(eq_df.iloc[i,1:-7].values.astype(float))"
   ]
  },
  {
   "cell_type": "code",
   "execution_count": 28,
   "id": "8da41282",
   "metadata": {},
   "outputs": [],
   "source": [
    "eq_df2 = eq_df.copy()\n",
    "eq_df2.replace({'air_conditioner':0, 'car_horn':1, 'children_playing':2, 'dog_bark':3, 'drilling':4,\n",
    "                'engine_idling':5, 'gun_shot':6, 'jackhammer':7, 'siren':8, 'street_music':9},inplace=True)\n",
    "# eq_df2.replace({'air_conditioner':0, 'car_horn':0, 'children_playing':0, 'dog_bark':0, 'drilling':0,\n",
    "#                 'engine_idling':0, 'gun_shot':1, 'jackhammer':0, 'siren':0, 'street_music':0},inplace=True)"
   ]
  },
  {
   "cell_type": "markdown",
   "id": "9232aa2e",
   "metadata": {},
   "source": [
    "Documentation of the dataset suggests not shuffling the dataset. This is because there are a number of audio files that are taken as sections from longer audio files and will result in anomalous results if these are shuffled together. Instead the dataset has included a psuedorandom \"fold\" category to serve as splits for cross validation. "
   ]
  },
  {
   "cell_type": "code",
   "execution_count": 29,
   "id": "5d7665db",
   "metadata": {},
   "outputs": [],
   "source": [
    "dropfold = 1"
   ]
  },
  {
   "cell_type": "code",
   "execution_count": 30,
   "id": "f61e4c9c",
   "metadata": {},
   "outputs": [],
   "source": [
    "eq_df3 = eq_df2.drop(eq_df2[eq_df2['fold']==dropfold].index)"
   ]
  },
  {
   "cell_type": "code",
   "execution_count": 31,
   "id": "01156732",
   "metadata": {},
   "outputs": [
    {
     "data": {
      "text/plain": [
       "array([], shape=(0, 31), dtype=float64)"
      ]
     },
     "execution_count": 31,
     "metadata": {},
     "output_type": "execute_result"
    }
   ],
   "source": [
    "eq_df3[eq_df3['fold']==dropfold].values"
   ]
  },
  {
   "cell_type": "code",
   "execution_count": 32,
   "id": "1e1999f1",
   "metadata": {},
   "outputs": [],
   "source": [
    "eq_df3.drop(columns='fold',inplace=True)"
   ]
  },
  {
   "cell_type": "code",
   "execution_count": 33,
   "id": "eafbc856",
   "metadata": {},
   "outputs": [
    {
     "data": {
      "text/plain": [
       "array([ 8.56480394e-01,  8.39524552e-01,  8.98783931e-01,  8.72772106e-01,\n",
       "        8.86413715e-01,  8.50726106e-01,  8.22016906e-01,  7.55418850e-01,\n",
       "        6.56560810e-01,  5.85956768e-01,  4.96065809e-01,  4.21664324e-01,\n",
       "        3.32610262e-01,  2.76890419e-01,  2.62928563e-01,  2.67268994e-01,\n",
       "        2.56538704e-01,  1.87876224e-01,  2.71809221e-02, -8.41177638e-02,\n",
       "       -2.54637387e-01, -3.79054138e-01, -4.21258627e-01,  1.19403085e+01,\n",
       "        1.00000000e+00,  5.82140216e-06,  2.08187863e-05,  1.10000000e+01,\n",
       "        0.00000000e+00])"
      ]
     },
     "execution_count": 33,
     "metadata": {},
     "output_type": "execute_result"
    }
   ],
   "source": [
    "eq_df3.iloc[1,1:].values"
   ]
  },
  {
   "cell_type": "code",
   "execution_count": 34,
   "id": "9745a218",
   "metadata": {},
   "outputs": [
    {
     "data": {
      "text/plain": [
       "array([[-1.37599495e+00, -1.42287451e+00, -1.43132843e+00, ...,\n",
       "         2.82596265e-03,  5.00000000e+00,  1.00000000e+00],\n",
       "       [ 8.56480394e-01,  8.39524552e-01,  8.98783931e-01, ...,\n",
       "         2.08187863e-05,  1.10000000e+01,  0.00000000e+00],\n",
       "       [ 8.19386294e-01,  8.06046073e-01,  7.79308059e-01, ...,\n",
       "         3.14069827e-07,  6.00000000e+00,  2.00000000e+00],\n",
       "       ...,\n",
       "       [ 4.95852622e-01,  3.89529936e-01,  4.05918896e-01, ...,\n",
       "         3.74153624e-06,  1.40000000e+01,  3.00000000e+00],\n",
       "       [ 2.03904895e-01,  2.64732008e-01,  4.84464720e-01, ...,\n",
       "         3.02466653e-07,  1.70000000e+01,  1.00000000e+00],\n",
       "       [ 1.81455386e-01,  3.51759398e-01,  5.34100032e-01, ...,\n",
       "         1.99398517e-07,  1.00000000e+01,  1.00000000e+00]])"
      ]
     },
     "execution_count": 34,
     "metadata": {},
     "output_type": "execute_result"
    }
   ],
   "source": [
    "X_train = eq_df3.iloc[:,1:].values\n",
    "# X_train = [eq_df3.iloc[:,1:-2].values, eq_df3.iloc[:,-1]]\n",
    "X_train"
   ]
  },
  {
   "cell_type": "code",
   "execution_count": 35,
   "id": "3bf52883",
   "metadata": {},
   "outputs": [
    {
     "data": {
      "text/plain": [
       "array([3, 2, 2, ..., 1, 1, 1])"
      ]
     },
     "execution_count": 35,
     "metadata": {},
     "output_type": "execute_result"
    }
   ],
   "source": [
    "y_train = eq_df3.iloc[:,0].values\n",
    "y_train"
   ]
  },
  {
   "cell_type": "code",
   "execution_count": 36,
   "id": "ea29ffc4",
   "metadata": {},
   "outputs": [],
   "source": [
    "X_val = eq_df2[eq_df2['fold'] == dropfold].copy()\n",
    "X_val.drop(columns='fold',inplace=True)\n",
    "X_val = X_val.iloc[:,1:].values\n",
    "y_val = eq_df2[eq_df2['fold'] == dropfold]\n",
    "y_val = y_val.iloc[:,0].values"
   ]
  },
  {
   "cell_type": "code",
   "execution_count": 37,
   "id": "2c8a796b",
   "metadata": {},
   "outputs": [
    {
     "data": {
      "text/plain": [
       "array([[-1.00008089e+00, -1.11176166e+00, -9.80423083e-01, ...,\n",
       "         6.51133602e-04,  1.00000000e+01,  2.00000000e+00],\n",
       "       [-9.52418631e-01, -1.07985395e+00, -1.00313153e+00, ...,\n",
       "         1.38349884e-04,  7.00000000e+00,  3.00000000e+00],\n",
       "       [-4.17118162e-01, -4.24880154e-01, -4.34902521e-01, ...,\n",
       "         7.26269327e-04,  3.00000000e+00,  2.00000000e+00],\n",
       "       ...,\n",
       "       [ 7.55280147e-01,  5.02799032e-01,  3.46976735e-01, ...,\n",
       "         2.45415438e-06,  1.50000000e+01,  0.00000000e+00],\n",
       "       [ 7.71719225e-01,  5.37098468e-01,  4.10464048e-01, ...,\n",
       "         1.69385740e-06,  1.10000000e+01,  0.00000000e+00],\n",
       "       [ 6.63271678e-01,  4.19493950e-01,  2.85181458e-01, ...,\n",
       "         1.63094784e-06,  1.00000000e+00,  1.00000000e+00]])"
      ]
     },
     "execution_count": 37,
     "metadata": {},
     "output_type": "execute_result"
    }
   ],
   "source": [
    "X_val"
   ]
  },
  {
   "cell_type": "code",
   "execution_count": 38,
   "id": "f4839e71",
   "metadata": {},
   "outputs": [
    {
     "data": {
      "text/plain": [
       "array([3, 3, 3, 3, 6, 3, 3, 3, 3, 7, 7, 7, 7, 7, 7, 7, 7, 7, 7, 7, 7, 7,\n",
       "       7, 7, 7, 7, 7, 7, 7, 7, 7, 5, 5, 5, 5, 5, 5, 5, 5, 5, 5, 5, 5, 5,\n",
       "       5, 5, 5, 5, 5, 5, 5, 2, 2, 2, 2, 2, 2, 2, 2, 8, 8, 8, 8, 9, 9, 9,\n",
       "       9, 9, 9, 9, 2, 2, 2, 2, 2, 2, 2, 2, 5, 5, 5, 5, 5, 5, 5, 5, 5, 5,\n",
       "       5, 3, 3, 3, 3, 3, 3, 3, 3, 8, 8, 8, 8, 8, 8, 8, 8, 8, 8, 8, 8, 8,\n",
       "       8, 8, 3, 5, 5, 5, 5, 5, 5, 5, 5, 6, 9, 9, 9, 9, 9, 9, 3, 3, 3, 3,\n",
       "       0, 3, 9, 9, 9, 9, 9, 9, 0, 0, 0, 0, 0, 0, 0, 0, 0, 0, 0, 0, 0, 0,\n",
       "       0, 0, 0, 0, 0, 0, 0, 0, 0, 0, 0, 2, 2, 2, 2, 2, 2, 2, 2, 9, 9, 9,\n",
       "       9, 9, 9, 3, 3, 3, 2, 2, 2, 2, 2, 2, 2, 2, 9, 9, 9, 9, 9, 9, 4, 4,\n",
       "       5, 2, 2, 2, 2, 2, 2, 2, 2, 5, 5, 5, 5, 5, 5, 5, 5, 5, 5, 5, 5, 5,\n",
       "       5, 4, 4, 4, 4, 4, 4, 4, 4, 4, 4, 4, 3, 3, 0, 0, 0, 0, 0, 0, 0, 0,\n",
       "       0, 0, 0, 0, 0, 0, 9, 9, 9, 9, 9, 9, 3, 2, 2, 2, 1, 8, 8, 8, 8, 8,\n",
       "       8, 8, 8, 8, 8, 8, 8, 8, 8, 8, 8, 8, 8, 8, 8, 8, 8, 8, 8, 8, 8, 8,\n",
       "       8, 8, 8, 8, 8, 8, 8, 8, 8, 8, 8, 8, 8, 8, 8, 8, 8, 8, 8, 8, 8, 8,\n",
       "       2, 2, 2, 2, 2, 2, 2, 2, 3, 9, 9, 9, 9, 9, 9, 1, 1, 1, 1, 8, 8, 8,\n",
       "       8, 8, 8, 8, 3, 3, 3, 3, 2, 2, 2, 2, 2, 2, 2, 4, 4, 4, 4, 4, 4, 4,\n",
       "       3, 3, 3, 9, 9, 9, 9, 9, 9, 7, 7, 7, 7, 7, 7, 7, 6, 6, 6, 6, 6, 6,\n",
       "       6, 1, 1, 5, 5, 5, 5, 5, 3, 3, 3, 3, 3, 1, 1, 2, 2, 2, 2, 2, 2, 2,\n",
       "       2, 5, 5, 5, 5, 5, 5, 5, 5, 5, 5, 5, 5, 5, 5, 5, 5, 5, 5, 5, 5, 5,\n",
       "       5, 5, 5, 5, 5, 5, 5, 5, 5, 5, 0, 0, 0, 0, 0, 0, 0, 0, 0, 0, 0, 0,\n",
       "       0, 0, 0, 0, 0, 0, 0, 0, 0, 0, 0, 0, 0, 4, 4, 4, 4, 4, 1, 1, 3, 3,\n",
       "       3, 3, 7, 7, 7, 7, 7, 7, 7, 7, 7, 7, 7, 7, 7, 7, 7, 7, 7, 7, 7, 7,\n",
       "       7, 7, 7, 7, 7, 7, 7, 7, 7, 7, 7, 7, 7, 7, 7, 7, 7, 7, 7, 7, 7, 7,\n",
       "       7, 7, 7, 7, 7, 7, 7, 7, 7, 7, 7, 7, 7, 7, 7, 7, 7, 7, 7, 7, 7, 7,\n",
       "       7, 7, 7, 7, 7, 7, 7, 7, 7, 7, 7, 7, 7, 7, 7, 2, 2, 2, 2, 2, 2, 2,\n",
       "       2, 1, 1, 9, 9, 9, 9, 9, 9, 2, 2, 2, 2, 2, 2, 2, 2, 3, 3, 3, 3, 2,\n",
       "       2, 2, 2, 2, 2, 2, 2, 9, 9, 9, 9, 9, 9, 9, 2, 2, 2, 6, 3, 3, 3, 3,\n",
       "       6, 6, 6, 6, 6, 6, 6, 6, 6, 6, 6, 6, 6, 3, 3, 3, 3, 3, 3, 3, 3, 9,\n",
       "       9, 9, 9, 9, 9, 9, 4, 4, 4, 1, 1, 1, 1, 1, 1, 1, 1, 1, 1, 1, 1, 1,\n",
       "       1, 9, 9, 9, 9, 9, 9, 8, 3, 3, 3, 3, 3, 3, 8, 8, 8, 8, 8, 8, 8, 8,\n",
       "       8, 3, 3, 8, 5, 5, 6, 6, 6, 6, 6, 6, 6, 4, 4, 4, 4, 4, 4, 4, 4, 4,\n",
       "       4, 4, 4, 4, 4, 4, 4, 4, 4, 4, 4, 4, 4, 4, 5, 5, 5, 0, 0, 0, 3, 3,\n",
       "       3, 3, 3, 3, 3, 4, 4, 4, 4, 4, 4, 4, 4, 4, 4, 4, 4, 4, 4, 4, 0, 0,\n",
       "       0, 0, 0, 0, 0, 0, 0, 0, 0, 0, 0, 0, 0, 0, 0, 0, 0, 0, 0, 0, 0, 0,\n",
       "       3, 3, 3, 4, 4, 4, 4, 4, 4, 4, 4, 4, 0, 0, 0, 0, 0, 0, 0, 0, 3, 3,\n",
       "       3, 3, 9, 9, 9, 9, 9, 9, 6, 4, 4, 3, 3, 3, 3, 3, 3, 3, 3, 9, 9, 9,\n",
       "       9, 9, 9, 3, 3, 3, 6, 6, 6, 9, 9, 9, 9, 9, 9, 4, 4, 4, 4, 4, 4, 4,\n",
       "       4, 4, 4, 4, 4, 4, 4, 4, 4, 4, 4, 4, 4, 4, 4, 9, 6, 3, 1, 1, 1, 1,\n",
       "       1, 1, 7, 3, 5, 3, 3, 3, 3, 1, 1, 1, 4, 2, 2, 2, 2, 2, 2, 2, 7, 7,\n",
       "       7, 7, 7, 7, 7, 7, 7, 7, 7, 9, 9, 9, 9, 9, 9])"
      ]
     },
     "execution_count": 38,
     "metadata": {},
     "output_type": "execute_result"
    }
   ],
   "source": [
    "y_val"
   ]
  },
  {
   "cell_type": "code",
   "execution_count": 39,
   "id": "53583a4a",
   "metadata": {},
   "outputs": [],
   "source": [
    "from sklearn.neural_network import MLPClassifier"
   ]
  },
  {
   "cell_type": "code",
   "execution_count": 40,
   "id": "20438f1b",
   "metadata": {},
   "outputs": [],
   "source": [
    "mlp = MLPClassifier(hidden_layer_sizes=(150,150,150,150,150,), max_iter=50000)"
   ]
  },
  {
   "cell_type": "code",
   "execution_count": 41,
   "id": "8acd3902",
   "metadata": {},
   "outputs": [
    {
     "data": {
      "text/plain": [
       "MLPClassifier(hidden_layer_sizes=(150, 150, 150, 150, 150), max_iter=50000)"
      ]
     },
     "execution_count": 41,
     "metadata": {},
     "output_type": "execute_result"
    }
   ],
   "source": [
    "mlp.fit(X_train, y_train)"
   ]
  },
  {
   "cell_type": "code",
   "execution_count": 42,
   "id": "f1e3c3ec",
   "metadata": {},
   "outputs": [],
   "source": [
    "from sklearn.metrics import accuracy_score\n",
    "from sklearn.metrics import confusion_matrix"
   ]
  },
  {
   "cell_type": "markdown",
   "id": "bed26cfc",
   "metadata": {},
   "source": [
    "Here we consider the True Positive Rate for the gunshot data as an indicator of the goodness of fit. Interestingly this is often higher when the classifier can classify into multiple categories than simply gunshot/not gunshot."
   ]
  },
  {
   "cell_type": "code",
   "execution_count": 43,
   "id": "4801fc6b",
   "metadata": {},
   "outputs": [
    {
     "name": "stdout",
     "output_type": "stream",
     "text": [
      "Training accuracy of 99.41002949852508\n",
      "Validation accuracy of 74.28571428571429\n"
     ]
    }
   ],
   "source": [
    "# confmat = confusion_matrix(y_train, mlp.predict(X_train))\n",
    "# acc = 100*confmat[6,6] / (np.sum(confmat[:,6])+np.sum(confmat[6,:]) - confmat[6,6])\n",
    "# print(\"Training accuracy of\", acc)\n",
    "# confmat = confusion_matrix(y_val, mlp.predict(X_val))\n",
    "# acc = 100*confmat[6,6] / (np.sum(confmat[:,6])+np.sum(confmat[6,:]) - confmat[6,6])\n",
    "# print(\"Validation accuracy of\", acc)\n",
    "# confmat = confusion_matrix(y_train, mlp.predict(X_train))\n",
    "# acc = 100*confmat[1,1] / (np.sum(confmat[:,1])+np.sum(confmat[1,:]) - confmat[1,1])\n",
    "# print(\"Training accuracy of\", acc)\n",
    "# confmat = confusion_matrix(y_val, mlp.predict(X_val))\n",
    "# acc = 100*confmat[1,1] / (np.sum(confmat[:,1])+np.sum(confmat[1,:]) - confmat[1,1])\n",
    "# print(\"Validation accuracy of\", acc)\n",
    "# confmat = confusion_matrix(y_train, mlp.predict(X_train))\n",
    "# acc = 100*confmat[1,1] / (np.sum(np.sum(confmat[1,:])))\n",
    "# print(\"Training accuracy of\", acc)\n",
    "# confmat = confusion_matrix(y_val, mlp.predict(X_val))\n",
    "# acc = 100*confmat[1,1] / (np.sum(confmat[1,:]))\n",
    "confmat = confusion_matrix(y_train, mlp.predict(X_train))\n",
    "acc = 100*confmat[6,6] / (np.sum(np.sum(confmat[6,:])))\n",
    "print(\"Training accuracy of\", acc)\n",
    "confmat = confusion_matrix(y_val, mlp.predict(X_val))\n",
    "acc = 100*confmat[6,6] / (np.sum(confmat[6,:]))\n",
    "print(\"Validation accuracy of\", acc)"
   ]
  },
  {
   "cell_type": "code",
   "execution_count": 44,
   "id": "2838f7a1",
   "metadata": {},
   "outputs": [
    {
     "data": {
      "text/html": [
       "<div>\n",
       "<style scoped>\n",
       "    .dataframe tbody tr th:only-of-type {\n",
       "        vertical-align: middle;\n",
       "    }\n",
       "\n",
       "    .dataframe tbody tr th {\n",
       "        vertical-align: top;\n",
       "    }\n",
       "\n",
       "    .dataframe thead th {\n",
       "        text-align: right;\n",
       "    }\n",
       "</style>\n",
       "<table border=\"1\" class=\"dataframe\">\n",
       "  <thead>\n",
       "    <tr style=\"text-align: right;\">\n",
       "      <th></th>\n",
       "      <th>predicted 0</th>\n",
       "      <th>predicted 1</th>\n",
       "      <th>predicted 2</th>\n",
       "      <th>predicted 3</th>\n",
       "      <th>predicted 4</th>\n",
       "      <th>predicted 5</th>\n",
       "      <th>predicted 6</th>\n",
       "      <th>predicted 7</th>\n",
       "      <th>predicted 8</th>\n",
       "      <th>predicted 9</th>\n",
       "    </tr>\n",
       "  </thead>\n",
       "  <tbody>\n",
       "    <tr>\n",
       "      <th>actual 0</th>\n",
       "      <td>26</td>\n",
       "      <td>6</td>\n",
       "      <td>17</td>\n",
       "      <td>3</td>\n",
       "      <td>6</td>\n",
       "      <td>17</td>\n",
       "      <td>2</td>\n",
       "      <td>9</td>\n",
       "      <td>0</td>\n",
       "      <td>14</td>\n",
       "    </tr>\n",
       "    <tr>\n",
       "      <th>actual 1</th>\n",
       "      <td>1</td>\n",
       "      <td>13</td>\n",
       "      <td>6</td>\n",
       "      <td>2</td>\n",
       "      <td>8</td>\n",
       "      <td>1</td>\n",
       "      <td>0</td>\n",
       "      <td>0</td>\n",
       "      <td>4</td>\n",
       "      <td>1</td>\n",
       "    </tr>\n",
       "    <tr>\n",
       "      <th>actual 2</th>\n",
       "      <td>5</td>\n",
       "      <td>1</td>\n",
       "      <td>56</td>\n",
       "      <td>10</td>\n",
       "      <td>6</td>\n",
       "      <td>6</td>\n",
       "      <td>3</td>\n",
       "      <td>0</td>\n",
       "      <td>7</td>\n",
       "      <td>6</td>\n",
       "    </tr>\n",
       "    <tr>\n",
       "      <th>actual 3</th>\n",
       "      <td>2</td>\n",
       "      <td>2</td>\n",
       "      <td>16</td>\n",
       "      <td>68</td>\n",
       "      <td>1</td>\n",
       "      <td>1</td>\n",
       "      <td>1</td>\n",
       "      <td>0</td>\n",
       "      <td>3</td>\n",
       "      <td>6</td>\n",
       "    </tr>\n",
       "    <tr>\n",
       "      <th>actual 4</th>\n",
       "      <td>4</td>\n",
       "      <td>5</td>\n",
       "      <td>8</td>\n",
       "      <td>1</td>\n",
       "      <td>67</td>\n",
       "      <td>2</td>\n",
       "      <td>3</td>\n",
       "      <td>8</td>\n",
       "      <td>1</td>\n",
       "      <td>1</td>\n",
       "    </tr>\n",
       "    <tr>\n",
       "      <th>actual 5</th>\n",
       "      <td>11</td>\n",
       "      <td>0</td>\n",
       "      <td>2</td>\n",
       "      <td>1</td>\n",
       "      <td>3</td>\n",
       "      <td>41</td>\n",
       "      <td>0</td>\n",
       "      <td>8</td>\n",
       "      <td>17</td>\n",
       "      <td>13</td>\n",
       "    </tr>\n",
       "    <tr>\n",
       "      <th>actual 6</th>\n",
       "      <td>0</td>\n",
       "      <td>0</td>\n",
       "      <td>6</td>\n",
       "      <td>0</td>\n",
       "      <td>3</td>\n",
       "      <td>0</td>\n",
       "      <td>26</td>\n",
       "      <td>0</td>\n",
       "      <td>0</td>\n",
       "      <td>0</td>\n",
       "    </tr>\n",
       "    <tr>\n",
       "      <th>actual 7</th>\n",
       "      <td>0</td>\n",
       "      <td>0</td>\n",
       "      <td>0</td>\n",
       "      <td>0</td>\n",
       "      <td>56</td>\n",
       "      <td>17</td>\n",
       "      <td>1</td>\n",
       "      <td>46</td>\n",
       "      <td>0</td>\n",
       "      <td>0</td>\n",
       "    </tr>\n",
       "    <tr>\n",
       "      <th>actual 8</th>\n",
       "      <td>1</td>\n",
       "      <td>2</td>\n",
       "      <td>10</td>\n",
       "      <td>6</td>\n",
       "      <td>6</td>\n",
       "      <td>0</td>\n",
       "      <td>2</td>\n",
       "      <td>1</td>\n",
       "      <td>56</td>\n",
       "      <td>2</td>\n",
       "    </tr>\n",
       "    <tr>\n",
       "      <th>actual 9</th>\n",
       "      <td>4</td>\n",
       "      <td>5</td>\n",
       "      <td>14</td>\n",
       "      <td>0</td>\n",
       "      <td>16</td>\n",
       "      <td>6</td>\n",
       "      <td>2</td>\n",
       "      <td>7</td>\n",
       "      <td>2</td>\n",
       "      <td>44</td>\n",
       "    </tr>\n",
       "  </tbody>\n",
       "</table>\n",
       "</div>"
      ],
      "text/plain": [
       "          predicted 0  predicted 1  predicted 2  predicted 3  predicted 4  \\\n",
       "actual 0           26            6           17            3            6   \n",
       "actual 1            1           13            6            2            8   \n",
       "actual 2            5            1           56           10            6   \n",
       "actual 3            2            2           16           68            1   \n",
       "actual 4            4            5            8            1           67   \n",
       "actual 5           11            0            2            1            3   \n",
       "actual 6            0            0            6            0            3   \n",
       "actual 7            0            0            0            0           56   \n",
       "actual 8            1            2           10            6            6   \n",
       "actual 9            4            5           14            0           16   \n",
       "\n",
       "          predicted 5  predicted 6  predicted 7  predicted 8  predicted 9  \n",
       "actual 0           17            2            9            0           14  \n",
       "actual 1            1            0            0            4            1  \n",
       "actual 2            6            3            0            7            6  \n",
       "actual 3            1            1            0            3            6  \n",
       "actual 4            2            3            8            1            1  \n",
       "actual 5           41            0            8           17           13  \n",
       "actual 6            0           26            0            0            0  \n",
       "actual 7           17            1           46            0            0  \n",
       "actual 8            0            2            1           56            2  \n",
       "actual 9            6            2            7            2           44  "
      ]
     },
     "execution_count": 44,
     "metadata": {},
     "output_type": "execute_result"
    }
   ],
   "source": [
    "pd.DataFrame(confusion_matrix(y_val, mlp.predict(X_val)),\n",
    "            columns=[\"predicted \"+str(i) for i in range(10)],\n",
    "            index=[\"actual \"+str(i) for i in range(10)])\n",
    "# pd.DataFrame(confusion_matrix(y_val, mlp.predict(X_val)),\n",
    "#             columns=[\"predicted \"+str(i) for i in range(2)],\n",
    "#             index=[\"actual \"+str(i) for i in range(2)])"
   ]
  },
  {
   "cell_type": "markdown",
   "id": "d2b56c63",
   "metadata": {},
   "source": [
    "As suggested by the dataset the most accurate results for a classifier are acheived when averaged over the different possible test/validation splits."
   ]
  },
  {
   "cell_type": "code",
   "execution_count": 45,
   "id": "ee6ea5a9",
   "metadata": {},
   "outputs": [
    {
     "name": "stdout",
     "output_type": "stream",
     "text": [
      "[74.28571429 82.85714286 86.11111111 65.78947368 95.         76.08695652\n",
      " 68.62745098 73.33333333 67.74193548 56.25      ]\n"
     ]
    },
    {
     "data": {
      "text/plain": [
       "74.60831182575143"
      ]
     },
     "execution_count": 45,
     "metadata": {},
     "output_type": "execute_result"
    }
   ],
   "source": [
    "accuracy_vec = np.zeros(10)\n",
    "for dropfold in range(1,11):\n",
    "    eq_df2 = eq_df.copy()\n",
    "    eq_df2.replace({'air_conditioner':0, 'car_horn':1, 'children_playing':2, 'dog_bark':3, 'drilling':4,\n",
    "                'engine_idling':5, 'gun_shot':6, 'jackhammer':7, 'siren':8, 'street_music':9},inplace=True)\n",
    "#     eq_df2.replace({'air_conditioner':0, 'car_horn':0, 'children_playing':0, 'dog_bark':0, 'drilling':0,\n",
    "#                     'engine_idling':0, 'gun_shot':1, 'jackhammer':0, 'siren':0, 'street_music':0},inplace=True)\n",
    "\n",
    "    eq_df3 = eq_df2.drop(eq_df2[eq_df2['fold']==dropfold].index)\n",
    "    eq_df3.drop(columns='fold',inplace=True)\n",
    "    X_train = eq_df3.iloc[:,1:].values\n",
    "    y_train = eq_df3.iloc[:,0].values\n",
    "    \n",
    "#     X_val = eq_df2[eq_df2['fold'] == dropfold]\n",
    "#     X_val = X_val.iloc[:,1:].values\n",
    "#     y_val = eq_df2[eq_df2['fold'] == dropfold]\n",
    "#     y_val = y_val.iloc[:,0].values\n",
    "    \n",
    "    X_val = eq_df2[eq_df2['fold'] == dropfold].copy()\n",
    "    X_val.drop(columns='fold',inplace=True)\n",
    "    X_val = X_val.iloc[:,1:].values\n",
    "    y_val = eq_df2[eq_df2['fold'] == dropfold]\n",
    "    y_val = y_val.iloc[:,0].values\n",
    "    \n",
    "    mlp = MLPClassifier(hidden_layer_sizes=(150,150,150,150,150,), max_iter=50000)\n",
    "    mlp.fit(X_train, y_train)\n",
    "    confmat = confusion_matrix(y_val, mlp.predict(X_val))\n",
    "#     acc = 100*confmat[6,6] / (np.sum(confmat[:,6])+np.sum(confmat[6,:]) - confmat[6,6])\n",
    "#     accuracy_vec[dropfold] = np.round(100*accuracy_score(y_train, mlp.predict(X_train)),2)\\\n",
    "#     acc = 100*confmat[1,1] / np.sum(confmat[1,:])\n",
    "    acc= 100*confmat[6,6] / np.sum(confmat[6,:])\n",
    "    accuracy_vec[dropfold-1] = acc\n",
    "    \n",
    "print(accuracy_vec)\n",
    "accuracy_vec.mean()"
   ]
  },
  {
   "cell_type": "code",
   "execution_count": null,
   "id": "6d73b8e5",
   "metadata": {},
   "outputs": [],
   "source": []
  }
 ],
 "metadata": {
  "kernelspec": {
   "display_name": "Python 3 (ipykernel)",
   "language": "python",
   "name": "python3"
  },
  "language_info": {
   "codemirror_mode": {
    "name": "ipython",
    "version": 3
   },
   "file_extension": ".py",
   "mimetype": "text/x-python",
   "name": "python",
   "nbconvert_exporter": "python",
   "pygments_lexer": "ipython3",
   "version": "3.9.12"
  }
 },
 "nbformat": 4,
 "nbformat_minor": 5
}

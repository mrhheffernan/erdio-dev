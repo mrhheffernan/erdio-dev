{
 "cells": [
  {
   "cell_type": "markdown",
   "id": "designed-delay",
   "metadata": {},
   "source": [
    "# Erdio: Testing Classifiers\n",
    "\n",
    "Testing audio classifiers for Project Erdio, an urban environmental sound classifier.\n",
    "\n",
    "Team members (no particular order): Matthew Frick, Matthew Heffernan, Paul Jredini, Jonathan Osborne, Joanne Dong  \n",
    "\n",
    "Goal: Classify sounds for key stakeholders (see Stakeholder and KPI documentation).\n",
    "\n",
    "In those notebook, I'll explore a variety of different classifiers, including Ensemble Learning, in the quest for an optimal classifier. I also investigate the power set to ensure we aren't throwing data at a wall and confusing ourselves."
   ]
  },
  {
   "cell_type": "code",
   "execution_count": 36,
   "id": "false-batch",
   "metadata": {},
   "outputs": [],
   "source": [
    "# Load packages\n",
    "import numpy as np\n",
    "import matplotlib.pyplot as plt\n",
    "import seaborn as sns\n",
    "\n",
    "import pandas as pd\n",
    "\n",
    "# Standard sklearn processing\n",
    "from sklearn.model_selection import train_test_split\n",
    "from sklearn.preprocessing import StandardScaler\n",
    "\n",
    "# sklearn Classifiers\n",
    "from sklearn.neural_network import MLPClassifier\n",
    "from sklearn.neighbors import KNeighborsClassifier\n",
    "from sklearn.svm import SVC\n",
    "from sklearn.gaussian_process import GaussianProcessClassifier\n",
    "from sklearn.gaussian_process.kernels import RBF\n",
    "from sklearn.tree import DecisionTreeClassifier\n",
    "from sklearn.ensemble import RandomForestClassifier, AdaBoostClassifier\n",
    "from sklearn.naive_bayes import GaussianNB\n",
    "from sklearn.discriminant_analysis import QuadraticDiscriminantAnalysis, LinearDiscriminantAnalysis\n",
    "\n",
    "## The VotingClassifier\n",
    "from sklearn.ensemble import VotingClassifier\n",
    "# The Extra Trees Classifier\n",
    "from sklearn.ensemble import ExtraTreesClassifier\n",
    "\n",
    "## import accuracy metric\n",
    "from sklearn.metrics import accuracy_score, confusion_matrix\n",
    "\n",
    "# Define shortcuts for classifiers\n",
    "names = [\n",
    "    \"Nearest Neighbors\",\n",
    "    \"Linear SVM\",\n",
    "    \"RBF SVM\",\n",
    "    #\"Gaussian Process\",\n",
    "    \"Decision Tree\",\n",
    "    \"Random Forest\",\n",
    "    \"Neural Net\",\n",
    "    \"AdaBoost\",\n",
    "    \"Naive Bayes\",\n",
    "    \"QDA\",\n",
    "    \"LDA\",\n",
    "    \"ExtraTrees\"\n",
    "]\n",
    "\n",
    "# Collect classifiers into an iterable\n",
    "## All the hyperparameters below can and should be investigated\n",
    "classifiers = [\n",
    "    KNeighborsClassifier(10),\n",
    "    SVC(kernel=\"linear\", C=0.025),\n",
    "    SVC(gamma=2, C=1),\n",
    "    #GaussianProcessClassifier(1.0 * RBF(1.0)),\n",
    "    DecisionTreeClassifier(max_depth=15),\n",
    "    RandomForestClassifier(max_depth=15, n_estimators=500),\n",
    "    MLPClassifier(alpha=0.1, max_iter=1000),\n",
    "    AdaBoostClassifier(),\n",
    "    GaussianNB(),\n",
    "    QuadraticDiscriminantAnalysis(),\n",
    "    LinearDiscriminantAnalysis(),\n",
    "    ExtraTreesClassifier(n_estimators=500, max_depth=15),\n",
    "]"
   ]
  },
  {
   "cell_type": "markdown",
   "id": "contrary-delivery",
   "metadata": {},
   "source": [
    "## Setting up: Loading data, setting keys"
   ]
  },
  {
   "cell_type": "code",
   "execution_count": 7,
   "id": "quiet-march",
   "metadata": {},
   "outputs": [],
   "source": [
    "# Keys for classifier \n",
    "classify_keys = ['crestfactor','harmonic_power','percussive_power','percussive_hits','harmonic_hits']"
   ]
  },
  {
   "cell_type": "code",
   "execution_count": 8,
   "id": "structural-input",
   "metadata": {},
   "outputs": [],
   "source": [
    "# Load data\n",
    "features_df = pd.read_csv('large_data/eq_with_harmony2.csv')\n",
    "#features_df.dropna() # Drops NaN rows from our feature processing list\n",
    "keys = list(features_df.keys())"
   ]
  },
  {
   "cell_type": "code",
   "execution_count": 9,
   "id": "peaceful-people",
   "metadata": {},
   "outputs": [],
   "source": [
    "use_all = True # Use all features to predict\n",
    "if use_all:\n",
    "    classify_keys = keys[1:]"
   ]
  },
  {
   "cell_type": "code",
   "execution_count": 10,
   "id": "talented-vault",
   "metadata": {},
   "outputs": [
    {
     "data": {
      "text/html": [
       "<div>\n",
       "<style scoped>\n",
       "    .dataframe tbody tr th:only-of-type {\n",
       "        vertical-align: middle;\n",
       "    }\n",
       "\n",
       "    .dataframe tbody tr th {\n",
       "        vertical-align: top;\n",
       "    }\n",
       "\n",
       "    .dataframe thead th {\n",
       "        text-align: right;\n",
       "    }\n",
       "</style>\n",
       "<table border=\"1\" class=\"dataframe\">\n",
       "  <thead>\n",
       "    <tr style=\"text-align: right;\">\n",
       "      <th></th>\n",
       "      <th>eq_0</th>\n",
       "      <th>eq_10</th>\n",
       "      <th>eq_20</th>\n",
       "      <th>eq_30</th>\n",
       "      <th>eq_40</th>\n",
       "      <th>eq_60</th>\n",
       "      <th>eq_80</th>\n",
       "      <th>eq_120</th>\n",
       "      <th>eq_160</th>\n",
       "      <th>eq_230</th>\n",
       "      <th>...</th>\n",
       "      <th>eq_10000</th>\n",
       "      <th>eq_15000</th>\n",
       "      <th>eq_20000</th>\n",
       "      <th>crestfactor</th>\n",
       "      <th>salience</th>\n",
       "      <th>harmonic_power</th>\n",
       "      <th>percussive_power</th>\n",
       "      <th>harmonic_hits</th>\n",
       "      <th>percussive_hits</th>\n",
       "      <th>fold</th>\n",
       "    </tr>\n",
       "  </thead>\n",
       "  <tbody>\n",
       "    <tr>\n",
       "      <th>count</th>\n",
       "      <td>8716.000000</td>\n",
       "      <td>8716.000000</td>\n",
       "      <td>8716.000000</td>\n",
       "      <td>8716.000000</td>\n",
       "      <td>8716.000000</td>\n",
       "      <td>8716.000000</td>\n",
       "      <td>8716.000000</td>\n",
       "      <td>8716.000000</td>\n",
       "      <td>8716.000000</td>\n",
       "      <td>8716.000000</td>\n",
       "      <td>...</td>\n",
       "      <td>8716.000000</td>\n",
       "      <td>8716.000000</td>\n",
       "      <td>8716.000000</td>\n",
       "      <td>8716.000000</td>\n",
       "      <td>8716.000000</td>\n",
       "      <td>8.716000e+03</td>\n",
       "      <td>8.716000e+03</td>\n",
       "      <td>8716.000000</td>\n",
       "      <td>8716.000000</td>\n",
       "      <td>8716.000000</td>\n",
       "    </tr>\n",
       "    <tr>\n",
       "      <th>mean</th>\n",
       "      <td>41.634332</td>\n",
       "      <td>45.598308</td>\n",
       "      <td>50.752586</td>\n",
       "      <td>53.140631</td>\n",
       "      <td>59.671924</td>\n",
       "      <td>63.169449</td>\n",
       "      <td>63.171843</td>\n",
       "      <td>63.612677</td>\n",
       "      <td>63.152834</td>\n",
       "      <td>60.691961</td>\n",
       "      <td>...</td>\n",
       "      <td>10.642786</td>\n",
       "      <td>8.269153</td>\n",
       "      <td>6.631939</td>\n",
       "      <td>8.099284</td>\n",
       "      <td>1.347637</td>\n",
       "      <td>2.365154e-03</td>\n",
       "      <td>2.975918e-04</td>\n",
       "      <td>8.687471</td>\n",
       "      <td>7.756654</td>\n",
       "      <td>5.379302</td>\n",
       "    </tr>\n",
       "    <tr>\n",
       "      <th>std</th>\n",
       "      <td>168.475997</td>\n",
       "      <td>133.597628</td>\n",
       "      <td>123.481864</td>\n",
       "      <td>114.728169</td>\n",
       "      <td>106.402284</td>\n",
       "      <td>98.631372</td>\n",
       "      <td>88.172704</td>\n",
       "      <td>86.485397</td>\n",
       "      <td>83.841994</td>\n",
       "      <td>78.214726</td>\n",
       "      <td>...</td>\n",
       "      <td>13.329756</td>\n",
       "      <td>10.484265</td>\n",
       "      <td>7.540061</td>\n",
       "      <td>5.139644</td>\n",
       "      <td>0.476247</td>\n",
       "      <td>1.340282e-02</td>\n",
       "      <td>1.819918e-03</td>\n",
       "      <td>6.045350</td>\n",
       "      <td>14.152829</td>\n",
       "      <td>2.845214</td>\n",
       "    </tr>\n",
       "    <tr>\n",
       "      <th>min</th>\n",
       "      <td>0.000432</td>\n",
       "      <td>0.000540</td>\n",
       "      <td>0.000594</td>\n",
       "      <td>0.000631</td>\n",
       "      <td>0.001056</td>\n",
       "      <td>0.001074</td>\n",
       "      <td>0.001088</td>\n",
       "      <td>0.001651</td>\n",
       "      <td>0.002765</td>\n",
       "      <td>0.004346</td>\n",
       "      <td>...</td>\n",
       "      <td>0.020673</td>\n",
       "      <td>0.016762</td>\n",
       "      <td>0.014721</td>\n",
       "      <td>1.182664</td>\n",
       "      <td>1.000000</td>\n",
       "      <td>6.659914e-14</td>\n",
       "      <td>3.317685e-10</td>\n",
       "      <td>0.000000</td>\n",
       "      <td>0.000000</td>\n",
       "      <td>1.000000</td>\n",
       "    </tr>\n",
       "    <tr>\n",
       "      <th>25%</th>\n",
       "      <td>1.731955</td>\n",
       "      <td>2.253852</td>\n",
       "      <td>2.917381</td>\n",
       "      <td>3.625459</td>\n",
       "      <td>5.184749</td>\n",
       "      <td>6.714697</td>\n",
       "      <td>8.175204</td>\n",
       "      <td>9.180862</td>\n",
       "      <td>10.190564</td>\n",
       "      <td>10.758853</td>\n",
       "      <td>...</td>\n",
       "      <td>2.777503</td>\n",
       "      <td>2.119473</td>\n",
       "      <td>1.790848</td>\n",
       "      <td>5.111327</td>\n",
       "      <td>1.000000</td>\n",
       "      <td>4.304197e-06</td>\n",
       "      <td>6.007943e-07</td>\n",
       "      <td>4.000000</td>\n",
       "      <td>1.000000</td>\n",
       "      <td>3.000000</td>\n",
       "    </tr>\n",
       "    <tr>\n",
       "      <th>50%</th>\n",
       "      <td>6.842121</td>\n",
       "      <td>8.840524</td>\n",
       "      <td>11.309759</td>\n",
       "      <td>13.351088</td>\n",
       "      <td>20.135643</td>\n",
       "      <td>24.937634</td>\n",
       "      <td>29.654193</td>\n",
       "      <td>31.385491</td>\n",
       "      <td>34.437859</td>\n",
       "      <td>33.856299</td>\n",
       "      <td>...</td>\n",
       "      <td>6.349514</td>\n",
       "      <td>4.868783</td>\n",
       "      <td>4.185566</td>\n",
       "      <td>6.808544</td>\n",
       "      <td>1.000000</td>\n",
       "      <td>2.693467e-05</td>\n",
       "      <td>1.454909e-06</td>\n",
       "      <td>8.000000</td>\n",
       "      <td>3.000000</td>\n",
       "      <td>5.000000</td>\n",
       "    </tr>\n",
       "    <tr>\n",
       "      <th>75%</th>\n",
       "      <td>26.371330</td>\n",
       "      <td>34.466024</td>\n",
       "      <td>41.563213</td>\n",
       "      <td>47.224728</td>\n",
       "      <td>62.856235</td>\n",
       "      <td>75.676024</td>\n",
       "      <td>80.494398</td>\n",
       "      <td>81.788968</td>\n",
       "      <td>80.650246</td>\n",
       "      <td>79.550809</td>\n",
       "      <td>...</td>\n",
       "      <td>13.425704</td>\n",
       "      <td>10.329170</td>\n",
       "      <td>8.901795</td>\n",
       "      <td>9.655690</td>\n",
       "      <td>2.000000</td>\n",
       "      <td>2.997640e-04</td>\n",
       "      <td>1.177675e-05</td>\n",
       "      <td>13.000000</td>\n",
       "      <td>7.000000</td>\n",
       "      <td>8.000000</td>\n",
       "    </tr>\n",
       "    <tr>\n",
       "      <th>max</th>\n",
       "      <td>3546.550091</td>\n",
       "      <td>2167.821913</td>\n",
       "      <td>1556.984098</td>\n",
       "      <td>1364.750299</td>\n",
       "      <td>1192.576708</td>\n",
       "      <td>1011.511983</td>\n",
       "      <td>963.127206</td>\n",
       "      <td>1032.481591</td>\n",
       "      <td>887.508786</td>\n",
       "      <td>847.766325</td>\n",
       "      <td>...</td>\n",
       "      <td>116.073719</td>\n",
       "      <td>96.531130</td>\n",
       "      <td>87.146006</td>\n",
       "      <td>99.133108</td>\n",
       "      <td>2.000000</td>\n",
       "      <td>6.049485e-01</td>\n",
       "      <td>4.137904e-02</td>\n",
       "      <td>41.000000</td>\n",
       "      <td>86.000000</td>\n",
       "      <td>10.000000</td>\n",
       "    </tr>\n",
       "  </tbody>\n",
       "</table>\n",
       "<p>8 rows × 30 columns</p>\n",
       "</div>"
      ],
      "text/plain": [
       "              eq_0        eq_10        eq_20        eq_30        eq_40  \\\n",
       "count  8716.000000  8716.000000  8716.000000  8716.000000  8716.000000   \n",
       "mean     41.634332    45.598308    50.752586    53.140631    59.671924   \n",
       "std     168.475997   133.597628   123.481864   114.728169   106.402284   \n",
       "min       0.000432     0.000540     0.000594     0.000631     0.001056   \n",
       "25%       1.731955     2.253852     2.917381     3.625459     5.184749   \n",
       "50%       6.842121     8.840524    11.309759    13.351088    20.135643   \n",
       "75%      26.371330    34.466024    41.563213    47.224728    62.856235   \n",
       "max    3546.550091  2167.821913  1556.984098  1364.750299  1192.576708   \n",
       "\n",
       "             eq_60        eq_80       eq_120       eq_160       eq_230  ...  \\\n",
       "count  8716.000000  8716.000000  8716.000000  8716.000000  8716.000000  ...   \n",
       "mean     63.169449    63.171843    63.612677    63.152834    60.691961  ...   \n",
       "std      98.631372    88.172704    86.485397    83.841994    78.214726  ...   \n",
       "min       0.001074     0.001088     0.001651     0.002765     0.004346  ...   \n",
       "25%       6.714697     8.175204     9.180862    10.190564    10.758853  ...   \n",
       "50%      24.937634    29.654193    31.385491    34.437859    33.856299  ...   \n",
       "75%      75.676024    80.494398    81.788968    80.650246    79.550809  ...   \n",
       "max    1011.511983   963.127206  1032.481591   887.508786   847.766325  ...   \n",
       "\n",
       "          eq_10000     eq_15000     eq_20000  crestfactor     salience  \\\n",
       "count  8716.000000  8716.000000  8716.000000  8716.000000  8716.000000   \n",
       "mean     10.642786     8.269153     6.631939     8.099284     1.347637   \n",
       "std      13.329756    10.484265     7.540061     5.139644     0.476247   \n",
       "min       0.020673     0.016762     0.014721     1.182664     1.000000   \n",
       "25%       2.777503     2.119473     1.790848     5.111327     1.000000   \n",
       "50%       6.349514     4.868783     4.185566     6.808544     1.000000   \n",
       "75%      13.425704    10.329170     8.901795     9.655690     2.000000   \n",
       "max     116.073719    96.531130    87.146006    99.133108     2.000000   \n",
       "\n",
       "       harmonic_power  percussive_power  harmonic_hits  percussive_hits  \\\n",
       "count    8.716000e+03      8.716000e+03    8716.000000      8716.000000   \n",
       "mean     2.365154e-03      2.975918e-04       8.687471         7.756654   \n",
       "std      1.340282e-02      1.819918e-03       6.045350        14.152829   \n",
       "min      6.659914e-14      3.317685e-10       0.000000         0.000000   \n",
       "25%      4.304197e-06      6.007943e-07       4.000000         1.000000   \n",
       "50%      2.693467e-05      1.454909e-06       8.000000         3.000000   \n",
       "75%      2.997640e-04      1.177675e-05      13.000000         7.000000   \n",
       "max      6.049485e-01      4.137904e-02      41.000000        86.000000   \n",
       "\n",
       "              fold  \n",
       "count  8716.000000  \n",
       "mean      5.379302  \n",
       "std       2.845214  \n",
       "min       1.000000  \n",
       "25%       3.000000  \n",
       "50%       5.000000  \n",
       "75%       8.000000  \n",
       "max      10.000000  \n",
       "\n",
       "[8 rows x 30 columns]"
      ]
     },
     "execution_count": 10,
     "metadata": {},
     "output_type": "execute_result"
    }
   ],
   "source": [
    "features_df.describe()"
   ]
  },
  {
   "cell_type": "code",
   "execution_count": 11,
   "id": "special-baltimore",
   "metadata": {},
   "outputs": [
    {
     "data": {
      "text/plain": [
       "(array([], dtype=int64), array([], dtype=int64))"
      ]
     },
     "execution_count": 11,
     "metadata": {},
     "output_type": "execute_result"
    }
   ],
   "source": [
    "# Searching for NaNs in input\n",
    "np.where(np.isnan(features_df[classify_keys].values) == 1)"
   ]
  },
  {
   "cell_type": "markdown",
   "id": "descending-nurse",
   "metadata": {},
   "source": [
    "Now that we've loaded the data, I'll drop a fold as recommended by the documentation."
   ]
  },
  {
   "cell_type": "code",
   "execution_count": 12,
   "id": "arabic-promotion",
   "metadata": {},
   "outputs": [],
   "source": [
    "dropfold = 1\n",
    "\n",
    "cv_features_df = features_df.drop(features_df[features_df['fold']==dropfold].index)\n",
    "validation_features_df = features_df.drop(features_df[features_df['fold']!=dropfold].index)"
   ]
  },
  {
   "cell_type": "code",
   "execution_count": 13,
   "id": "local-jackson",
   "metadata": {},
   "outputs": [
    {
     "data": {
      "text/html": [
       "<div>\n",
       "<style scoped>\n",
       "    .dataframe tbody tr th:only-of-type {\n",
       "        vertical-align: middle;\n",
       "    }\n",
       "\n",
       "    .dataframe tbody tr th {\n",
       "        vertical-align: top;\n",
       "    }\n",
       "\n",
       "    .dataframe thead th {\n",
       "        text-align: right;\n",
       "    }\n",
       "</style>\n",
       "<table border=\"1\" class=\"dataframe\">\n",
       "  <thead>\n",
       "    <tr style=\"text-align: right;\">\n",
       "      <th></th>\n",
       "      <th>class</th>\n",
       "      <th>eq_0</th>\n",
       "      <th>eq_10</th>\n",
       "      <th>eq_20</th>\n",
       "      <th>eq_30</th>\n",
       "      <th>eq_40</th>\n",
       "      <th>eq_60</th>\n",
       "      <th>eq_80</th>\n",
       "      <th>eq_120</th>\n",
       "      <th>eq_160</th>\n",
       "      <th>...</th>\n",
       "      <th>eq_10000</th>\n",
       "      <th>eq_15000</th>\n",
       "      <th>eq_20000</th>\n",
       "      <th>crestfactor</th>\n",
       "      <th>salience</th>\n",
       "      <th>harmonic_power</th>\n",
       "      <th>percussive_power</th>\n",
       "      <th>harmonic_hits</th>\n",
       "      <th>percussive_hits</th>\n",
       "      <th>fold</th>\n",
       "    </tr>\n",
       "  </thead>\n",
       "  <tbody>\n",
       "    <tr>\n",
       "      <th>0</th>\n",
       "      <td>dog_bark</td>\n",
       "      <td>0.042073</td>\n",
       "      <td>0.037768</td>\n",
       "      <td>0.037040</td>\n",
       "      <td>0.040564</td>\n",
       "      <td>0.103124</td>\n",
       "      <td>0.126494</td>\n",
       "      <td>0.166781</td>\n",
       "      <td>0.199152</td>\n",
       "      <td>0.419491</td>\n",
       "      <td>...</td>\n",
       "      <td>7.060339</td>\n",
       "      <td>5.324175</td>\n",
       "      <td>4.841554</td>\n",
       "      <td>7.006769</td>\n",
       "      <td>1</td>\n",
       "      <td>0.000005</td>\n",
       "      <td>2.825963e-03</td>\n",
       "      <td>5</td>\n",
       "      <td>1</td>\n",
       "      <td>5</td>\n",
       "    </tr>\n",
       "    <tr>\n",
       "      <th>1</th>\n",
       "      <td>children_playing</td>\n",
       "      <td>7.185887</td>\n",
       "      <td>6.910740</td>\n",
       "      <td>7.921071</td>\n",
       "      <td>7.460572</td>\n",
       "      <td>7.698635</td>\n",
       "      <td>7.091304</td>\n",
       "      <td>6.637689</td>\n",
       "      <td>5.694018</td>\n",
       "      <td>4.534828</td>\n",
       "      <td>...</td>\n",
       "      <td>0.556369</td>\n",
       "      <td>0.417778</td>\n",
       "      <td>0.379089</td>\n",
       "      <td>11.940308</td>\n",
       "      <td>1</td>\n",
       "      <td>0.000006</td>\n",
       "      <td>2.081879e-05</td>\n",
       "      <td>11</td>\n",
       "      <td>0</td>\n",
       "      <td>5</td>\n",
       "    </tr>\n",
       "    <tr>\n",
       "      <th>2</th>\n",
       "      <td>children_playing</td>\n",
       "      <td>6.597605</td>\n",
       "      <td>6.398027</td>\n",
       "      <td>6.016003</td>\n",
       "      <td>6.052477</td>\n",
       "      <td>5.801635</td>\n",
       "      <td>5.684627</td>\n",
       "      <td>5.734884</td>\n",
       "      <td>4.941867</td>\n",
       "      <td>4.015981</td>\n",
       "      <td>...</td>\n",
       "      <td>0.319594</td>\n",
       "      <td>0.240222</td>\n",
       "      <td>0.218051</td>\n",
       "      <td>8.454538</td>\n",
       "      <td>1</td>\n",
       "      <td>0.000016</td>\n",
       "      <td>3.140698e-07</td>\n",
       "      <td>6</td>\n",
       "      <td>2</td>\n",
       "      <td>5</td>\n",
       "    </tr>\n",
       "    <tr>\n",
       "      <th>3</th>\n",
       "      <td>children_playing</td>\n",
       "      <td>5.929216</td>\n",
       "      <td>5.157348</td>\n",
       "      <td>5.165380</td>\n",
       "      <td>5.563031</td>\n",
       "      <td>5.046141</td>\n",
       "      <td>5.564920</td>\n",
       "      <td>5.776320</td>\n",
       "      <td>6.222735</td>\n",
       "      <td>5.007891</td>\n",
       "      <td>...</td>\n",
       "      <td>0.808725</td>\n",
       "      <td>0.608560</td>\n",
       "      <td>0.552146</td>\n",
       "      <td>9.255638</td>\n",
       "      <td>1</td>\n",
       "      <td>0.000011</td>\n",
       "      <td>8.845374e-05</td>\n",
       "      <td>11</td>\n",
       "      <td>4</td>\n",
       "      <td>5</td>\n",
       "    </tr>\n",
       "    <tr>\n",
       "      <th>4</th>\n",
       "      <td>children_playing</td>\n",
       "      <td>8.538324</td>\n",
       "      <td>6.440980</td>\n",
       "      <td>6.393698</td>\n",
       "      <td>7.740646</td>\n",
       "      <td>7.195990</td>\n",
       "      <td>7.131680</td>\n",
       "      <td>6.614982</td>\n",
       "      <td>5.932448</td>\n",
       "      <td>4.940455</td>\n",
       "      <td>...</td>\n",
       "      <td>0.450104</td>\n",
       "      <td>0.338348</td>\n",
       "      <td>0.307133</td>\n",
       "      <td>6.102388</td>\n",
       "      <td>1</td>\n",
       "      <td>0.000028</td>\n",
       "      <td>5.712090e-07</td>\n",
       "      <td>16</td>\n",
       "      <td>0</td>\n",
       "      <td>5</td>\n",
       "    </tr>\n",
       "  </tbody>\n",
       "</table>\n",
       "<p>5 rows × 31 columns</p>\n",
       "</div>"
      ],
      "text/plain": [
       "              class      eq_0     eq_10     eq_20     eq_30     eq_40  \\\n",
       "0          dog_bark  0.042073  0.037768  0.037040  0.040564  0.103124   \n",
       "1  children_playing  7.185887  6.910740  7.921071  7.460572  7.698635   \n",
       "2  children_playing  6.597605  6.398027  6.016003  6.052477  5.801635   \n",
       "3  children_playing  5.929216  5.157348  5.165380  5.563031  5.046141   \n",
       "4  children_playing  8.538324  6.440980  6.393698  7.740646  7.195990   \n",
       "\n",
       "      eq_60     eq_80    eq_120    eq_160  ...  eq_10000  eq_15000  eq_20000  \\\n",
       "0  0.126494  0.166781  0.199152  0.419491  ...  7.060339  5.324175  4.841554   \n",
       "1  7.091304  6.637689  5.694018  4.534828  ...  0.556369  0.417778  0.379089   \n",
       "2  5.684627  5.734884  4.941867  4.015981  ...  0.319594  0.240222  0.218051   \n",
       "3  5.564920  5.776320  6.222735  5.007891  ...  0.808725  0.608560  0.552146   \n",
       "4  7.131680  6.614982  5.932448  4.940455  ...  0.450104  0.338348  0.307133   \n",
       "\n",
       "   crestfactor  salience  harmonic_power  percussive_power  harmonic_hits  \\\n",
       "0     7.006769         1        0.000005      2.825963e-03              5   \n",
       "1    11.940308         1        0.000006      2.081879e-05             11   \n",
       "2     8.454538         1        0.000016      3.140698e-07              6   \n",
       "3     9.255638         1        0.000011      8.845374e-05             11   \n",
       "4     6.102388         1        0.000028      5.712090e-07             16   \n",
       "\n",
       "   percussive_hits  fold  \n",
       "0                1     5  \n",
       "1                0     5  \n",
       "2                2     5  \n",
       "3                4     5  \n",
       "4                0     5  \n",
       "\n",
       "[5 rows x 31 columns]"
      ]
     },
     "execution_count": 13,
     "metadata": {},
     "output_type": "execute_result"
    }
   ],
   "source": [
    "cv_features_df.head()"
   ]
  },
  {
   "cell_type": "code",
   "execution_count": 14,
   "id": "genetic-scope",
   "metadata": {},
   "outputs": [
    {
     "data": {
      "image/png": "[encoded data removed]",
      "text/plain": [
       "<Figure size 792x360 with 1 Axes>"
      ]
     },
     "metadata": {
      "needs_background": "light"
     },
     "output_type": "display_data"
    }
   ],
   "source": [
    "plt.figure(figsize=(11,5))\n",
    "sns.stripplot(data = cv_features_df,\n",
    "             x = 'class',\n",
    "             y = 'eq_20000')\n",
    "plt.tight_layout()\n",
    "plt.show()"
   ]
  },
  {
   "cell_type": "code",
   "execution_count": 41,
   "id": "economic-telescope",
   "metadata": {},
   "outputs": [],
   "source": [
    "def TPR(prediction, data):\n",
    "    \"\"\"\n",
    "    Returns True Positive Ratio given a prediction and data\n",
    "    \"\"\"\n",
    "    confmat = confusion_matrix(prediction, data)\n",
    "\n",
    "    TN = confmat[0,0]\n",
    "    FP = confmat[0,1]\n",
    "    FN = confmat[1,0]\n",
    "    TP = confmat[1,1]\n",
    "    \n",
    "    return TP / (TP + FN)\n",
    "    "
   ]
  },
  {
   "cell_type": "code",
   "execution_count": null,
   "id": "suburban-sweden",
   "metadata": {},
   "outputs": [],
   "source": [
    "def Fmeasure(prediction, data):\n",
    "    \"\"\"\n",
    "    Returns Fmeasure. \n",
    "    \n",
    "    This is considered a balance of the precision and the recall.\n",
    "    \n",
    "    F = (2*P*R)/(P+R)\n",
    "    \n",
    "    where\n",
    "    \n",
    "    P = TP/(TP + FP) is the precision and\n",
    "    R = TP/(TP + FN) is the recall.\n",
    "    \n",
    "    Reference: \n",
    "    Müller, Meinard. Fundamentals of music processing: Audio, analysis, algorithms, applications. \n",
    "    Vol. 5. Cham: Springer, 2015.\n",
    "    Sec. 4.5 pp. 217\n",
    "    \"\"\"\n",
    "    confmat = confusion_matrix(prediction, data)\n",
    "\n",
    "    TN = confmat[0,0]\n",
    "    FP = confmat[0,1]\n",
    "    FN = confmat[1,0]\n",
    "    TP = confmat[1,1]\n",
    "    \n",
    "    P = TP/(TP + FP)\n",
    "    R = TP/(TP + FN)\n",
    "    \n",
    "    F = (2*P*R)/(P + R)\n",
    "    return F\n",
    "    "
   ]
  },
  {
   "cell_type": "markdown",
   "id": "responsible-lottery",
   "metadata": {},
   "source": [
    "## Establishing a baseline: The Random Forest"
   ]
  },
  {
   "cell_type": "code",
   "execution_count": 15,
   "id": "creative-longitude",
   "metadata": {},
   "outputs": [],
   "source": [
    "forest = RandomForestClassifier(max_depth=25, n_estimators=1000, n_jobs=4) "
   ]
  },
  {
   "cell_type": "code",
   "execution_count": 16,
   "id": "dressed-amino",
   "metadata": {},
   "outputs": [],
   "source": [
    "if len(classify_keys) == 1:\n",
    "    X_train = cv_features_df[classify_keys[0]].values.reshape(-1,1)\n",
    "else:\n",
    "    X_train = cv_features_df[classify_keys].values\n",
    "    \n",
    "y_train = cv_features_df['class'].values\n",
    "\n",
    "X_test = validation_features_df[classify_keys].values\n",
    "y_test = validation_features_df['class']"
   ]
  },
  {
   "cell_type": "code",
   "execution_count": 17,
   "id": "closed-blocking",
   "metadata": {},
   "outputs": [
    {
     "data": {
      "text/plain": [
       "set()"
      ]
     },
     "execution_count": 17,
     "metadata": {},
     "output_type": "execute_result"
    }
   ],
   "source": [
    "set(np.where(np.isnan(X_train) == 1)[0])"
   ]
  },
  {
   "cell_type": "code",
   "execution_count": 18,
   "id": "internal-modem",
   "metadata": {},
   "outputs": [
    {
     "data": {
      "text/plain": [
       "RandomForestClassifier(max_depth=25, n_estimators=1000, n_jobs=4)"
      ]
     },
     "execution_count": 18,
     "metadata": {},
     "output_type": "execute_result"
    }
   ],
   "source": [
    "forest.fit(X_train, y_train)"
   ]
  },
  {
   "cell_type": "code",
   "execution_count": 19,
   "id": "natural-titanium",
   "metadata": {},
   "outputs": [],
   "source": [
    "pred = forest.predict(X_test)"
   ]
  },
  {
   "cell_type": "code",
   "execution_count": 20,
   "id": "unsigned-duplicate",
   "metadata": {},
   "outputs": [
    {
     "data": {
      "text/plain": [
       "0.49828178694158076"
      ]
     },
     "execution_count": 20,
     "metadata": {},
     "output_type": "execute_result"
    }
   ],
   "source": [
    "accuracy_score(pred,y_test)"
   ]
  },
  {
   "cell_type": "code",
   "execution_count": 21,
   "id": "fancy-marks",
   "metadata": {},
   "outputs": [
    {
     "data": {
      "text/plain": [
       "array([0.03323682, 0.03214246, 0.02923297, 0.0298364 , 0.02991064,\n",
       "       0.03072522, 0.03022954, 0.03111734, 0.03619993, 0.04079557,\n",
       "       0.03507978, 0.03369394, 0.02918203, 0.02948576, 0.0311342 ,\n",
       "       0.026871  , 0.02232775, 0.02073845, 0.02165877, 0.02476572,\n",
       "       0.03142062, 0.03322886, 0.0330845 , 0.05944801, 0.02722038,\n",
       "       0.05152416, 0.05564462, 0.01630938, 0.05823   , 0.03552516])"
      ]
     },
     "execution_count": 21,
     "metadata": {},
     "output_type": "execute_result"
    }
   ],
   "source": [
    "forest.feature_importances_"
   ]
  },
  {
   "cell_type": "markdown",
   "id": "formed-deviation",
   "metadata": {},
   "source": [
    "### Trying another model: A simple NN"
   ]
  },
  {
   "cell_type": "code",
   "execution_count": 22,
   "id": "essential-kinase",
   "metadata": {},
   "outputs": [],
   "source": [
    "mlp = MLPClassifier(alpha=0.001, max_iter=1000)"
   ]
  },
  {
   "cell_type": "code",
   "execution_count": 23,
   "id": "south-insulation",
   "metadata": {},
   "outputs": [
    {
     "data": {
      "text/plain": [
       "MLPClassifier(alpha=0.001, max_iter=1000)"
      ]
     },
     "execution_count": 23,
     "metadata": {},
     "output_type": "execute_result"
    }
   ],
   "source": [
    "mlp.fit(X_train, y_train)"
   ]
  },
  {
   "cell_type": "code",
   "execution_count": 24,
   "id": "vietnamese-montreal",
   "metadata": {},
   "outputs": [],
   "source": [
    "pred_mlp = mlp.predict(X_test)"
   ]
  },
  {
   "cell_type": "code",
   "execution_count": 25,
   "id": "accomplished-router",
   "metadata": {},
   "outputs": [
    {
     "data": {
      "text/plain": [
       "0.46964490263459335"
      ]
     },
     "execution_count": 25,
     "metadata": {},
     "output_type": "execute_result"
    }
   ],
   "source": [
    "accuracy_score(pred_mlp,y_test)"
   ]
  },
  {
   "cell_type": "markdown",
   "id": "durable-washer",
   "metadata": {},
   "source": [
    "## Looping through specified models"
   ]
  },
  {
   "cell_type": "code",
   "execution_count": 42,
   "id": "eleven-inspiration",
   "metadata": {},
   "outputs": [
    {
     "name": "stdout",
     "output_type": "stream",
     "text": [
      "Nearest Neighbors Classifier accuracy score: 0.40893470790378006\n",
      "Nearest Neighbors Classifier TPR: 0.7\n",
      "Linear SVM Classifier accuracy score: 0.5315005727376861\n",
      "Linear SVM Classifier TPR: 0.72\n",
      "RBF SVM Classifier accuracy score: 0.10996563573883161\n",
      "RBF SVM Classifier TPR: nan\n"
     ]
    },
    {
     "name": "stderr",
     "output_type": "stream",
     "text": [
      "<ipython-input-41-9dad0e52d676>:9: RuntimeWarning: invalid value encountered in long_scalars\n",
      "  return TP/ (TP+FN)\n"
     ]
    },
    {
     "name": "stdout",
     "output_type": "stream",
     "text": [
      "Decision Tree Classifier accuracy score: 0.38717067583046966\n",
      "Decision Tree Classifier TPR: 0.875\n",
      "Random Forest Classifier accuracy score: 0.4936998854524628\n",
      "Random Forest Classifier TPR: 0.8461538461538461\n",
      "Neural Net Classifier accuracy score: 0.46048109965635736\n",
      "Neural Net Classifier TPR: 0.6923076923076923\n",
      "AdaBoost Classifier accuracy score: 0.34822451317296677\n",
      "AdaBoost Classifier TPR: 0.8571428571428571\n",
      "Naive Bayes Classifier accuracy score: 0.284077892325315\n",
      "Naive Bayes Classifier TPR: 1.0\n",
      "QDA Classifier accuracy score: 0.4833906071019473\n",
      "QDA Classifier TPR: 0.9375\n",
      "LDA Classifier accuracy score: 0.5189003436426117\n",
      "LDA Classifier TPR: 0.36\n",
      "ExtraTrees Classifier accuracy score: 0.43986254295532645\n",
      "ExtraTrees Classifier TPR: 1.0\n"
     ]
    }
   ],
   "source": [
    "for i, classifier in enumerate(classifiers):\n",
    "\n",
    "    classifier.fit(X_train, y_train)\n",
    "    pred = classifier.predict(X_test)\n",
    "    print(f'{names[i]} Classifier accuracy score: {accuracy_score(y_test, pred)}')\n",
    "    print(f'{names[i]} Classifier TPR: {TPR(y_test, pred)}')"
   ]
  },
  {
   "cell_type": "markdown",
   "id": "nonprofit-blast",
   "metadata": {},
   "source": [
    "## Trying out a Voting Classifier to beat the others"
   ]
  },
  {
   "cell_type": "code",
   "execution_count": 43,
   "id": "enormous-travel",
   "metadata": {},
   "outputs": [],
   "source": [
    "voter_list = [(names[i], classifiers[i]) for i in range(len(names))]"
   ]
  },
  {
   "cell_type": "code",
   "execution_count": 44,
   "id": "statistical-flavor",
   "metadata": {},
   "outputs": [],
   "source": [
    "voting = VotingClassifier(voter_list,\n",
    "                         voting='hard')"
   ]
  },
  {
   "cell_type": "code",
   "execution_count": 45,
   "id": "ceramic-bailey",
   "metadata": {},
   "outputs": [
    {
     "data": {
      "text/plain": [
       "VotingClassifier(estimators=[('Nearest Neighbors',\n",
       "                              KNeighborsClassifier(n_neighbors=10)),\n",
       "                             ('Linear SVM', SVC(C=0.025, kernel='linear')),\n",
       "                             ('RBF SVM', SVC(C=1, gamma=2)),\n",
       "                             ('Decision Tree',\n",
       "                              DecisionTreeClassifier(max_depth=15)),\n",
       "                             ('Random Forest',\n",
       "                              RandomForestClassifier(max_depth=15,\n",
       "                                                     n_estimators=500)),\n",
       "                             ('Neural Net',\n",
       "                              MLPClassifier(alpha=0.1, max_iter=1000)),\n",
       "                             ('AdaBoost', AdaBoostClassifier()),\n",
       "                             ('Naive Bayes', GaussianNB()),\n",
       "                             ('QDA', QuadraticDiscriminantAnalysis()),\n",
       "                             ('LDA', LinearDiscriminantAnalysis()),\n",
       "                             ('ExtraTrees',\n",
       "                              ExtraTreesClassifier(max_depth=15,\n",
       "                                                   n_estimators=500))])"
      ]
     },
     "execution_count": 45,
     "metadata": {},
     "output_type": "execute_result"
    }
   ],
   "source": [
    "voting.fit(X_train, y_train)"
   ]
  },
  {
   "cell_type": "code",
   "execution_count": 48,
   "id": "timely-romania",
   "metadata": {},
   "outputs": [],
   "source": [
    "vpred = voting.predict(X_test)\n"
   ]
  },
  {
   "cell_type": "code",
   "execution_count": 49,
   "id": "illegal-bundle",
   "metadata": {},
   "outputs": [
    {
     "data": {
      "text/plain": [
       "0.5601374570446735"
      ]
     },
     "execution_count": 49,
     "metadata": {},
     "output_type": "execute_result"
    }
   ],
   "source": [
    "accuracy_score(y_test,vpred)"
   ]
  },
  {
   "cell_type": "code",
   "execution_count": 50,
   "id": "medical-brave",
   "metadata": {},
   "outputs": [
    {
     "data": {
      "text/plain": [
       "0.8461538461538461"
      ]
     },
     "execution_count": 50,
     "metadata": {},
     "output_type": "execute_result"
    }
   ],
   "source": [
    "TPR(y_test,vpred)"
   ]
  },
  {
   "cell_type": "markdown",
   "id": "fallen-finland",
   "metadata": {},
   "source": [
    "## Considering all folds in validation"
   ]
  },
  {
   "cell_type": "code",
   "execution_count": 56,
   "id": "acute-convert",
   "metadata": {},
   "outputs": [],
   "source": [
    "accuracies = np.zeros((len(names),11))\n",
    "TPRs = np.zeros((len(names),11))"
   ]
  },
  {
   "cell_type": "code",
   "execution_count": 57,
   "id": "spanish-relevance",
   "metadata": {},
   "outputs": [
    {
     "name": "stdout",
     "output_type": "stream",
     "text": [
      "1 0\n",
      "1 1\n",
      "1 2\n"
     ]
    },
    {
     "name": "stderr",
     "output_type": "stream",
     "text": [
      "<ipython-input-41-9dad0e52d676>:9: RuntimeWarning: invalid value encountered in long_scalars\n",
      "  return TP/ (TP+FN)\n"
     ]
    },
    {
     "name": "stdout",
     "output_type": "stream",
     "text": [
      "1 3\n",
      "1 4\n",
      "1 5\n",
      "1 6\n",
      "1 7\n",
      "1 8\n",
      "1 9\n",
      "1 10\n",
      "2 0\n",
      "2 1\n",
      "2 2\n"
     ]
    },
    {
     "name": "stderr",
     "output_type": "stream",
     "text": [
      "<ipython-input-41-9dad0e52d676>:9: RuntimeWarning: invalid value encountered in long_scalars\n",
      "  return TP/ (TP+FN)\n"
     ]
    },
    {
     "name": "stdout",
     "output_type": "stream",
     "text": [
      "2 3\n",
      "2 4\n",
      "2 5\n",
      "2 6\n",
      "2 7\n",
      "2 8\n",
      "2 9\n",
      "2 10\n",
      "3 0\n",
      "3 1\n",
      "3 2\n"
     ]
    },
    {
     "name": "stderr",
     "output_type": "stream",
     "text": [
      "<ipython-input-41-9dad0e52d676>:9: RuntimeWarning: invalid value encountered in long_scalars\n",
      "  return TP/ (TP+FN)\n"
     ]
    },
    {
     "name": "stdout",
     "output_type": "stream",
     "text": [
      "3 3\n",
      "3 4\n",
      "3 5\n",
      "3 6\n",
      "3 7\n",
      "3 8\n",
      "3 9\n",
      "3 10\n",
      "4 0\n",
      "4 1\n",
      "4 2\n"
     ]
    },
    {
     "name": "stderr",
     "output_type": "stream",
     "text": [
      "<ipython-input-41-9dad0e52d676>:9: RuntimeWarning: invalid value encountered in long_scalars\n",
      "  return TP/ (TP+FN)\n"
     ]
    },
    {
     "name": "stdout",
     "output_type": "stream",
     "text": [
      "4 3\n",
      "4 4\n",
      "4 5\n",
      "4 6\n",
      "4 7\n",
      "4 8\n",
      "4 9\n",
      "4 10\n",
      "5 0\n",
      "5 1\n",
      "5 2\n"
     ]
    },
    {
     "name": "stderr",
     "output_type": "stream",
     "text": [
      "<ipython-input-41-9dad0e52d676>:9: RuntimeWarning: invalid value encountered in long_scalars\n",
      "  return TP/ (TP+FN)\n"
     ]
    },
    {
     "name": "stdout",
     "output_type": "stream",
     "text": [
      "5 3\n",
      "5 4\n",
      "5 5\n",
      "5 6\n",
      "5 7\n",
      "5 8\n",
      "5 9\n",
      "5 10\n",
      "6 0\n",
      "6 1\n",
      "6 2\n"
     ]
    },
    {
     "name": "stderr",
     "output_type": "stream",
     "text": [
      "<ipython-input-41-9dad0e52d676>:9: RuntimeWarning: invalid value encountered in long_scalars\n",
      "  return TP/ (TP+FN)\n"
     ]
    },
    {
     "name": "stdout",
     "output_type": "stream",
     "text": [
      "6 3\n",
      "6 4\n",
      "6 5\n",
      "6 6\n",
      "6 7\n",
      "6 8\n",
      "6 9\n",
      "6 10\n",
      "7 0\n",
      "7 1\n",
      "7 2\n"
     ]
    },
    {
     "name": "stderr",
     "output_type": "stream",
     "text": [
      "<ipython-input-41-9dad0e52d676>:9: RuntimeWarning: invalid value encountered in long_scalars\n",
      "  return TP/ (TP+FN)\n"
     ]
    },
    {
     "name": "stdout",
     "output_type": "stream",
     "text": [
      "7 3\n",
      "7 4\n",
      "7 5\n",
      "7 6\n",
      "7 7\n",
      "7 8\n",
      "7 9\n",
      "7 10\n",
      "8 0\n",
      "8 1\n",
      "8 2\n"
     ]
    },
    {
     "name": "stderr",
     "output_type": "stream",
     "text": [
      "<ipython-input-41-9dad0e52d676>:9: RuntimeWarning: invalid value encountered in long_scalars\n",
      "  return TP/ (TP+FN)\n"
     ]
    },
    {
     "name": "stdout",
     "output_type": "stream",
     "text": [
      "8 3\n",
      "8 4\n",
      "8 5\n",
      "8 6\n",
      "8 7\n",
      "8 8\n",
      "8 9\n",
      "8 10\n",
      "9 0\n",
      "9 1\n",
      "9 2\n"
     ]
    },
    {
     "name": "stderr",
     "output_type": "stream",
     "text": [
      "<ipython-input-41-9dad0e52d676>:9: RuntimeWarning: invalid value encountered in long_scalars\n",
      "  return TP/ (TP+FN)\n"
     ]
    },
    {
     "name": "stdout",
     "output_type": "stream",
     "text": [
      "9 3\n",
      "9 4\n",
      "9 5\n",
      "9 6\n",
      "9 7\n",
      "9 8\n",
      "9 9\n",
      "9 10\n",
      "10 0\n",
      "10 1\n",
      "10 2\n"
     ]
    },
    {
     "name": "stderr",
     "output_type": "stream",
     "text": [
      "<ipython-input-41-9dad0e52d676>:9: RuntimeWarning: invalid value encountered in long_scalars\n",
      "  return TP/ (TP+FN)\n"
     ]
    },
    {
     "name": "stdout",
     "output_type": "stream",
     "text": [
      "10 3\n",
      "10 4\n",
      "10 5\n",
      "10 6\n",
      "10 7\n",
      "10 8\n",
      "10 9\n",
      "10 10\n"
     ]
    }
   ],
   "source": [
    "for dropfold in range(1,11):\n",
    "\n",
    "    cv_features_df = features_df.drop(features_df[features_df['fold']==dropfold].index)\n",
    "    validation_features_df = features_df.drop(features_df[features_df['fold']!=dropfold].index)\n",
    "\n",
    "    if len(classify_keys) == 1:\n",
    "        X_train = cv_features_df[classify_keys[0]].values.reshape(-1,1)\n",
    "    else:\n",
    "        X_train = cv_features_df[classify_keys].values\n",
    "\n",
    "    y_train = cv_features_df['class'].values\n",
    "\n",
    "    X_test = validation_features_df[classify_keys].values\n",
    "    y_test = validation_features_df['class']\n",
    "\n",
    "    for i, classifier in enumerate(classifiers):\n",
    "        print(dropfold, i)\n",
    "        classifier.fit(X_train, y_train)\n",
    "        pred = classifier.predict(X_test)\n",
    "        \n",
    "        accuracies[dropfold][i] = accuracy_score(y_test, pred)\n",
    "        TPRs[dropfold][i] = TPR(y_test, pred)\n",
    "        \n",
    "        #print(f'{names[i]} Classifier accuracy score: {accuracy_score(y_test, pred)}')\n",
    "        #print(f'{names[i]} Classifier TPR: {TPR(y_test, pred)}')"
   ]
  },
  {
   "cell_type": "code",
   "execution_count": 71,
   "id": "gothic-viewer",
   "metadata": {},
   "outputs": [],
   "source": [
    "TPRs_final = np.mean(TPRs[1:],axis=0)\n",
    "accuracies_final = np.mean(accuracies[1:],axis=0)"
   ]
  },
  {
   "cell_type": "code",
   "execution_count": 73,
   "id": "preceding-indian",
   "metadata": {},
   "outputs": [
    {
     "name": "stdout",
     "output_type": "stream",
     "text": [
      "Nearest Neighbors accuracy: 0.3781269830513282\n",
      "Linear SVM accuracy: 0.5198426335102768\n",
      "RBF SVM accuracy: 0.10146429853125286\n",
      "Decision Tree accuracy: 0.4130136377174594\n",
      "Random Forest accuracy: 0.5389667933141233\n",
      "Neural Net accuracy: 0.5076092248413605\n",
      "AdaBoost accuracy: 0.38351916605531977\n",
      "Naive Bayes accuracy: 0.28576385159200074\n",
      "QDA accuracy: 0.4546373429373478\n",
      "LDA accuracy: 0.45704257917958024\n",
      "ExtraTrees accuracy: 0.47797665150361823\n"
     ]
    }
   ],
   "source": [
    "for i,name in enumerate(names):\n",
    "    print(f'{name} accuracy: {accuracies_final[i]}')"
   ]
  },
  {
   "cell_type": "code",
   "execution_count": 74,
   "id": "developed-recall",
   "metadata": {},
   "outputs": [
    {
     "name": "stdout",
     "output_type": "stream",
     "text": [
      "Nearest Neighbors TPR: 0.49146367984335626\n",
      "Linear SVM TPR: 0.6217840738022912\n",
      "RBF SVM TPR: nan\n",
      "Decision Tree TPR: 0.79232468343016\n",
      "Random Forest TPR: 0.8499818735802718\n",
      "Neural Net TPR: 0.7566500166500166\n",
      "AdaBoost TPR: 0.7429820875718709\n",
      "Naive Bayes TPR: 0.7343223443223442\n",
      "QDA TPR: 0.7985885138593216\n",
      "LDA TPR: 0.49020268666836164\n",
      "ExtraTrees TPR: 0.6901424233661075\n"
     ]
    }
   ],
   "source": [
    "for i,name in enumerate(names):\n",
    "    print(f'{name} TPR: {TPRs_final[i]}')"
   ]
  },
  {
   "cell_type": "code",
   "execution_count": null,
   "id": "loved-savannah",
   "metadata": {},
   "outputs": [],
   "source": []
  }
 ],
 "metadata": {
  "kernelspec": {
   "display_name": "Python 3",
   "language": "python",
   "name": "python3"
  },
  "language_info": {
   "codemirror_mode": {
    "name": "ipython",
    "version": 3
   },
   "file_extension": ".py",
   "mimetype": "text/x-python",
   "name": "python",
   "nbconvert_exporter": "python",
   "pygments_lexer": "ipython3",
   "version": "3.8.0"
  }
 },
 "nbformat": 4,
 "nbformat_minor": 5
}

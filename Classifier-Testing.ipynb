{
 "cells": [
  {
   "cell_type": "markdown",
   "id": "controversial-cleaner",
   "metadata": {},
   "source": [
    "# Erdio: Testing Classifiers\n",
    "\n",
    "Testing audio classifiers for Project Erdio, an urban environmental sound classifier.\n",
    "\n",
    "Team members (no particular order): Matthew Frick, Matthew Heffernan, Paul Jredini\n",
    "\n",
    "Goal: Classify sounds for key stakeholders (see Stakeholder and KPI documentation).\n",
    "\n",
    "In those notebook, I'll explore a variety of different classifiers, including Ensemble Learning, in the quest for an optimal classifier. I also investigate the power set to ensure we aren't throwing data at a wall and confusing ourselves."
   ]
  },
  {
   "cell_type": "markdown",
   "id": "incorrect-sessions",
   "metadata": {},
   "source": [
    "### Remaining things to do:\n",
    "\n",
    "- Tune the top candidates better and produce some plots"
   ]
  },
  {
   "cell_type": "code",
   "execution_count": 64,
   "id": "optimum-nudist",
   "metadata": {},
   "outputs": [],
   "source": [
    "# Load packages\n",
    "import numpy as np\n",
    "import matplotlib.pyplot as plt\n",
    "import seaborn as sns\n",
    "\n",
    "import pandas as pd\n",
    "\n",
    "# Standard sklearn processing\n",
    "from sklearn.model_selection import train_test_split\n",
    "from sklearn.preprocessing import StandardScaler, RobustScaler\n",
    "from sklearn.pipeline import make_pipeline\n",
    "from sklearn.decomposition import PCA\n",
    "\n",
    "# sklearn Classifiers\n",
    "from sklearn.linear_model import LogisticRegression\n",
    "from sklearn.neural_network import MLPClassifier\n",
    "from sklearn.neighbors import KNeighborsClassifier\n",
    "from sklearn.svm import SVC\n",
    "from sklearn.gaussian_process import GaussianProcessClassifier\n",
    "from sklearn.gaussian_process.kernels import RBF\n",
    "from sklearn.tree import DecisionTreeClassifier\n",
    "from sklearn.ensemble import RandomForestClassifier, AdaBoostClassifier, GradientBoostingClassifier, StackingClassifier\n",
    "from sklearn.naive_bayes import GaussianNB\n",
    "from sklearn.discriminant_analysis import QuadraticDiscriminantAnalysis, LinearDiscriminantAnalysis\n",
    "from sklearn.multioutput import ClassifierChain\n",
    "\n",
    "## The VotingClassifier\n",
    "from sklearn.ensemble import VotingClassifier\n",
    "# The Extra Trees Classifier\n",
    "from sklearn.ensemble import ExtraTreesClassifier\n",
    "\n",
    "## import accuracy metric\n",
    "from sklearn.metrics import accuracy_score, confusion_matrix, ConfusionMatrixDisplay, classification_report\n",
    "\n",
    "# Define shortcuts for classifiers\n",
    "names = [\n",
    "    \"Logistic Regression\",\n",
    "    \"Nearest Neighbors\",\n",
    "    \"Linear SVM\",\n",
    "    \"RBF SVM\",\n",
    "    \"Decision Tree\",\n",
    "    \"Random Forest\",\n",
    "    \"Neural Net\",\n",
    "    \"AdaBoost\",\n",
    "    \"Naive Bayes\",\n",
    "    \"QDA\",\n",
    "    \"LDA\",\n",
    "    \"ExtraTrees\",\n",
    "    \"Boosted RF\",\n",
    "    \"GradientBoosting\"\n",
    "]\n",
    "\n",
    "# Collect classifiers into an iterable\n",
    "## All the hyperparameters below can and should be investigated\n",
    "scaled_classifiers = [\n",
    "    make_pipeline(RobustScaler(), LogisticRegression(max_iter=5000)),\n",
    "    make_pipeline(RobustScaler(), KNeighborsClassifier(5,n_jobs=4)),\n",
    "    make_pipeline(RobustScaler(), SVC(kernel=\"linear\", C=0.025)),\n",
    "    make_pipeline(RobustScaler(), SVC(gamma=2, C=1)),\n",
    "    #GaussianProcessClassifier(1.0 * RBF(1.0)),\n",
    "    make_pipeline(RobustScaler(), DecisionTreeClassifier(max_depth=15)),\n",
    "    make_pipeline(RobustScaler(), RandomForestClassifier(max_depth=15, n_estimators=500,n_jobs=4)),\n",
    "    make_pipeline(RobustScaler(), MLPClassifier(alpha=0.01, max_iter=1000,early_stopping=True)),\n",
    "    make_pipeline(RobustScaler(), AdaBoostClassifier()),\n",
    "    make_pipeline(RobustScaler(), GaussianNB()),\n",
    "    make_pipeline(RobustScaler(), QuadraticDiscriminantAnalysis()),\n",
    "    make_pipeline(RobustScaler(), LinearDiscriminantAnalysis()),\n",
    "    make_pipeline(RobustScaler(), ExtraTreesClassifier(n_estimators=500, max_depth=15)),\n",
    "    make_pipeline(RobustScaler(), AdaBoostClassifier(RandomForestClassifier(max_depth=15, n_estimators=500,n_jobs=4))),\n",
    "    make_pipeline(RobustScaler(), GradientBoostingClassifier()),\n",
    "]\n",
    "\n",
    "classifiers = [\n",
    "    LogisticRegression(max_iter=5000),\n",
    "    KNeighborsClassifier(5,n_jobs=4),\n",
    "    SVC(kernel=\"linear\", C=0.025),\n",
    "    SVC(gamma=2, C=1),\n",
    "    DecisionTreeClassifier(max_depth=15),\n",
    "    RandomForestClassifier(max_depth=15, n_estimators=500,n_jobs=4),\n",
    "    MLPClassifier(alpha=0.01, max_iter=1000,early_stopping=True),\n",
    "    AdaBoostClassifier(),\n",
    "    GaussianNB(),\n",
    "    QuadraticDiscriminantAnalysis(),\n",
    "    LinearDiscriminantAnalysis(),\n",
    "    ExtraTreesClassifier(n_estimators=500, max_depth=15),\n",
    "    AdaBoostClassifier(RandomForestClassifier(max_depth=15, n_estimators=500,n_jobs=4)),\n",
    "    GradientBoostingClassifier(),\n",
    "]\n",
    "\n",
    "%matplotlib inline"
   ]
  },
  {
   "cell_type": "markdown",
   "id": "derived-malawi",
   "metadata": {},
   "source": [
    "## Setting up: Loading data, setting keys"
   ]
  },
  {
   "cell_type": "code",
   "execution_count": 177,
   "id": "likely-tournament",
   "metadata": {},
   "outputs": [],
   "source": [
    "# Keys for classifier \n",
    "#classify_keys = ['crestfactor','harmonic_power','percussive_power','percussive_hits','harmonic_hits']\n",
    "# classify_keys = ['class', 'eq_0', 'eq_10', 'eq_20', 'eq_30', 'eq_40', 'eq_60', 'eq_80',\n",
    "#        'eq_120', 'eq_160', 'eq_230', 'eq_300', 'eq_450', 'eq_600', 'eq_900',\n",
    "#        'eq_1200', 'eq_1800', 'eq_2400', 'eq_3700', 'eq_5000', 'eq_7500',\n",
    "#        'eq_10000', 'eq_15000', 'eq_20000', 'crestfactor', 'salience',\n",
    "#        'harmonic_power', 'percussive_power', 'harmonic_hits',\n",
    "#        'percussive_hits', 'power_ratio', 'hits_ratio'] \n",
    "classify_keys = [\n",
    " 'eq_0',\n",
    " 'eq_10',\n",
    " 'eq_20',\n",
    " 'eq_30',\n",
    " 'eq_40',\n",
    " 'eq_60',\n",
    " 'eq_80',\n",
    " 'eq_120',\n",
    " 'eq_160',\n",
    " 'eq_230',\n",
    " 'eq_300',\n",
    " 'eq_450',\n",
    " 'eq_600',\n",
    " 'eq_900',\n",
    " 'eq_1200',\n",
    " 'eq_1800',\n",
    " 'eq_2400',\n",
    " 'eq_3700',\n",
    " 'eq_5000',\n",
    " 'eq_7500',\n",
    " 'eq_10000',\n",
    " 'eq_15000',\n",
    " 'eq_20000',\n",
    " 'crestfactor',\n",
    " 'salience',\n",
    " 'harmonic_power',\n",
    " 'percussive_power',\n",
    " 'harmonic_hits',\n",
    " 'percussive_hits',\n",
    " 'power_ratio',\n",
    " 'hits_ratio'\n",
    "#  'roll_32.spec_flatness.median',\n",
    "#  'roll_32.spec_flatness.iqr',\n",
    "# #  'roll_32.spec_centroid.median',\n",
    "#  'roll_32.spec_bandwidth.median',\n",
    "#  'roll_32.spec_bandwidth.std',\n",
    "#  'roll_32.y_mw_zcr',\n",
    "#  'range_low.f0_signal',\n",
    "#  'range_high.f0_stats.f0_mean',\n",
    "#  'range_high.f0_stats.f0_median',\n",
    "#  'range_high.f0_stats.f0_std',\n",
    "#  'range_high.f0_stats.f0_iqr',\n",
    "#  'range_high.f0_stats.f0_max',\n",
    "#  'range_high.f0_stats.f0_min',\n",
    "#  'range_high.f0_signal',\n",
    "#  'range_low.f0_stats.f0_mean',\n",
    "#  'range_low.f0_stats.f0_median',\n",
    "#  'range_low.f0_stats.f0_std',\n",
    "#  'range_low.f0_stats.f0_iqr',\n",
    "#  'range_low.f0_stats.f0_max',\n",
    "#  'range_low.f0_stats.f0_min'\n",
    "                ]"
   ]
  },
  {
   "cell_type": "code",
   "execution_count": 149,
   "id": "polar-moses",
   "metadata": {},
   "outputs": [],
   "source": [
    "eq_keys = [ 'eq_0',\n",
    " 'eq_10',\n",
    " 'eq_20',\n",
    " 'eq_30',\n",
    " 'eq_40',\n",
    " 'eq_60',\n",
    " 'eq_80',\n",
    " 'eq_120',\n",
    " 'eq_160',\n",
    " 'eq_230',\n",
    " 'eq_300',\n",
    " 'eq_450',\n",
    " 'eq_600',\n",
    " 'eq_900',\n",
    " 'eq_1200',\n",
    " 'eq_1800',\n",
    " 'eq_2400',\n",
    " 'eq_3700',\n",
    " 'eq_5000',\n",
    " 'eq_7500',\n",
    " 'eq_10000',\n",
    " 'eq_15000',\n",
    " 'eq_20000']"
   ]
  },
  {
   "cell_type": "code",
   "execution_count": 150,
   "id": "changed-twins",
   "metadata": {},
   "outputs": [],
   "source": [
    "# Load data\n",
    "#features_df = pd.read_csv('large_data/eq_with_harmony2.csv') # Old partial details\n",
    "features_frick = pd.read_csv('large_data/eq_harmony_combined.csv') # From frick\n",
    "#features = pd.read_csv('large_data/engineered_features_full1.csv', index_col=0) # From Paul\n",
    "#features_f0 = pd.read_csv('large_data/engineered_features_f0_full1.csv', index_col=0) # From Paul\n",
    "#features_df = pd.concat([features_frick, features, features_f0], axis=1)\n",
    "#features_df.dropna() # Drops NaN rows from our feature processing list\n",
    "features_df = features_frick\n",
    "keys = list(features_df.keys())"
   ]
  },
  {
   "cell_type": "code",
   "execution_count": 151,
   "id": "occasional-brisbane",
   "metadata": {},
   "outputs": [
    {
     "data": {
      "text/plain": [
       "['class',\n",
       " 'eq_0',\n",
       " 'eq_10',\n",
       " 'eq_20',\n",
       " 'eq_30',\n",
       " 'eq_40',\n",
       " 'eq_60',\n",
       " 'eq_80',\n",
       " 'eq_120',\n",
       " 'eq_160',\n",
       " 'eq_230',\n",
       " 'eq_300',\n",
       " 'eq_450',\n",
       " 'eq_600',\n",
       " 'eq_900',\n",
       " 'eq_1200',\n",
       " 'eq_1800',\n",
       " 'eq_2400',\n",
       " 'eq_3700',\n",
       " 'eq_5000',\n",
       " 'eq_7500',\n",
       " 'eq_10000',\n",
       " 'eq_15000',\n",
       " 'eq_20000',\n",
       " 'crestfactor',\n",
       " 'salience',\n",
       " 'harmonic_power',\n",
       " 'percussive_power',\n",
       " 'harmonic_hits',\n",
       " 'percussive_hits',\n",
       " 'fold']"
      ]
     },
     "execution_count": 151,
     "metadata": {},
     "output_type": "execute_result"
    }
   ],
   "source": [
    "keys"
   ]
  },
  {
   "cell_type": "code",
   "execution_count": 152,
   "id": "funky-friend",
   "metadata": {},
   "outputs": [],
   "source": [
    "for eq in eq_keys:\n",
    "    features_df[eq] = np.log10(features_df[eq])"
   ]
  },
  {
   "cell_type": "code",
   "execution_count": 153,
   "id": "criminal-evanescence",
   "metadata": {},
   "outputs": [],
   "source": [
    "features_df['power_ratio'] = np.log10(features_df['percussive_power'].values / (features_df['harmonic_power'].values))\n",
    "features_df['hits_ratio'] = np.log10(features_df['percussive_hits'].values / (features_df['harmonic_hits'].values + 1e-1) + 5e-4)"
   ]
  },
  {
   "cell_type": "code",
   "execution_count": 154,
   "id": "parental-scroll",
   "metadata": {},
   "outputs": [
    {
     "data": {
      "text/plain": [
       "['class',\n",
       " 'eq_0',\n",
       " 'eq_10',\n",
       " 'eq_20',\n",
       " 'eq_30',\n",
       " 'eq_40',\n",
       " 'eq_60',\n",
       " 'eq_80',\n",
       " 'eq_120',\n",
       " 'eq_160',\n",
       " 'eq_230',\n",
       " 'eq_300',\n",
       " 'eq_450',\n",
       " 'eq_600',\n",
       " 'eq_900',\n",
       " 'eq_1200',\n",
       " 'eq_1800',\n",
       " 'eq_2400',\n",
       " 'eq_3700',\n",
       " 'eq_5000',\n",
       " 'eq_7500',\n",
       " 'eq_10000',\n",
       " 'eq_15000',\n",
       " 'eq_20000',\n",
       " 'crestfactor',\n",
       " 'salience',\n",
       " 'harmonic_power',\n",
       " 'percussive_power',\n",
       " 'harmonic_hits',\n",
       " 'percussive_hits',\n",
       " 'fold']"
      ]
     },
     "execution_count": 154,
     "metadata": {},
     "output_type": "execute_result"
    }
   ],
   "source": [
    "keys"
   ]
  },
  {
   "cell_type": "code",
   "execution_count": 155,
   "id": "disturbed-torture",
   "metadata": {},
   "outputs": [],
   "source": [
    "use_all = False # True # Use all features to predict\n",
    "if use_all:\n",
    "    classify_keys = keys[1:-1] # don't include class or fold"
   ]
  },
  {
   "cell_type": "code",
   "execution_count": 156,
   "id": "aquatic-moldova",
   "metadata": {},
   "outputs": [],
   "source": [
    "#classify_keys.remove('fold')"
   ]
  },
  {
   "cell_type": "code",
   "execution_count": 157,
   "id": "mineral-savings",
   "metadata": {},
   "outputs": [],
   "source": [
    "#classify_keys"
   ]
  },
  {
   "cell_type": "code",
   "execution_count": 158,
   "id": "rural-moral",
   "metadata": {},
   "outputs": [
    {
     "data": {
      "text/html": [
       "<div>\n",
       "<style scoped>\n",
       "    .dataframe tbody tr th:only-of-type {\n",
       "        vertical-align: middle;\n",
       "    }\n",
       "\n",
       "    .dataframe tbody tr th {\n",
       "        vertical-align: top;\n",
       "    }\n",
       "\n",
       "    .dataframe thead th {\n",
       "        text-align: right;\n",
       "    }\n",
       "</style>\n",
       "<table border=\"1\" class=\"dataframe\">\n",
       "  <thead>\n",
       "    <tr style=\"text-align: right;\">\n",
       "      <th></th>\n",
       "      <th>eq_0</th>\n",
       "      <th>eq_10</th>\n",
       "      <th>eq_20</th>\n",
       "      <th>eq_30</th>\n",
       "      <th>eq_40</th>\n",
       "      <th>eq_60</th>\n",
       "      <th>eq_80</th>\n",
       "      <th>eq_120</th>\n",
       "      <th>eq_160</th>\n",
       "      <th>eq_230</th>\n",
       "      <th>...</th>\n",
       "      <th>eq_20000</th>\n",
       "      <th>crestfactor</th>\n",
       "      <th>salience</th>\n",
       "      <th>harmonic_power</th>\n",
       "      <th>percussive_power</th>\n",
       "      <th>harmonic_hits</th>\n",
       "      <th>percussive_hits</th>\n",
       "      <th>fold</th>\n",
       "      <th>power_ratio</th>\n",
       "      <th>hits_ratio</th>\n",
       "    </tr>\n",
       "  </thead>\n",
       "  <tbody>\n",
       "    <tr>\n",
       "      <th>count</th>\n",
       "      <td>8732.000000</td>\n",
       "      <td>8732.000000</td>\n",
       "      <td>8732.000000</td>\n",
       "      <td>8732.000000</td>\n",
       "      <td>8732.000000</td>\n",
       "      <td>8732.000000</td>\n",
       "      <td>8732.000000</td>\n",
       "      <td>8732.000000</td>\n",
       "      <td>8732.000000</td>\n",
       "      <td>8732.000000</td>\n",
       "      <td>...</td>\n",
       "      <td>8732.000000</td>\n",
       "      <td>8732.000000</td>\n",
       "      <td>8732.000000</td>\n",
       "      <td>8.732000e+03</td>\n",
       "      <td>8.732000e+03</td>\n",
       "      <td>8732.000000</td>\n",
       "      <td>8732.000000</td>\n",
       "      <td>8732.000000</td>\n",
       "      <td>8732.000000</td>\n",
       "      <td>8732.000000</td>\n",
       "    </tr>\n",
       "    <tr>\n",
       "      <th>mean</th>\n",
       "      <td>0.785337</td>\n",
       "      <td>0.892642</td>\n",
       "      <td>0.989648</td>\n",
       "      <td>1.060456</td>\n",
       "      <td>1.201832</td>\n",
       "      <td>1.287808</td>\n",
       "      <td>1.357483</td>\n",
       "      <td>1.389817</td>\n",
       "      <td>1.414340</td>\n",
       "      <td>1.419566</td>\n",
       "      <td>...</td>\n",
       "      <td>0.574723</td>\n",
       "      <td>8.104689</td>\n",
       "      <td>1.347000</td>\n",
       "      <td>2.360849e-03</td>\n",
       "      <td>2.970509e-04</td>\n",
       "      <td>216.039985</td>\n",
       "      <td>7.880898</td>\n",
       "      <td>5.385937</td>\n",
       "      <td>-0.995106</td>\n",
       "      <td>-1.640759</td>\n",
       "    </tr>\n",
       "    <tr>\n",
       "      <th>std</th>\n",
       "      <td>0.935234</td>\n",
       "      <td>0.925641</td>\n",
       "      <td>0.918903</td>\n",
       "      <td>0.900866</td>\n",
       "      <td>0.855738</td>\n",
       "      <td>0.815388</td>\n",
       "      <td>0.752803</td>\n",
       "      <td>0.719806</td>\n",
       "      <td>0.688163</td>\n",
       "      <td>0.662756</td>\n",
       "      <td>...</td>\n",
       "      <td>0.515552</td>\n",
       "      <td>5.137287</td>\n",
       "      <td>0.476043</td>\n",
       "      <td>1.339091e-02</td>\n",
       "      <td>1.818294e-03</td>\n",
       "      <td>245.710631</td>\n",
       "      <td>14.434843</td>\n",
       "      <td>2.846820</td>\n",
       "      <td>2.274398</td>\n",
       "      <td>1.034565</td>\n",
       "    </tr>\n",
       "    <tr>\n",
       "      <th>min</th>\n",
       "      <td>-3.364845</td>\n",
       "      <td>-3.267241</td>\n",
       "      <td>-3.225991</td>\n",
       "      <td>-3.199969</td>\n",
       "      <td>-2.976491</td>\n",
       "      <td>-2.968993</td>\n",
       "      <td>-2.963378</td>\n",
       "      <td>-2.782332</td>\n",
       "      <td>-2.558243</td>\n",
       "      <td>-2.361910</td>\n",
       "      <td>...</td>\n",
       "      <td>-1.832070</td>\n",
       "      <td>1.182664</td>\n",
       "      <td>1.000000</td>\n",
       "      <td>6.659914e-14</td>\n",
       "      <td>3.317685e-10</td>\n",
       "      <td>0.000000</td>\n",
       "      <td>0.000000</td>\n",
       "      <td>1.000000</td>\n",
       "      <td>-7.160499</td>\n",
       "      <td>-3.301030</td>\n",
       "    </tr>\n",
       "    <tr>\n",
       "      <th>25%</th>\n",
       "      <td>0.239100</td>\n",
       "      <td>0.353751</td>\n",
       "      <td>0.466158</td>\n",
       "      <td>0.559964</td>\n",
       "      <td>0.715394</td>\n",
       "      <td>0.827518</td>\n",
       "      <td>0.913237</td>\n",
       "      <td>0.963902</td>\n",
       "      <td>1.008940</td>\n",
       "      <td>1.032472</td>\n",
       "      <td>...</td>\n",
       "      <td>0.254031</td>\n",
       "      <td>5.116185</td>\n",
       "      <td>1.000000</td>\n",
       "      <td>4.304197e-06</td>\n",
       "      <td>6.014806e-07</td>\n",
       "      <td>43.454955</td>\n",
       "      <td>1.000000</td>\n",
       "      <td>3.000000</td>\n",
       "      <td>-2.398749</td>\n",
       "      <td>-2.303590</td>\n",
       "    </tr>\n",
       "    <tr>\n",
       "      <th>50%</th>\n",
       "      <td>0.837194</td>\n",
       "      <td>0.947724</td>\n",
       "      <td>1.051760</td>\n",
       "      <td>1.123707</td>\n",
       "      <td>1.302480</td>\n",
       "      <td>1.395580</td>\n",
       "      <td>1.470632</td>\n",
       "      <td>1.495065</td>\n",
       "      <td>1.535516</td>\n",
       "      <td>1.528382</td>\n",
       "      <td>...</td>\n",
       "      <td>0.622416</td>\n",
       "      <td>6.816937</td>\n",
       "      <td>1.000000</td>\n",
       "      <td>2.687486e-05</td>\n",
       "      <td>1.463032e-06</td>\n",
       "      <td>130.667553</td>\n",
       "      <td>3.000000</td>\n",
       "      <td>5.000000</td>\n",
       "      <td>-1.150139</td>\n",
       "      <td>-1.510981</td>\n",
       "    </tr>\n",
       "    <tr>\n",
       "      <th>75%</th>\n",
       "      <td>1.419438</td>\n",
       "      <td>1.536283</td>\n",
       "      <td>1.617141</td>\n",
       "      <td>1.673535</td>\n",
       "      <td>1.798016</td>\n",
       "      <td>1.878433</td>\n",
       "      <td>1.905592</td>\n",
       "      <td>1.911889</td>\n",
       "      <td>1.905981</td>\n",
       "      <td>1.900069</td>\n",
       "      <td>...</td>\n",
       "      <td>0.950792</td>\n",
       "      <td>9.666513</td>\n",
       "      <td>2.000000</td>\n",
       "      <td>2.986834e-04</td>\n",
       "      <td>1.168994e-05</td>\n",
       "      <td>293.975011</td>\n",
       "      <td>7.000000</td>\n",
       "      <td>8.000000</td>\n",
       "      <td>-0.037105</td>\n",
       "      <td>-0.946498</td>\n",
       "    </tr>\n",
       "    <tr>\n",
       "      <th>max</th>\n",
       "      <td>3.549806</td>\n",
       "      <td>3.336024</td>\n",
       "      <td>3.192284</td>\n",
       "      <td>3.135053</td>\n",
       "      <td>3.076486</td>\n",
       "      <td>3.004971</td>\n",
       "      <td>2.983684</td>\n",
       "      <td>3.013882</td>\n",
       "      <td>2.948173</td>\n",
       "      <td>2.928276</td>\n",
       "      <td>...</td>\n",
       "      <td>1.940247</td>\n",
       "      <td>99.133108</td>\n",
       "      <td>2.000000</td>\n",
       "      <td>6.049485e-01</td>\n",
       "      <td>4.137904e-02</td>\n",
       "      <td>2542.986702</td>\n",
       "      <td>86.000000</td>\n",
       "      <td>10.000000</td>\n",
       "      <td>10.470580</td>\n",
       "      <td>2.466889</td>\n",
       "    </tr>\n",
       "  </tbody>\n",
       "</table>\n",
       "<p>8 rows × 32 columns</p>\n",
       "</div>"
      ],
      "text/plain": [
       "              eq_0        eq_10        eq_20        eq_30        eq_40  \\\n",
       "count  8732.000000  8732.000000  8732.000000  8732.000000  8732.000000   \n",
       "mean      0.785337     0.892642     0.989648     1.060456     1.201832   \n",
       "std       0.935234     0.925641     0.918903     0.900866     0.855738   \n",
       "min      -3.364845    -3.267241    -3.225991    -3.199969    -2.976491   \n",
       "25%       0.239100     0.353751     0.466158     0.559964     0.715394   \n",
       "50%       0.837194     0.947724     1.051760     1.123707     1.302480   \n",
       "75%       1.419438     1.536283     1.617141     1.673535     1.798016   \n",
       "max       3.549806     3.336024     3.192284     3.135053     3.076486   \n",
       "\n",
       "             eq_60        eq_80       eq_120       eq_160       eq_230  ...  \\\n",
       "count  8732.000000  8732.000000  8732.000000  8732.000000  8732.000000  ...   \n",
       "mean      1.287808     1.357483     1.389817     1.414340     1.419566  ...   \n",
       "std       0.815388     0.752803     0.719806     0.688163     0.662756  ...   \n",
       "min      -2.968993    -2.963378    -2.782332    -2.558243    -2.361910  ...   \n",
       "25%       0.827518     0.913237     0.963902     1.008940     1.032472  ...   \n",
       "50%       1.395580     1.470632     1.495065     1.535516     1.528382  ...   \n",
       "75%       1.878433     1.905592     1.911889     1.905981     1.900069  ...   \n",
       "max       3.004971     2.983684     3.013882     2.948173     2.928276  ...   \n",
       "\n",
       "          eq_20000  crestfactor     salience  harmonic_power  \\\n",
       "count  8732.000000  8732.000000  8732.000000    8.732000e+03   \n",
       "mean      0.574723     8.104689     1.347000    2.360849e-03   \n",
       "std       0.515552     5.137287     0.476043    1.339091e-02   \n",
       "min      -1.832070     1.182664     1.000000    6.659914e-14   \n",
       "25%       0.254031     5.116185     1.000000    4.304197e-06   \n",
       "50%       0.622416     6.816937     1.000000    2.687486e-05   \n",
       "75%       0.950792     9.666513     2.000000    2.986834e-04   \n",
       "max       1.940247    99.133108     2.000000    6.049485e-01   \n",
       "\n",
       "       percussive_power  harmonic_hits  percussive_hits         fold  \\\n",
       "count      8.732000e+03    8732.000000      8732.000000  8732.000000   \n",
       "mean       2.970509e-04     216.039985         7.880898     5.385937   \n",
       "std        1.818294e-03     245.710631        14.434843     2.846820   \n",
       "min        3.317685e-10       0.000000         0.000000     1.000000   \n",
       "25%        6.014806e-07      43.454955         1.000000     3.000000   \n",
       "50%        1.463032e-06     130.667553         3.000000     5.000000   \n",
       "75%        1.168994e-05     293.975011         7.000000     8.000000   \n",
       "max        4.137904e-02    2542.986702        86.000000    10.000000   \n",
       "\n",
       "       power_ratio   hits_ratio  \n",
       "count  8732.000000  8732.000000  \n",
       "mean     -0.995106    -1.640759  \n",
       "std       2.274398     1.034565  \n",
       "min      -7.160499    -3.301030  \n",
       "25%      -2.398749    -2.303590  \n",
       "50%      -1.150139    -1.510981  \n",
       "75%      -0.037105    -0.946498  \n",
       "max      10.470580     2.466889  \n",
       "\n",
       "[8 rows x 32 columns]"
      ]
     },
     "execution_count": 158,
     "metadata": {},
     "output_type": "execute_result"
    }
   ],
   "source": [
    "features_df.describe()"
   ]
  },
  {
   "cell_type": "code",
   "execution_count": 159,
   "id": "upper-triumph",
   "metadata": {},
   "outputs": [
    {
     "data": {
      "text/html": [
       "<div>\n",
       "<style scoped>\n",
       "    .dataframe tbody tr th:only-of-type {\n",
       "        vertical-align: middle;\n",
       "    }\n",
       "\n",
       "    .dataframe tbody tr th {\n",
       "        vertical-align: top;\n",
       "    }\n",
       "\n",
       "    .dataframe thead th {\n",
       "        text-align: right;\n",
       "    }\n",
       "</style>\n",
       "<table border=\"1\" class=\"dataframe\">\n",
       "  <thead>\n",
       "    <tr style=\"text-align: right;\">\n",
       "      <th></th>\n",
       "      <th>class</th>\n",
       "      <th>eq_0</th>\n",
       "      <th>eq_10</th>\n",
       "      <th>eq_20</th>\n",
       "      <th>eq_30</th>\n",
       "      <th>eq_40</th>\n",
       "      <th>eq_60</th>\n",
       "      <th>eq_80</th>\n",
       "      <th>eq_120</th>\n",
       "      <th>eq_160</th>\n",
       "      <th>...</th>\n",
       "      <th>eq_20000</th>\n",
       "      <th>crestfactor</th>\n",
       "      <th>salience</th>\n",
       "      <th>harmonic_power</th>\n",
       "      <th>percussive_power</th>\n",
       "      <th>harmonic_hits</th>\n",
       "      <th>percussive_hits</th>\n",
       "      <th>fold</th>\n",
       "      <th>power_ratio</th>\n",
       "      <th>hits_ratio</th>\n",
       "    </tr>\n",
       "  </thead>\n",
       "  <tbody>\n",
       "    <tr>\n",
       "      <th>0</th>\n",
       "      <td>children_playing</td>\n",
       "      <td>0.772997</td>\n",
       "      <td>0.712426</td>\n",
       "      <td>0.713102</td>\n",
       "      <td>0.745311</td>\n",
       "      <td>0.702959</td>\n",
       "      <td>0.745459</td>\n",
       "      <td>0.761651</td>\n",
       "      <td>0.793981</td>\n",
       "      <td>0.699655</td>\n",
       "      <td>...</td>\n",
       "      <td>-0.257946</td>\n",
       "      <td>9.255638</td>\n",
       "      <td>1</td>\n",
       "      <td>0.000011</td>\n",
       "      <td>8.845374e-05</td>\n",
       "      <td>150.472464</td>\n",
       "      <td>4</td>\n",
       "      <td>5</td>\n",
       "      <td>0.889862</td>\n",
       "      <td>-1.567587</td>\n",
       "    </tr>\n",
       "    <tr>\n",
       "      <th>1</th>\n",
       "      <td>children_playing</td>\n",
       "      <td>-0.404583</td>\n",
       "      <td>-0.431886</td>\n",
       "      <td>-0.543574</td>\n",
       "      <td>-0.629743</td>\n",
       "      <td>-0.779261</td>\n",
       "      <td>-0.862212</td>\n",
       "      <td>-0.947772</td>\n",
       "      <td>-0.862379</td>\n",
       "      <td>-0.590296</td>\n",
       "      <td>...</td>\n",
       "      <td>0.557387</td>\n",
       "      <td>10.187929</td>\n",
       "      <td>1</td>\n",
       "      <td>0.002384</td>\n",
       "      <td>7.574148e-06</td>\n",
       "      <td>52.204787</td>\n",
       "      <td>2</td>\n",
       "      <td>10</td>\n",
       "      <td>-2.498050</td>\n",
       "      <td>-1.411869</td>\n",
       "    </tr>\n",
       "    <tr>\n",
       "      <th>2</th>\n",
       "      <td>street_music</td>\n",
       "      <td>0.599927</td>\n",
       "      <td>0.751218</td>\n",
       "      <td>0.927003</td>\n",
       "      <td>1.128319</td>\n",
       "      <td>1.288145</td>\n",
       "      <td>1.548013</td>\n",
       "      <td>1.791355</td>\n",
       "      <td>1.793211</td>\n",
       "      <td>1.843819</td>\n",
       "      <td>...</td>\n",
       "      <td>0.487044</td>\n",
       "      <td>7.897027</td>\n",
       "      <td>1</td>\n",
       "      <td>0.000030</td>\n",
       "      <td>6.712090e-05</td>\n",
       "      <td>332.313043</td>\n",
       "      <td>4</td>\n",
       "      <td>7</td>\n",
       "      <td>0.354830</td>\n",
       "      <td>-1.901937</td>\n",
       "    </tr>\n",
       "    <tr>\n",
       "      <th>3</th>\n",
       "      <td>engine_idling</td>\n",
       "      <td>1.692123</td>\n",
       "      <td>2.073951</td>\n",
       "      <td>2.616619</td>\n",
       "      <td>2.551652</td>\n",
       "      <td>2.474416</td>\n",
       "      <td>2.399168</td>\n",
       "      <td>2.272425</td>\n",
       "      <td>2.188971</td>\n",
       "      <td>2.090052</td>\n",
       "      <td>...</td>\n",
       "      <td>0.727442</td>\n",
       "      <td>2.837097</td>\n",
       "      <td>1</td>\n",
       "      <td>0.013045</td>\n",
       "      <td>2.409356e-07</td>\n",
       "      <td>132.342029</td>\n",
       "      <td>16</td>\n",
       "      <td>10</td>\n",
       "      <td>-4.733537</td>\n",
       "      <td>-0.916112</td>\n",
       "    </tr>\n",
       "    <tr>\n",
       "      <th>4</th>\n",
       "      <td>jackhammer</td>\n",
       "      <td>1.508975</td>\n",
       "      <td>1.808151</td>\n",
       "      <td>1.939758</td>\n",
       "      <td>1.977737</td>\n",
       "      <td>1.921932</td>\n",
       "      <td>1.896263</td>\n",
       "      <td>1.794886</td>\n",
       "      <td>1.753717</td>\n",
       "      <td>1.676690</td>\n",
       "      <td>...</td>\n",
       "      <td>0.589464</td>\n",
       "      <td>7.351516</td>\n",
       "      <td>1</td>\n",
       "      <td>0.000003</td>\n",
       "      <td>7.250180e-07</td>\n",
       "      <td>77.518617</td>\n",
       "      <td>64</td>\n",
       "      <td>1</td>\n",
       "      <td>-0.669574</td>\n",
       "      <td>-0.083523</td>\n",
       "    </tr>\n",
       "  </tbody>\n",
       "</table>\n",
       "<p>5 rows × 33 columns</p>\n",
       "</div>"
      ],
      "text/plain": [
       "              class      eq_0     eq_10     eq_20     eq_30     eq_40  \\\n",
       "0  children_playing  0.772997  0.712426  0.713102  0.745311  0.702959   \n",
       "1  children_playing -0.404583 -0.431886 -0.543574 -0.629743 -0.779261   \n",
       "2      street_music  0.599927  0.751218  0.927003  1.128319  1.288145   \n",
       "3     engine_idling  1.692123  2.073951  2.616619  2.551652  2.474416   \n",
       "4        jackhammer  1.508975  1.808151  1.939758  1.977737  1.921932   \n",
       "\n",
       "      eq_60     eq_80    eq_120    eq_160  ...  eq_20000  crestfactor  \\\n",
       "0  0.745459  0.761651  0.793981  0.699655  ... -0.257946     9.255638   \n",
       "1 -0.862212 -0.947772 -0.862379 -0.590296  ...  0.557387    10.187929   \n",
       "2  1.548013  1.791355  1.793211  1.843819  ...  0.487044     7.897027   \n",
       "3  2.399168  2.272425  2.188971  2.090052  ...  0.727442     2.837097   \n",
       "4  1.896263  1.794886  1.753717  1.676690  ...  0.589464     7.351516   \n",
       "\n",
       "   salience  harmonic_power  percussive_power  harmonic_hits  percussive_hits  \\\n",
       "0         1        0.000011      8.845374e-05     150.472464                4   \n",
       "1         1        0.002384      7.574148e-06      52.204787                2   \n",
       "2         1        0.000030      6.712090e-05     332.313043                4   \n",
       "3         1        0.013045      2.409356e-07     132.342029               16   \n",
       "4         1        0.000003      7.250180e-07      77.518617               64   \n",
       "\n",
       "   fold  power_ratio  hits_ratio  \n",
       "0     5     0.889862   -1.567587  \n",
       "1    10    -2.498050   -1.411869  \n",
       "2     7     0.354830   -1.901937  \n",
       "3    10    -4.733537   -0.916112  \n",
       "4     1    -0.669574   -0.083523  \n",
       "\n",
       "[5 rows x 33 columns]"
      ]
     },
     "execution_count": 159,
     "metadata": {},
     "output_type": "execute_result"
    }
   ],
   "source": [
    "features_df.head()"
   ]
  },
  {
   "cell_type": "code",
   "execution_count": 160,
   "id": "finished-apollo",
   "metadata": {},
   "outputs": [
    {
     "data": {
      "text/plain": [
       "count    8732.000000\n",
       "mean        1.347000\n",
       "std         0.476043\n",
       "min         1.000000\n",
       "25%         1.000000\n",
       "50%         1.000000\n",
       "75%         2.000000\n",
       "max         2.000000\n",
       "Name: salience, dtype: float64"
      ]
     },
     "execution_count": 160,
     "metadata": {},
     "output_type": "execute_result"
    }
   ],
   "source": [
    "features_df['salience'].describe()"
   ]
  },
  {
   "cell_type": "code",
   "execution_count": 78,
   "id": "drawn-silicon",
   "metadata": {},
   "outputs": [],
   "source": [
    "# What if we drop background sounds\n",
    "#features_df = features_df[features_df['salience'] != 2]"
   ]
  },
  {
   "cell_type": "code",
   "execution_count": 161,
   "id": "egyptian-delay",
   "metadata": {},
   "outputs": [],
   "source": [
    "# Try grouping sounds into families since jackhammers/drills are hard to differentiate between and \n",
    "# crowd noises drown out children playing and street music\n",
    "\n",
    "#features_df['family'] = features_df['class'].replace({'air_conditioner':5, 'car_horn':1, 'children_playing':0, 'dog_bark':3, 'drilling':4, 'engine_idling':5, 'gun_shot':6, 'jackhammer':4, 'siren':8, 'street_music':0},inplace=False)\n",
    "\n",
    "#features_df['family'] = features_df['class'].replace({'air_conditioner':0, 'car_horn':0, 'children_playing':0, 'dog_bark':0, 'drilling':0, 'engine_idling':0, 'gun_shot':1, 'jackhammer':0, 'siren':0, 'street_music':0},inplace=False)\n",
    "features_df.replace({'air_conditioner':0, 'car_horn':1, 'children_playing':2, 'dog_bark':3, 'drilling':4,\n",
    "                'engine_idling':5, 'gun_shot':6, 'jackhammer':7, 'siren':8, 'street_music':9},inplace=True)"
   ]
  },
  {
   "cell_type": "code",
   "execution_count": 162,
   "id": "dress-consortium",
   "metadata": {},
   "outputs": [
    {
     "data": {
      "text/plain": [
       "(array([], dtype=int64), array([], dtype=int64))"
      ]
     },
     "execution_count": 162,
     "metadata": {},
     "output_type": "execute_result"
    }
   ],
   "source": [
    "# Searching for NaNs in input\n",
    "np.where(np.isnan(features_df[classify_keys].values) == 1)"
   ]
  },
  {
   "cell_type": "markdown",
   "id": "caroline-perfume",
   "metadata": {},
   "source": [
    "Now that we've loaded the data, I'll drop a fold as recommended by the documentation."
   ]
  },
  {
   "cell_type": "code",
   "execution_count": 163,
   "id": "perceived-knowing",
   "metadata": {},
   "outputs": [],
   "source": [
    "dropfold = 1\n",
    "\n",
    "cv_features_df = features_df.drop(features_df[features_df['fold']==dropfold].index)\n",
    "cv_features_df.drop(columns='fold',inplace=True)\n",
    "\n",
    "validation_features_df = features_df.drop(features_df[features_df['fold']!=dropfold].index)\n",
    "validation_features_df.drop(columns='fold',inplace=True)"
   ]
  },
  {
   "cell_type": "code",
   "execution_count": 164,
   "id": "exposed-actor",
   "metadata": {},
   "outputs": [
    {
     "data": {
      "text/html": [
       "<div>\n",
       "<style scoped>\n",
       "    .dataframe tbody tr th:only-of-type {\n",
       "        vertical-align: middle;\n",
       "    }\n",
       "\n",
       "    .dataframe tbody tr th {\n",
       "        vertical-align: top;\n",
       "    }\n",
       "\n",
       "    .dataframe thead th {\n",
       "        text-align: right;\n",
       "    }\n",
       "</style>\n",
       "<table border=\"1\" class=\"dataframe\">\n",
       "  <thead>\n",
       "    <tr style=\"text-align: right;\">\n",
       "      <th></th>\n",
       "      <th>class</th>\n",
       "      <th>eq_0</th>\n",
       "      <th>eq_10</th>\n",
       "      <th>eq_20</th>\n",
       "      <th>eq_30</th>\n",
       "      <th>eq_40</th>\n",
       "      <th>eq_60</th>\n",
       "      <th>eq_80</th>\n",
       "      <th>eq_120</th>\n",
       "      <th>eq_160</th>\n",
       "      <th>...</th>\n",
       "      <th>eq_15000</th>\n",
       "      <th>eq_20000</th>\n",
       "      <th>crestfactor</th>\n",
       "      <th>salience</th>\n",
       "      <th>harmonic_power</th>\n",
       "      <th>percussive_power</th>\n",
       "      <th>harmonic_hits</th>\n",
       "      <th>percussive_hits</th>\n",
       "      <th>power_ratio</th>\n",
       "      <th>hits_ratio</th>\n",
       "    </tr>\n",
       "  </thead>\n",
       "  <tbody>\n",
       "    <tr>\n",
       "      <th>0</th>\n",
       "      <td>2</td>\n",
       "      <td>0.772997</td>\n",
       "      <td>0.712426</td>\n",
       "      <td>0.713102</td>\n",
       "      <td>0.745311</td>\n",
       "      <td>0.702959</td>\n",
       "      <td>0.745459</td>\n",
       "      <td>0.761651</td>\n",
       "      <td>0.793981</td>\n",
       "      <td>0.699655</td>\n",
       "      <td>...</td>\n",
       "      <td>-0.215696</td>\n",
       "      <td>-0.257946</td>\n",
       "      <td>9.255638</td>\n",
       "      <td>1</td>\n",
       "      <td>0.000011</td>\n",
       "      <td>8.845374e-05</td>\n",
       "      <td>150.472464</td>\n",
       "      <td>4</td>\n",
       "      <td>0.889862</td>\n",
       "      <td>-1.567587</td>\n",
       "    </tr>\n",
       "    <tr>\n",
       "      <th>1</th>\n",
       "      <td>2</td>\n",
       "      <td>-0.404583</td>\n",
       "      <td>-0.431886</td>\n",
       "      <td>-0.543574</td>\n",
       "      <td>-0.629743</td>\n",
       "      <td>-0.779261</td>\n",
       "      <td>-0.862212</td>\n",
       "      <td>-0.947772</td>\n",
       "      <td>-0.862379</td>\n",
       "      <td>-0.590296</td>\n",
       "      <td>...</td>\n",
       "      <td>0.636140</td>\n",
       "      <td>0.557387</td>\n",
       "      <td>10.187929</td>\n",
       "      <td>1</td>\n",
       "      <td>0.002384</td>\n",
       "      <td>7.574148e-06</td>\n",
       "      <td>52.204787</td>\n",
       "      <td>2</td>\n",
       "      <td>-2.498050</td>\n",
       "      <td>-1.411869</td>\n",
       "    </tr>\n",
       "    <tr>\n",
       "      <th>2</th>\n",
       "      <td>9</td>\n",
       "      <td>0.599927</td>\n",
       "      <td>0.751218</td>\n",
       "      <td>0.927003</td>\n",
       "      <td>1.128319</td>\n",
       "      <td>1.288145</td>\n",
       "      <td>1.548013</td>\n",
       "      <td>1.791355</td>\n",
       "      <td>1.793211</td>\n",
       "      <td>1.843819</td>\n",
       "      <td>...</td>\n",
       "      <td>0.528276</td>\n",
       "      <td>0.487044</td>\n",
       "      <td>7.897027</td>\n",
       "      <td>1</td>\n",
       "      <td>0.000030</td>\n",
       "      <td>6.712090e-05</td>\n",
       "      <td>332.313043</td>\n",
       "      <td>4</td>\n",
       "      <td>0.354830</td>\n",
       "      <td>-1.901937</td>\n",
       "    </tr>\n",
       "    <tr>\n",
       "      <th>3</th>\n",
       "      <td>5</td>\n",
       "      <td>1.692123</td>\n",
       "      <td>2.073951</td>\n",
       "      <td>2.616619</td>\n",
       "      <td>2.551652</td>\n",
       "      <td>2.474416</td>\n",
       "      <td>2.399168</td>\n",
       "      <td>2.272425</td>\n",
       "      <td>2.188971</td>\n",
       "      <td>2.090052</td>\n",
       "      <td>...</td>\n",
       "      <td>0.769349</td>\n",
       "      <td>0.727442</td>\n",
       "      <td>2.837097</td>\n",
       "      <td>1</td>\n",
       "      <td>0.013045</td>\n",
       "      <td>2.409356e-07</td>\n",
       "      <td>132.342029</td>\n",
       "      <td>16</td>\n",
       "      <td>-4.733537</td>\n",
       "      <td>-0.916112</td>\n",
       "    </tr>\n",
       "    <tr>\n",
       "      <th>5</th>\n",
       "      <td>5</td>\n",
       "      <td>0.946868</td>\n",
       "      <td>1.046500</td>\n",
       "      <td>1.016238</td>\n",
       "      <td>0.981577</td>\n",
       "      <td>1.004380</td>\n",
       "      <td>1.108758</td>\n",
       "      <td>1.334478</td>\n",
       "      <td>1.561918</td>\n",
       "      <td>1.548040</td>\n",
       "      <td>...</td>\n",
       "      <td>0.072507</td>\n",
       "      <td>-0.005021</td>\n",
       "      <td>3.722183</td>\n",
       "      <td>1</td>\n",
       "      <td>0.001770</td>\n",
       "      <td>3.998450e-07</td>\n",
       "      <td>1067.550532</td>\n",
       "      <td>0</td>\n",
       "      <td>-3.646108</td>\n",
       "      <td>-3.301030</td>\n",
       "    </tr>\n",
       "  </tbody>\n",
       "</table>\n",
       "<p>5 rows × 32 columns</p>\n",
       "</div>"
      ],
      "text/plain": [
       "   class      eq_0     eq_10     eq_20     eq_30     eq_40     eq_60  \\\n",
       "0      2  0.772997  0.712426  0.713102  0.745311  0.702959  0.745459   \n",
       "1      2 -0.404583 -0.431886 -0.543574 -0.629743 -0.779261 -0.862212   \n",
       "2      9  0.599927  0.751218  0.927003  1.128319  1.288145  1.548013   \n",
       "3      5  1.692123  2.073951  2.616619  2.551652  2.474416  2.399168   \n",
       "5      5  0.946868  1.046500  1.016238  0.981577  1.004380  1.108758   \n",
       "\n",
       "      eq_80    eq_120    eq_160  ...  eq_15000  eq_20000  crestfactor  \\\n",
       "0  0.761651  0.793981  0.699655  ... -0.215696 -0.257946     9.255638   \n",
       "1 -0.947772 -0.862379 -0.590296  ...  0.636140  0.557387    10.187929   \n",
       "2  1.791355  1.793211  1.843819  ...  0.528276  0.487044     7.897027   \n",
       "3  2.272425  2.188971  2.090052  ...  0.769349  0.727442     2.837097   \n",
       "5  1.334478  1.561918  1.548040  ...  0.072507 -0.005021     3.722183   \n",
       "\n",
       "   salience  harmonic_power  percussive_power  harmonic_hits  percussive_hits  \\\n",
       "0         1        0.000011      8.845374e-05     150.472464                4   \n",
       "1         1        0.002384      7.574148e-06      52.204787                2   \n",
       "2         1        0.000030      6.712090e-05     332.313043                4   \n",
       "3         1        0.013045      2.409356e-07     132.342029               16   \n",
       "5         1        0.001770      3.998450e-07    1067.550532                0   \n",
       "\n",
       "   power_ratio  hits_ratio  \n",
       "0     0.889862   -1.567587  \n",
       "1    -2.498050   -1.411869  \n",
       "2     0.354830   -1.901937  \n",
       "3    -4.733537   -0.916112  \n",
       "5    -3.646108   -3.301030  \n",
       "\n",
       "[5 rows x 32 columns]"
      ]
     },
     "execution_count": 164,
     "metadata": {},
     "output_type": "execute_result"
    }
   ],
   "source": [
    "cv_features_df.head()"
   ]
  },
  {
   "cell_type": "code",
   "execution_count": 165,
   "id": "educational-spiritual",
   "metadata": {},
   "outputs": [
    {
     "data": {
      "text/plain": [
       "array([[ 0.7729973 ,  0.71242643,  0.71310227, ...,  4.        ,\n",
       "         0.88986188, -1.56758744],\n",
       "       [-0.40458269, -0.43188613, -0.54357362, ...,  2.        ,\n",
       "        -2.4980501 , -1.41186933],\n",
       "       [ 0.59992689,  0.75121781,  0.92700271, ...,  4.        ,\n",
       "         0.35482961, -1.90193726],\n",
       "       ...,\n",
       "       [ 0.06088342,  0.04968881,  0.07987968, ...,  5.        ,\n",
       "        -1.73298128, -1.05687793],\n",
       "       [ 0.83469809,  0.76121296,  0.79218785, ...,  3.        ,\n",
       "        -0.85333115, -1.83396519],\n",
       "       [-1.03094911, -1.03258675, -1.02254984, ...,  8.        ,\n",
       "        -1.95872738, -0.94843748]])"
      ]
     },
     "execution_count": 165,
     "metadata": {},
     "output_type": "execute_result"
    }
   ],
   "source": [
    "cv_features_df.iloc[:,1:].values"
   ]
  },
  {
   "cell_type": "code",
   "execution_count": 166,
   "id": "average-texas",
   "metadata": {},
   "outputs": [
    {
     "data": {
      "image/png": "[encoded data removed]",
      "text/plain": [
       "<Figure size 792x360 with 1 Axes>"
      ]
     },
     "metadata": {
      "needs_background": "light"
     },
     "output_type": "display_data"
    }
   ],
   "source": [
    "plt.figure(figsize=(11,5))\n",
    "sns.stripplot(data = cv_features_df,\n",
    "             x = 'class',\n",
    "             y = 'eq_20')\n",
    "plt.tight_layout()\n",
    "plt.show()"
   ]
  },
  {
   "cell_type": "code",
   "execution_count": 167,
   "id": "polish-employment",
   "metadata": {},
   "outputs": [],
   "source": [
    "def reduce_confmat(matrix):\n",
    "    \"\"\"\n",
    "    Takes the N-dimensional confusion matrix as input and returns \n",
    "    a tuple (true positive, false positive, false negative) for the whole set.\n",
    "    \n",
    "    confusion matrix C is such that C_ij is equal to the \n",
    "    number of observations known to be in group i \n",
    "    and predicted to be in group j.\n",
    "    \"\"\"\n",
    "    \n",
    "    tps = [] # True positives for each axis\n",
    "    fps = [] # True \n",
    "    fns = []\n",
    "    \n",
    "    for i in range(len(matrix)):\n",
    "        \n",
    "        tps.append(matrix[i,i]) # Append true positives for a class\n",
    "        #confusion_matrix(pred,y_test)[0,:] # returns row 0\n",
    "        #confusion_matrix(pred,y_test)[:,0] # returns column 0\n",
    "        fps.append( np.delete(matrix[:,i],i).sum() ) # take sum, dropping the diagonal element\n",
    "        fns.append( np.delete(matrix[i,:],i).sum() ) # take sum, dropping the diagonal element\n",
    "        \n",
    "    res = (tps, fps, fns)\n",
    "    return res"
   ]
  },
  {
   "cell_type": "code",
   "execution_count": 168,
   "id": "broke-wagner",
   "metadata": {},
   "outputs": [],
   "source": [
    "def TPR(prediction, data):\n",
    "    \"\"\"\n",
    "    Returns True Positive Ratio given a prediction and data\n",
    "    \"\"\"\n",
    "    confmat = confusion_matrix(prediction, data)\n",
    "#     print(confmat)\n",
    "#     plt.figure()\n",
    "#     ConfusionMatrixDisplay(confmat)\n",
    "#     plt.show()\n",
    "#     TN = confmat[0,0]\n",
    "#     FP = confmat[0,1]\n",
    "#     FN = confmat[1,0]\n",
    "#     TP = confmat[1,1]\n",
    "    \n",
    "    (TP, FP, FN) = reduce_confmat(confmat)\n",
    "    \n",
    "    truepos = lambda a, b, c: a/(b+c)\n",
    "    \n",
    "    return [truepos(TP[i], TP[i], FN[i]) for i in range(len(TP))]\n",
    "    \n",
    "\n",
    "    "
   ]
  },
  {
   "cell_type": "code",
   "execution_count": 169,
   "id": "italic-yeast",
   "metadata": {},
   "outputs": [],
   "source": [
    "def recall(prediction, data):\n",
    "    \"\"\"\n",
    "    Calculates recall of a prediction\n",
    "    \"\"\"\n",
    "    \n",
    "    confmat = confusion_matrix(prediction, data)\n",
    "\n",
    "#     TN = confmat[0,0]\n",
    "#     FP = confmat[0,1]\n",
    "#     FN = confmat[1,0]\n",
    "#     TP = confmat[1,1]\n",
    "    (TP, FP, FN) = reduce_confmat(confmat)\n",
    "    \n",
    "    rec = lambda a, b, c: a/(b+c)\n",
    "    \n",
    "    return [rec(TP[i], TP[i], FN[i]) for i in range(len(TP))]\n",
    "    \n",
    "\n",
    "def precision(prediction, data):\n",
    "    \"\"\"\n",
    "    Calculates precision of a prediction\n",
    "    \"\"\"\n",
    "    \n",
    "    confmat = confusion_matrix(prediction, data)\n",
    "\n",
    "#     TN = confmat[0,0]\n",
    "#     FP = confmat[0,1]\n",
    "#     FN = confmat[1,0]\n",
    "#     TP = confmat[1,1]\n",
    "    (TP, FP, FN) = reduce_confmat(confmat)\n",
    "    \n",
    "    prec = lambda a, b, c: a/(b+c)\n",
    "    \n",
    "    return [prec(TP[i], TP[i], FP[i]) for i in range(len(TP))]\n",
    "    "
   ]
  },
  {
   "cell_type": "code",
   "execution_count": 170,
   "id": "fitting-controversy",
   "metadata": {},
   "outputs": [],
   "source": [
    "def Fmeasure(prediction, data):\n",
    "    \"\"\"\n",
    "    Returns Fmeasure. \n",
    "    \n",
    "    This is considered a balance of the precision and the recall.\n",
    "    \n",
    "    F = (2*P*R)/(P+R)\n",
    "    \n",
    "    where\n",
    "    \n",
    "    P = TP/(TP + FP) is the precision and\n",
    "    R = TP/(TP + FN) is the recall.\n",
    "    \n",
    "    Reference: \n",
    "    Müller, Meinard. Fundamentals of music processing: Audio, analysis, algorithms, applications. \n",
    "    Vol. 5. Cham: Springer, 2015.\n",
    "    Sec. 4.5 pp. 217\n",
    "    \"\"\"\n",
    "    confmat = confusion_matrix(prediction, data)\n",
    "\n",
    "#     TN = confmat[0,0]\n",
    "#     FP = confmat[0,1]\n",
    "#     FN = confmat[1,0]\n",
    "#     TP = confmat[1,1]\n",
    "    \n",
    "    (TP, FP, FN) = reduce_confmat(confmat)\n",
    "    \n",
    "#     P = TP/(TP + FP)\n",
    "#     R = TP/(TP + FN)\n",
    "    \n",
    "    workhorse = lambda a, b, c: a/(b+c)\n",
    "    Fmeas = lambda x,y : (2*x*y)/(x+y)\n",
    "    \n",
    "    P = [workhorse(TP[i], TP[i], FP[i]) for i in range(len(TP))]\n",
    "    R = [workhorse(TP[i], TP[i], FN[i]) for i in range(len(TP))]\n",
    "    \n",
    "    \n",
    "    #F = (2*P*R)/(P + R)\n",
    "    return [Fmeas(P[i],R[i]) for i in range(len(P))] #F\n",
    "    "
   ]
  },
  {
   "cell_type": "markdown",
   "id": "reported-marriage",
   "metadata": {},
   "source": [
    "## Establishing a baseline: The Random Forest"
   ]
  },
  {
   "cell_type": "code",
   "execution_count": 171,
   "id": "unlikely-wagner",
   "metadata": {},
   "outputs": [],
   "source": [
    "if len(classify_keys) == 1:\n",
    "    X_train = cv_features_df[classify_keys[0]].values.reshape(-1,1)\n",
    "else:\n",
    "    X_train = cv_features_df.iloc[:,1:-1].values # same as using all keys?#cv_features_df[classify_keys].values\n",
    "    \n",
    "y_train = cv_features_df['class'].values\n",
    "\n",
    "X_test = validation_features_df.iloc[:,1:-1].values #[classify_keys].values\n",
    "y_test = validation_features_df['class']"
   ]
  },
  {
   "cell_type": "code",
   "execution_count": 172,
   "id": "upper-desire",
   "metadata": {},
   "outputs": [
    {
     "data": {
      "text/html": [
       "<div>\n",
       "<style scoped>\n",
       "    .dataframe tbody tr th:only-of-type {\n",
       "        vertical-align: middle;\n",
       "    }\n",
       "\n",
       "    .dataframe tbody tr th {\n",
       "        vertical-align: top;\n",
       "    }\n",
       "\n",
       "    .dataframe thead th {\n",
       "        text-align: right;\n",
       "    }\n",
       "</style>\n",
       "<table border=\"1\" class=\"dataframe\">\n",
       "  <thead>\n",
       "    <tr style=\"text-align: right;\">\n",
       "      <th></th>\n",
       "      <th>class</th>\n",
       "      <th>eq_0</th>\n",
       "      <th>eq_10</th>\n",
       "      <th>eq_20</th>\n",
       "      <th>eq_30</th>\n",
       "      <th>eq_40</th>\n",
       "      <th>eq_60</th>\n",
       "      <th>eq_80</th>\n",
       "      <th>eq_120</th>\n",
       "      <th>eq_160</th>\n",
       "      <th>...</th>\n",
       "      <th>eq_15000</th>\n",
       "      <th>eq_20000</th>\n",
       "      <th>crestfactor</th>\n",
       "      <th>salience</th>\n",
       "      <th>harmonic_power</th>\n",
       "      <th>percussive_power</th>\n",
       "      <th>harmonic_hits</th>\n",
       "      <th>percussive_hits</th>\n",
       "      <th>power_ratio</th>\n",
       "      <th>hits_ratio</th>\n",
       "    </tr>\n",
       "  </thead>\n",
       "  <tbody>\n",
       "    <tr>\n",
       "      <th>0</th>\n",
       "      <td>2</td>\n",
       "      <td>0.772997</td>\n",
       "      <td>0.712426</td>\n",
       "      <td>0.713102</td>\n",
       "      <td>0.745311</td>\n",
       "      <td>0.702959</td>\n",
       "      <td>0.745459</td>\n",
       "      <td>0.761651</td>\n",
       "      <td>0.793981</td>\n",
       "      <td>0.699655</td>\n",
       "      <td>...</td>\n",
       "      <td>-0.215696</td>\n",
       "      <td>-0.257946</td>\n",
       "      <td>9.255638</td>\n",
       "      <td>1</td>\n",
       "      <td>0.000011</td>\n",
       "      <td>8.845374e-05</td>\n",
       "      <td>150.472464</td>\n",
       "      <td>4</td>\n",
       "      <td>0.889862</td>\n",
       "      <td>-1.567587</td>\n",
       "    </tr>\n",
       "    <tr>\n",
       "      <th>1</th>\n",
       "      <td>2</td>\n",
       "      <td>-0.404583</td>\n",
       "      <td>-0.431886</td>\n",
       "      <td>-0.543574</td>\n",
       "      <td>-0.629743</td>\n",
       "      <td>-0.779261</td>\n",
       "      <td>-0.862212</td>\n",
       "      <td>-0.947772</td>\n",
       "      <td>-0.862379</td>\n",
       "      <td>-0.590296</td>\n",
       "      <td>...</td>\n",
       "      <td>0.636140</td>\n",
       "      <td>0.557387</td>\n",
       "      <td>10.187929</td>\n",
       "      <td>1</td>\n",
       "      <td>0.002384</td>\n",
       "      <td>7.574148e-06</td>\n",
       "      <td>52.204787</td>\n",
       "      <td>2</td>\n",
       "      <td>-2.498050</td>\n",
       "      <td>-1.411869</td>\n",
       "    </tr>\n",
       "    <tr>\n",
       "      <th>2</th>\n",
       "      <td>9</td>\n",
       "      <td>0.599927</td>\n",
       "      <td>0.751218</td>\n",
       "      <td>0.927003</td>\n",
       "      <td>1.128319</td>\n",
       "      <td>1.288145</td>\n",
       "      <td>1.548013</td>\n",
       "      <td>1.791355</td>\n",
       "      <td>1.793211</td>\n",
       "      <td>1.843819</td>\n",
       "      <td>...</td>\n",
       "      <td>0.528276</td>\n",
       "      <td>0.487044</td>\n",
       "      <td>7.897027</td>\n",
       "      <td>1</td>\n",
       "      <td>0.000030</td>\n",
       "      <td>6.712090e-05</td>\n",
       "      <td>332.313043</td>\n",
       "      <td>4</td>\n",
       "      <td>0.354830</td>\n",
       "      <td>-1.901937</td>\n",
       "    </tr>\n",
       "    <tr>\n",
       "      <th>3</th>\n",
       "      <td>5</td>\n",
       "      <td>1.692123</td>\n",
       "      <td>2.073951</td>\n",
       "      <td>2.616619</td>\n",
       "      <td>2.551652</td>\n",
       "      <td>2.474416</td>\n",
       "      <td>2.399168</td>\n",
       "      <td>2.272425</td>\n",
       "      <td>2.188971</td>\n",
       "      <td>2.090052</td>\n",
       "      <td>...</td>\n",
       "      <td>0.769349</td>\n",
       "      <td>0.727442</td>\n",
       "      <td>2.837097</td>\n",
       "      <td>1</td>\n",
       "      <td>0.013045</td>\n",
       "      <td>2.409356e-07</td>\n",
       "      <td>132.342029</td>\n",
       "      <td>16</td>\n",
       "      <td>-4.733537</td>\n",
       "      <td>-0.916112</td>\n",
       "    </tr>\n",
       "    <tr>\n",
       "      <th>5</th>\n",
       "      <td>5</td>\n",
       "      <td>0.946868</td>\n",
       "      <td>1.046500</td>\n",
       "      <td>1.016238</td>\n",
       "      <td>0.981577</td>\n",
       "      <td>1.004380</td>\n",
       "      <td>1.108758</td>\n",
       "      <td>1.334478</td>\n",
       "      <td>1.561918</td>\n",
       "      <td>1.548040</td>\n",
       "      <td>...</td>\n",
       "      <td>0.072507</td>\n",
       "      <td>-0.005021</td>\n",
       "      <td>3.722183</td>\n",
       "      <td>1</td>\n",
       "      <td>0.001770</td>\n",
       "      <td>3.998450e-07</td>\n",
       "      <td>1067.550532</td>\n",
       "      <td>0</td>\n",
       "      <td>-3.646108</td>\n",
       "      <td>-3.301030</td>\n",
       "    </tr>\n",
       "  </tbody>\n",
       "</table>\n",
       "<p>5 rows × 32 columns</p>\n",
       "</div>"
      ],
      "text/plain": [
       "   class      eq_0     eq_10     eq_20     eq_30     eq_40     eq_60  \\\n",
       "0      2  0.772997  0.712426  0.713102  0.745311  0.702959  0.745459   \n",
       "1      2 -0.404583 -0.431886 -0.543574 -0.629743 -0.779261 -0.862212   \n",
       "2      9  0.599927  0.751218  0.927003  1.128319  1.288145  1.548013   \n",
       "3      5  1.692123  2.073951  2.616619  2.551652  2.474416  2.399168   \n",
       "5      5  0.946868  1.046500  1.016238  0.981577  1.004380  1.108758   \n",
       "\n",
       "      eq_80    eq_120    eq_160  ...  eq_15000  eq_20000  crestfactor  \\\n",
       "0  0.761651  0.793981  0.699655  ... -0.215696 -0.257946     9.255638   \n",
       "1 -0.947772 -0.862379 -0.590296  ...  0.636140  0.557387    10.187929   \n",
       "2  1.791355  1.793211  1.843819  ...  0.528276  0.487044     7.897027   \n",
       "3  2.272425  2.188971  2.090052  ...  0.769349  0.727442     2.837097   \n",
       "5  1.334478  1.561918  1.548040  ...  0.072507 -0.005021     3.722183   \n",
       "\n",
       "   salience  harmonic_power  percussive_power  harmonic_hits  percussive_hits  \\\n",
       "0         1        0.000011      8.845374e-05     150.472464                4   \n",
       "1         1        0.002384      7.574148e-06      52.204787                2   \n",
       "2         1        0.000030      6.712090e-05     332.313043                4   \n",
       "3         1        0.013045      2.409356e-07     132.342029               16   \n",
       "5         1        0.001770      3.998450e-07    1067.550532                0   \n",
       "\n",
       "   power_ratio  hits_ratio  \n",
       "0     0.889862   -1.567587  \n",
       "1    -2.498050   -1.411869  \n",
       "2     0.354830   -1.901937  \n",
       "3    -4.733537   -0.916112  \n",
       "5    -3.646108   -3.301030  \n",
       "\n",
       "[5 rows x 32 columns]"
      ]
     },
     "execution_count": 172,
     "metadata": {},
     "output_type": "execute_result"
    }
   ],
   "source": [
    "cv_features_df.head()"
   ]
  },
  {
   "cell_type": "code",
   "execution_count": 180,
   "id": "functioning-thirty",
   "metadata": {},
   "outputs": [
    {
     "data": {
      "text/plain": [
       "Index(['class', 'eq_0', 'eq_10', 'eq_20', 'eq_30', 'eq_40', 'eq_60', 'eq_80',\n",
       "       'eq_120', 'eq_160', 'eq_230', 'eq_300', 'eq_450', 'eq_600', 'eq_900',\n",
       "       'eq_1200', 'eq_1800', 'eq_2400', 'eq_3700', 'eq_5000', 'eq_7500',\n",
       "       'eq_10000', 'eq_15000', 'eq_20000', 'crestfactor', 'salience',\n",
       "       'harmonic_power', 'percussive_power', 'harmonic_hits',\n",
       "       'percussive_hits', 'power_ratio', 'hits_ratio'],\n",
       "      dtype='object')"
      ]
     },
     "execution_count": 180,
     "metadata": {},
     "output_type": "execute_result"
    }
   ],
   "source": [
    "cv_features_df.keys()"
   ]
  },
  {
   "cell_type": "code",
   "execution_count": 181,
   "id": "tamil-control",
   "metadata": {},
   "outputs": [
    {
     "data": {
      "text/plain": [
       "array([ 7.72997302e-01,  7.12426429e-01,  7.13102268e-01,  7.45311465e-01,\n",
       "        7.02959424e-01,  7.45458926e-01,  7.61651224e-01,  7.93981288e-01,\n",
       "        6.99654896e-01,  6.37195772e-01,  5.73170225e-01,  6.46992554e-01,\n",
       "        5.70205174e-01,  5.27032948e-01,  4.49930811e-01,  4.63852727e-01,\n",
       "        3.92856282e-01,  3.37290674e-01,  1.82557382e-01,  6.92414907e-02,\n",
       "       -9.21990706e-02, -2.15696264e-01, -2.57945840e-01,  9.25563849e+00,\n",
       "        1.00000000e+00,  1.13986741e-05,  8.84537444e-05,  1.50472464e+02,\n",
       "        4.00000000e+00,  8.89861884e-01, -1.56758744e+00])"
      ]
     },
     "execution_count": 181,
     "metadata": {},
     "output_type": "execute_result"
    }
   ],
   "source": [
    "cv_features_df.iloc[:,1:].values[0]"
   ]
  },
  {
   "cell_type": "code",
   "execution_count": 182,
   "id": "raised-wheat",
   "metadata": {},
   "outputs": [
    {
     "data": {
      "text/plain": [
       "array([ 7.72997302e-01,  7.12426429e-01,  7.13102268e-01,  7.45311465e-01,\n",
       "        7.02959424e-01,  7.45458926e-01,  7.61651224e-01,  7.93981288e-01,\n",
       "        6.99654896e-01,  6.37195772e-01,  5.73170225e-01,  6.46992554e-01,\n",
       "        5.70205174e-01,  5.27032948e-01,  4.49930811e-01,  4.63852727e-01,\n",
       "        3.92856282e-01,  3.37290674e-01,  1.82557382e-01,  6.92414907e-02,\n",
       "       -9.21990706e-02, -2.15696264e-01, -2.57945840e-01,  9.25563849e+00,\n",
       "        1.00000000e+00,  1.13986741e-05,  8.84537444e-05,  1.50472464e+02,\n",
       "        4.00000000e+00,  8.89861884e-01, -1.56758744e+00])"
      ]
     },
     "execution_count": 182,
     "metadata": {},
     "output_type": "execute_result"
    }
   ],
   "source": [
    "cv_features_df[classify_keys].values[0]"
   ]
  },
  {
   "cell_type": "code",
   "execution_count": 183,
   "id": "convertible-client",
   "metadata": {},
   "outputs": [
    {
     "data": {
      "text/plain": [
       "set()"
      ]
     },
     "execution_count": 183,
     "metadata": {},
     "output_type": "execute_result"
    }
   ],
   "source": [
    "set(np.where(np.isnan(X_train) == 1)[0])"
   ]
  },
  {
   "cell_type": "code",
   "execution_count": 184,
   "id": "processed-croatia",
   "metadata": {},
   "outputs": [],
   "source": [
    "#forest = make_pipeline(RobustScaler(), RandomForestClassifier(max_depth=len(set(features_df['class'])), n_estimators=1000,n_jobs=4))\n",
    "forest = RandomForestClassifier(max_depth=len(set(features_df['class'])), n_estimators=1000,n_jobs=4)"
   ]
  },
  {
   "cell_type": "code",
   "execution_count": 185,
   "id": "representative-louisville",
   "metadata": {},
   "outputs": [
    {
     "data": {
      "text/plain": [
       "RandomForestClassifier(max_depth=10, n_estimators=1000, n_jobs=4)"
      ]
     },
     "execution_count": 185,
     "metadata": {},
     "output_type": "execute_result"
    }
   ],
   "source": [
    "forest.fit(X_train, y_train)"
   ]
  },
  {
   "cell_type": "code",
   "execution_count": 186,
   "id": "mexican-maria",
   "metadata": {},
   "outputs": [],
   "source": [
    "pred = forest.predict(X_test)"
   ]
  },
  {
   "cell_type": "code",
   "execution_count": 187,
   "id": "undefined-dallas",
   "metadata": {},
   "outputs": [
    {
     "name": "stdout",
     "output_type": "stream",
     "text": [
      "              precision    recall  f1-score   support\n",
      "\n",
      "           0       0.21      0.36      0.26        59\n",
      "           1       0.31      0.79      0.44        14\n",
      "           2       0.52      0.39      0.45       132\n",
      "           3       0.66      0.82      0.73        80\n",
      "           4       0.71      0.40      0.51       178\n",
      "           5       0.39      0.51      0.44        72\n",
      "           6       0.43      0.52      0.47        29\n",
      "           7       0.53      0.67      0.59        96\n",
      "           8       0.70      0.78      0.74        77\n",
      "           9       0.58      0.43      0.49       136\n",
      "\n",
      "    accuracy                           0.52       873\n",
      "   macro avg       0.50      0.57      0.51       873\n",
      "weighted avg       0.56      0.52      0.52       873\n",
      "\n"
     ]
    }
   ],
   "source": [
    "print(classification_report(pred,y_test))"
   ]
  },
  {
   "cell_type": "code",
   "execution_count": 188,
   "id": "authorized-border",
   "metadata": {},
   "outputs": [
    {
     "data": {
      "text/plain": [
       "0.5211912943871707"
      ]
     },
     "execution_count": 188,
     "metadata": {},
     "output_type": "execute_result"
    }
   ],
   "source": [
    "accuracy_score(pred,y_test)"
   ]
  },
  {
   "cell_type": "code",
   "execution_count": 189,
   "id": "sorted-maker",
   "metadata": {},
   "outputs": [],
   "source": [
    "classlabels = {'air_conditioner':0, 'car_horn':1, 'children_playing':2, 'dog_bark':3, 'drilling':4, 'engine_idling':5, 'gun_shot':6, 'jackhammer':7, 'siren':8, 'street_music':9}.keys()\n",
    "#classlabels = {'air_conditioner':0, 'car_horn':1, 'dog_bark':3, 'drilling':4, 'engine_idling':5, 'gun_shot':6, 'jackhammer':7, 'siren':8, 'street_music':9}.keys()\n",
    "\n",
    "\n",
    "#familylabels = {'house_sounds':0, 'car_horn':1, 'dog_bark':3, 'drilling':4, 'engine_idling':5, 'gun_shot':6, 'jackhammer':7, 'siren':8, }.keys()\n",
    "\n",
    "#familylabels = {'house_sounds':0, 'car_horn':1, 'dog_bark':3, 'construction':4, 'motors':5, 'gun_shot':6, 'siren':8}.keys()\n",
    "familylabels = {'not gunshot':0, 'gunshot':1}.keys()"
   ]
  },
  {
   "cell_type": "code",
   "execution_count": 190,
   "id": "dying-sociology",
   "metadata": {},
   "outputs": [
    {
     "data": {
      "text/plain": [
       "[0.3559322033898305,\n",
       " 0.7857142857142857,\n",
       " 0.3939393939393939,\n",
       " 0.825,\n",
       " 0.398876404494382,\n",
       " 0.5138888888888888,\n",
       " 0.5172413793103449,\n",
       " 0.6666666666666666,\n",
       " 0.7792207792207793,\n",
       " 0.4264705882352941]"
      ]
     },
     "execution_count": 190,
     "metadata": {},
     "output_type": "execute_result"
    }
   ],
   "source": [
    "TPR(pred,y_test)"
   ]
  },
  {
   "cell_type": "code",
   "execution_count": 191,
   "id": "congressional-rocket",
   "metadata": {},
   "outputs": [
    {
     "data": {
      "image/png": "[encoded data removed]",
      "text/plain": [
       "<Figure size 432x288 with 1 Axes>"
      ]
     },
     "metadata": {
      "needs_background": "light"
     },
     "output_type": "display_data"
    }
   ],
   "source": [
    "fig = plt.figure()\n",
    "ax0 = fig.add_subplot(111)\n",
    "\n",
    "#ax0.scatter(classlabels,TPR(pred,y_test),label='TPR')\n",
    "ax0.scatter(classlabels,precision(pred,y_test),label='Precision')\n",
    "ax0.scatter(classlabels,recall(pred,y_test),label='Recall')\n",
    "ax0.scatter(classlabels,Fmeasure(pred,y_test),label='Fmeasure')\n",
    "\n",
    "ax0.tick_params(rotation=90)\n",
    "ax0.legend()\n",
    "ax0.set_ylim(0,1)\n",
    "\n",
    "plt.tight_layout()\n",
    "plt.show()"
   ]
  },
  {
   "cell_type": "code",
   "execution_count": 192,
   "id": "completed-coating",
   "metadata": {},
   "outputs": [
    {
     "ename": "TypeError",
     "evalue": "list indices must be integers or slices, not str",
     "output_type": "error",
     "traceback": [
      "\u001b[0;31m---------------------------------------------------------------------------\u001b[0m",
      "\u001b[0;31mTypeError\u001b[0m                                 Traceback (most recent call last)",
      "\u001b[0;32m<ipython-input-192-a68b2b682bcf>\u001b[0m in \u001b[0;36m<module>\u001b[0;34m\u001b[0m\n\u001b[1;32m      2\u001b[0m \u001b[0max0\u001b[0m \u001b[0;34m=\u001b[0m \u001b[0mfig\u001b[0m\u001b[0;34m.\u001b[0m\u001b[0madd_subplot\u001b[0m\u001b[0;34m(\u001b[0m\u001b[0;36m111\u001b[0m\u001b[0;34m)\u001b[0m\u001b[0;34m\u001b[0m\u001b[0;34m\u001b[0m\u001b[0m\n\u001b[1;32m      3\u001b[0m \u001b[0;34m\u001b[0m\u001b[0m\n\u001b[0;32m----> 4\u001b[0;31m \u001b[0max0\u001b[0m\u001b[0;34m.\u001b[0m\u001b[0mbar\u001b[0m\u001b[0;34m(\u001b[0m\u001b[0mclassify_keys\u001b[0m\u001b[0;34m,\u001b[0m\u001b[0mforest\u001b[0m\u001b[0;34m[\u001b[0m\u001b[0;34m'randomforestclassifier'\u001b[0m\u001b[0;34m]\u001b[0m\u001b[0;34m.\u001b[0m\u001b[0mfeature_importances_\u001b[0m\u001b[0;34m)\u001b[0m\u001b[0;34m\u001b[0m\u001b[0;34m\u001b[0m\u001b[0m\n\u001b[0m\u001b[1;32m      5\u001b[0m \u001b[0;34m\u001b[0m\u001b[0m\n\u001b[1;32m      6\u001b[0m \u001b[0max0\u001b[0m\u001b[0;34m.\u001b[0m\u001b[0mtick_params\u001b[0m\u001b[0;34m(\u001b[0m\u001b[0mrotation\u001b[0m\u001b[0;34m=\u001b[0m\u001b[0;36m90\u001b[0m\u001b[0;34m)\u001b[0m\u001b[0;34m\u001b[0m\u001b[0;34m\u001b[0m\u001b[0m\n",
      "\u001b[0;32m~/anaconda3/lib/python3.8/site-packages/sklearn/ensemble/_base.py\u001b[0m in \u001b[0;36m__getitem__\u001b[0;34m(self, index)\u001b[0m\n\u001b[1;32m    166\u001b[0m     \u001b[0;32mdef\u001b[0m \u001b[0m__getitem__\u001b[0m\u001b[0;34m(\u001b[0m\u001b[0mself\u001b[0m\u001b[0;34m,\u001b[0m \u001b[0mindex\u001b[0m\u001b[0;34m)\u001b[0m\u001b[0;34m:\u001b[0m\u001b[0;34m\u001b[0m\u001b[0;34m\u001b[0m\u001b[0m\n\u001b[1;32m    167\u001b[0m         \u001b[0;34m\"\"\"Return the index'th estimator in the ensemble.\"\"\"\u001b[0m\u001b[0;34m\u001b[0m\u001b[0;34m\u001b[0m\u001b[0m\n\u001b[0;32m--> 168\u001b[0;31m         \u001b[0;32mreturn\u001b[0m \u001b[0mself\u001b[0m\u001b[0;34m.\u001b[0m\u001b[0mestimators_\u001b[0m\u001b[0;34m[\u001b[0m\u001b[0mindex\u001b[0m\u001b[0;34m]\u001b[0m\u001b[0;34m\u001b[0m\u001b[0;34m\u001b[0m\u001b[0m\n\u001b[0m\u001b[1;32m    169\u001b[0m \u001b[0;34m\u001b[0m\u001b[0m\n\u001b[1;32m    170\u001b[0m     \u001b[0;32mdef\u001b[0m \u001b[0m__iter__\u001b[0m\u001b[0;34m(\u001b[0m\u001b[0mself\u001b[0m\u001b[0;34m)\u001b[0m\u001b[0;34m:\u001b[0m\u001b[0;34m\u001b[0m\u001b[0;34m\u001b[0m\u001b[0m\n",
      "\u001b[0;31mTypeError\u001b[0m: list indices must be integers or slices, not str"
     ]
    },
    {
     "data": {
      "image/png": "[encoded data removed]",
      "text/plain": [
       "<Figure size 432x288 with 1 Axes>"
      ]
     },
     "metadata": {
      "needs_background": "light"
     },
     "output_type": "display_data"
    }
   ],
   "source": [
    "fig = plt.figure()\n",
    "ax0 = fig.add_subplot(111)\n",
    "\n",
    "ax0.bar(classify_keys,forest['randomforestclassifier'].feature_importances_)\n",
    "\n",
    "ax0.tick_params(rotation=90)\n",
    "ax0.set_ylabel('Feature importance')\n",
    "\n",
    "plt.tight_layout()\n",
    "plt.show()"
   ]
  },
  {
   "cell_type": "code",
   "execution_count": 193,
   "id": "broken-council",
   "metadata": {},
   "outputs": [
    {
     "data": {
      "text/plain": [
       "array([[21,  2,  5,  2,  2, 19,  0,  0,  5,  3],\n",
       "       [ 0, 11,  0,  1,  2,  0,  0,  0,  0,  0],\n",
       "       [ 6,  4, 52, 18, 13,  1, 13,  0, 11, 14],\n",
       "       [ 0,  1,  7, 66,  2,  0,  1,  0,  3,  0],\n",
       "       [ 1,  3,  5,  3, 71, 28,  6, 48,  2, 11],\n",
       "       [ 9,  3,  6,  3,  5, 37,  0,  6,  0,  3],\n",
       "       [ 3,  0,  3,  2,  0,  0, 15,  1,  5,  0],\n",
       "       [16,  0,  0,  0,  1,  8,  0, 64,  0,  7],\n",
       "       [ 0,  2,  7,  2,  2,  0,  0,  0, 60,  4],\n",
       "       [44, 10, 15,  3,  2,  3,  0,  1,  0, 58]])"
      ]
     },
     "execution_count": 193,
     "metadata": {},
     "output_type": "execute_result"
    }
   ],
   "source": [
    "confusion_matrix(pred,y_test)"
   ]
  },
  {
   "cell_type": "code",
   "execution_count": 194,
   "id": "worldwide-automation",
   "metadata": {},
   "outputs": [
    {
     "data": {
      "text/plain": [
       "<Figure size 648x648 with 0 Axes>"
      ]
     },
     "metadata": {},
     "output_type": "display_data"
    },
    {
     "data": {
      "image/png": "[encoded data removed]",
      "text/plain": [
       "<Figure size 432x288 with 2 Axes>"
      ]
     },
     "metadata": {
      "needs_background": "light"
     },
     "output_type": "display_data"
    }
   ],
   "source": [
    "plt.figure(figsize=(9,9))\n",
    "disp = ConfusionMatrixDisplay(confusion_matrix(pred,y_test),display_labels=classlabels)\n",
    "disp.plot(xticks_rotation='vertical')\n",
    "plt.show()"
   ]
  },
  {
   "cell_type": "markdown",
   "id": "small-channels",
   "metadata": {},
   "source": [
    "### Trying another model: A simple NN"
   ]
  },
  {
   "cell_type": "code",
   "execution_count": 230,
   "id": "polish-breath",
   "metadata": {},
   "outputs": [],
   "source": [
    "mlp = make_pipeline(MLPClassifier(hidden_layer_sizes=(150,150,150,150,150,), max_iter=100000,early_stopping=True))\n",
    "# MLPClassifier(max_iter=10000,early_stopping=True,learning_rate='adaptive')"
   ]
  },
  {
   "cell_type": "code",
   "execution_count": 231,
   "id": "emotional-salvation",
   "metadata": {},
   "outputs": [
    {
     "data": {
      "text/plain": [
       "Pipeline(steps=[('mlpclassifier',\n",
       "                 MLPClassifier(early_stopping=True,\n",
       "                               hidden_layer_sizes=(150, 150, 150, 150, 150),\n",
       "                               max_iter=100000))])"
      ]
     },
     "execution_count": 231,
     "metadata": {},
     "output_type": "execute_result"
    }
   ],
   "source": [
    "mlp.fit(X_train, y_train)"
   ]
  },
  {
   "cell_type": "code",
   "execution_count": 232,
   "id": "fossil-november",
   "metadata": {},
   "outputs": [],
   "source": [
    "pred_mlp = mlp.predict(X_test)"
   ]
  },
  {
   "cell_type": "code",
   "execution_count": 233,
   "id": "municipal-broadcast",
   "metadata": {},
   "outputs": [
    {
     "data": {
      "text/plain": [
       "0.5807560137457045"
      ]
     },
     "execution_count": 233,
     "metadata": {},
     "output_type": "execute_result"
    }
   ],
   "source": [
    "accuracy_score(pred_mlp,y_test)"
   ]
  },
  {
   "cell_type": "code",
   "execution_count": 234,
   "id": "narrative-bowling",
   "metadata": {},
   "outputs": [
    {
     "data": {
      "text/plain": [
       "[0.6063829787234043,\n",
       " 0.48148148148148145,\n",
       " 0.5116279069767442,\n",
       " 0.6987951807228916,\n",
       " 0.4125874125874126,\n",
       " 0.49019607843137253,\n",
       " 0.5660377358490566,\n",
       " 0.945054945054945,\n",
       " 0.759493670886076,\n",
       " 0.43478260869565216]"
      ]
     },
     "execution_count": 234,
     "metadata": {},
     "output_type": "execute_result"
    }
   ],
   "source": [
    "TPR(pred_mlp,y_test)"
   ]
  },
  {
   "cell_type": "code",
   "execution_count": 235,
   "id": "adequate-seafood",
   "metadata": {},
   "outputs": [
    {
     "data": {
      "image/png": "[encoded data removed]",
      "text/plain": [
       "<Figure size 432x288 with 1 Axes>"
      ]
     },
     "metadata": {
      "needs_background": "light"
     },
     "output_type": "display_data"
    }
   ],
   "source": [
    "fig = plt.figure()\n",
    "ax0 = fig.add_subplot(111)\n",
    "\n",
    "#ax0.scatter(classlabels,TPR(pred,y_test),label='TPR')\n",
    "ax0.scatter(classlabels,precision(pred_mlp,y_test),label='Precision')\n",
    "ax0.scatter(classlabels,recall(pred_mlp,y_test),label='Recall')\n",
    "ax0.scatter(classlabels,Fmeasure(pred_mlp,y_test),label='Fmeasure')\n",
    "\n",
    "ax0.tick_params(rotation=90)\n",
    "ax0.legend()\n",
    "ax0.set_ylim(0,1)\n",
    "\n",
    "plt.tight_layout()\n",
    "plt.show()"
   ]
  },
  {
   "cell_type": "markdown",
   "id": "fatal-joseph",
   "metadata": {},
   "source": [
    "## And now a more involved NN using Keras"
   ]
  },
  {
   "cell_type": "code",
   "execution_count": 375,
   "id": "comfortable-thirty",
   "metadata": {},
   "outputs": [],
   "source": [
    "from keras.models import Sequential\n",
    "from keras.layers import Dense\n",
    "from keras.utils import to_categorical \n",
    "from tensorflow.keras.metrics import CategoricalAccuracy, Recall"
   ]
  },
  {
   "cell_type": "code",
   "execution_count": 380,
   "id": "elementary-massachusetts",
   "metadata": {},
   "outputs": [],
   "source": [
    "model = Sequential()\n",
    "model.add(Dense(500, activation='relu', input_dim=len(classify_keys)-1))\n",
    "model.add(Dense(350, activation='relu'))\n",
    "model.add(Dense(250, activation='relu'))\n",
    "model.add(Dense(150, activation='relu'))\n",
    "#model.add(Dense(100, activation='relu'))\n",
    "model.add(Dense(10, activation='softmax'))\n",
    "\n",
    "# Compile the model\n",
    "model.compile(optimizer='rmsprop', # was: adam\n",
    "              loss='categorical_crossentropy', \n",
    "              metrics=[Recall(),CategoricalAccuracy()])"
   ]
  },
  {
   "cell_type": "code",
   "execution_count": 381,
   "id": "dressed-sight",
   "metadata": {},
   "outputs": [
    {
     "data": {
      "text/plain": [
       "(7859, 30)"
      ]
     },
     "execution_count": 381,
     "metadata": {},
     "output_type": "execute_result"
    }
   ],
   "source": [
    "X_train.shape"
   ]
  },
  {
   "cell_type": "code",
   "execution_count": 382,
   "id": "average-suspension",
   "metadata": {},
   "outputs": [
    {
     "name": "stdout",
     "output_type": "stream",
     "text": [
      "Epoch 1/50\n",
      "246/246 [==============================] - 2s 5ms/step - loss: 2.5790 - recall_1: 0.1132 - categorical_accuracy: 0.2723 - val_loss: 1.6496 - val_recall_1: 0.2314 - val_categorical_accuracy: 0.3723\n",
      "Epoch 2/50\n",
      "246/246 [==============================] - 1s 4ms/step - loss: 1.7768 - recall_1: 0.1672 - categorical_accuracy: 0.3644 - val_loss: 1.4888 - val_recall_1: 0.2520 - val_categorical_accuracy: 0.4926\n",
      "Epoch 3/50\n",
      "246/246 [==============================] - 1s 4ms/step - loss: 1.6138 - recall_1: 0.2145 - categorical_accuracy: 0.4153 - val_loss: 1.4970 - val_recall_1: 0.2910 - val_categorical_accuracy: 0.4456\n",
      "Epoch 4/50\n",
      "246/246 [==============================] - 1s 4ms/step - loss: 1.4769 - recall_1: 0.2792 - categorical_accuracy: 0.4742 - val_loss: 1.3827 - val_recall_1: 0.3001 - val_categorical_accuracy: 0.4880\n",
      "Epoch 5/50\n",
      "246/246 [==============================] - 1s 4ms/step - loss: 1.3747 - recall_1: 0.3199 - categorical_accuracy: 0.4980 - val_loss: 1.4568 - val_recall_1: 0.3127 - val_categorical_accuracy: 0.4616\n",
      "Epoch 6/50\n",
      "246/246 [==============================] - 1s 4ms/step - loss: 1.3100 - recall_1: 0.3544 - categorical_accuracy: 0.5320 - val_loss: 1.9494 - val_recall_1: 0.2761 - val_categorical_accuracy: 0.4307\n",
      "Epoch 7/50\n",
      "246/246 [==============================] - 1s 5ms/step - loss: 1.2477 - recall_1: 0.3881 - categorical_accuracy: 0.5482 - val_loss: 1.2624 - val_recall_1: 0.3700 - val_categorical_accuracy: 0.5785\n",
      "Epoch 8/50\n",
      "246/246 [==============================] - 1s 4ms/step - loss: 1.1946 - recall_1: 0.4134 - categorical_accuracy: 0.5720 - val_loss: 1.7052 - val_recall_1: 0.4112 - val_categorical_accuracy: 0.5361\n",
      "Epoch 9/50\n",
      "246/246 [==============================] - 1s 4ms/step - loss: 1.1658 - recall_1: 0.4315 - categorical_accuracy: 0.5902 - val_loss: 1.6345 - val_recall_1: 0.3310 - val_categorical_accuracy: 0.4822\n",
      "Epoch 10/50\n",
      "246/246 [==============================] - 1s 5ms/step - loss: 1.1204 - recall_1: 0.4559 - categorical_accuracy: 0.5991 - val_loss: 1.8817 - val_recall_1: 0.3333 - val_categorical_accuracy: 0.4536\n",
      "Epoch 11/50\n",
      "246/246 [==============================] - 1s 4ms/step - loss: 1.0955 - recall_1: 0.4660 - categorical_accuracy: 0.6097 - val_loss: 1.5252 - val_recall_1: 0.4548 - val_categorical_accuracy: 0.5292\n",
      "Epoch 12/50\n",
      "246/246 [==============================] - 1s 4ms/step - loss: 1.0732 - recall_1: 0.4772 - categorical_accuracy: 0.6115 - val_loss: 1.4537 - val_recall_1: 0.4490 - val_categorical_accuracy: 0.5819\n",
      "Epoch 13/50\n",
      "246/246 [==============================] - 1s 4ms/step - loss: 1.0453 - recall_1: 0.4922 - categorical_accuracy: 0.6243 - val_loss: 1.5466 - val_recall_1: 0.4261 - val_categorical_accuracy: 0.5739\n",
      "Epoch 14/50\n",
      "246/246 [==============================] - 1s 4ms/step - loss: 1.0138 - recall_1: 0.5162 - categorical_accuracy: 0.6428 - val_loss: 1.5882 - val_recall_1: 0.4066 - val_categorical_accuracy: 0.5200\n",
      "Epoch 15/50\n",
      "246/246 [==============================] - 1s 4ms/step - loss: 1.0037 - recall_1: 0.5205 - categorical_accuracy: 0.6515 - val_loss: 1.5897 - val_recall_1: 0.4399 - val_categorical_accuracy: 0.5281\n",
      "Epoch 16/50\n",
      "246/246 [==============================] - 1s 4ms/step - loss: 0.9959 - recall_1: 0.5279 - categorical_accuracy: 0.6548 - val_loss: 1.4647 - val_recall_1: 0.4479 - val_categorical_accuracy: 0.5544\n",
      "Epoch 17/50\n",
      "246/246 [==============================] - 1s 4ms/step - loss: 0.9671 - recall_1: 0.5384 - categorical_accuracy: 0.6540 - val_loss: 1.8397 - val_recall_1: 0.4101 - val_categorical_accuracy: 0.4983\n",
      "Epoch 18/50\n",
      "246/246 [==============================] - 1s 4ms/step - loss: 0.9557 - recall_1: 0.5407 - categorical_accuracy: 0.6580 - val_loss: 1.6172 - val_recall_1: 0.4307 - val_categorical_accuracy: 0.5430\n",
      "Epoch 19/50\n",
      "246/246 [==============================] - 1s 4ms/step - loss: 0.9538 - recall_1: 0.5576 - categorical_accuracy: 0.6708 - val_loss: 1.8163 - val_recall_1: 0.3963 - val_categorical_accuracy: 0.4857\n",
      "Epoch 20/50\n",
      "246/246 [==============================] - 1s 4ms/step - loss: 0.9136 - recall_1: 0.5670 - categorical_accuracy: 0.6765 - val_loss: 1.7705 - val_recall_1: 0.4662 - val_categorical_accuracy: 0.5292\n",
      "Epoch 21/50\n",
      "246/246 [==============================] - 1s 4ms/step - loss: 0.9144 - recall_1: 0.5711 - categorical_accuracy: 0.6767 - val_loss: 1.6191 - val_recall_1: 0.4593 - val_categorical_accuracy: 0.5498\n",
      "Epoch 22/50\n",
      "246/246 [==============================] - 1s 4ms/step - loss: 0.8906 - recall_1: 0.5778 - categorical_accuracy: 0.6866 - val_loss: 1.8088 - val_recall_1: 0.3998 - val_categorical_accuracy: 0.5246\n",
      "Epoch 23/50\n",
      "246/246 [==============================] - 1s 4ms/step - loss: 0.8981 - recall_1: 0.5792 - categorical_accuracy: 0.6879 - val_loss: 2.4890 - val_recall_1: 0.4009 - val_categorical_accuracy: 0.4708\n",
      "Epoch 24/50\n",
      "246/246 [==============================] - 1s 4ms/step - loss: 0.8753 - recall_1: 0.5890 - categorical_accuracy: 0.6937 - val_loss: 2.2394 - val_recall_1: 0.4696 - val_categorical_accuracy: 0.5292\n",
      "Epoch 25/50\n",
      "246/246 [==============================] - 1s 4ms/step - loss: 0.8555 - recall_1: 0.5982 - categorical_accuracy: 0.6995 - val_loss: 2.1102 - val_recall_1: 0.4731 - val_categorical_accuracy: 0.5796\n",
      "Epoch 26/50\n",
      "246/246 [==============================] - 1s 4ms/step - loss: 0.8934 - recall_1: 0.6087 - categorical_accuracy: 0.7120 - val_loss: 2.0931 - val_recall_1: 0.4490 - val_categorical_accuracy: 0.5200\n",
      "Epoch 27/50\n",
      "246/246 [==============================] - 1s 4ms/step - loss: 0.8457 - recall_1: 0.6011 - categorical_accuracy: 0.7019 - val_loss: 2.2008 - val_recall_1: 0.4192 - val_categorical_accuracy: 0.5074\n",
      "Epoch 28/50\n",
      "246/246 [==============================] - 1s 5ms/step - loss: 0.8417 - recall_1: 0.6143 - categorical_accuracy: 0.7070 - val_loss: 2.5521 - val_recall_1: 0.4422 - val_categorical_accuracy: 0.5109\n",
      "Epoch 29/50\n",
      "246/246 [==============================] - 1s 4ms/step - loss: 0.8183 - recall_1: 0.6239 - categorical_accuracy: 0.7147 - val_loss: 2.7434 - val_recall_1: 0.4742 - val_categorical_accuracy: 0.5097\n",
      "Epoch 30/50\n",
      "246/246 [==============================] - 1s 4ms/step - loss: 0.8413 - recall_1: 0.6239 - categorical_accuracy: 0.7110 - val_loss: 2.5874 - val_recall_1: 0.4822 - val_categorical_accuracy: 0.5556\n",
      "Epoch 31/50\n",
      "246/246 [==============================] - 1s 4ms/step - loss: 0.8524 - recall_1: 0.6301 - categorical_accuracy: 0.7222 - val_loss: 2.6551 - val_recall_1: 0.4696 - val_categorical_accuracy: 0.5074\n",
      "Epoch 32/50\n",
      "246/246 [==============================] - 1s 4ms/step - loss: 0.8164 - recall_1: 0.6435 - categorical_accuracy: 0.7266 - val_loss: 2.2614 - val_recall_1: 0.4696 - val_categorical_accuracy: 0.5487\n",
      "Epoch 33/50\n",
      "246/246 [==============================] - 1s 4ms/step - loss: 0.8023 - recall_1: 0.6377 - categorical_accuracy: 0.7246 - val_loss: 3.2914 - val_recall_1: 0.4616 - val_categorical_accuracy: 0.5120\n",
      "Epoch 34/50\n",
      "246/246 [==============================] - 1s 4ms/step - loss: 0.8317 - recall_1: 0.6408 - categorical_accuracy: 0.7216 - val_loss: 2.7011 - val_recall_1: 0.4422 - val_categorical_accuracy: 0.5246\n",
      "Epoch 35/50\n",
      "246/246 [==============================] - 1s 4ms/step - loss: 0.7956 - recall_1: 0.6422 - categorical_accuracy: 0.7294 - val_loss: 3.1343 - val_recall_1: 0.4880 - val_categorical_accuracy: 0.5292\n",
      "Epoch 36/50\n",
      "246/246 [==============================] - 1s 4ms/step - loss: 0.7798 - recall_1: 0.6519 - categorical_accuracy: 0.7314 - val_loss: 2.9845 - val_recall_1: 0.4490 - val_categorical_accuracy: 0.4914\n",
      "Epoch 37/50\n",
      "246/246 [==============================] - 1s 4ms/step - loss: 0.7956 - recall_1: 0.6465 - categorical_accuracy: 0.7344 - val_loss: 3.1895 - val_recall_1: 0.4742 - val_categorical_accuracy: 0.5235\n",
      "Epoch 38/50\n",
      "246/246 [==============================] - 1s 4ms/step - loss: 0.8096 - recall_1: 0.6464 - categorical_accuracy: 0.7314 - val_loss: 3.4840 - val_recall_1: 0.4616 - val_categorical_accuracy: 0.5246\n",
      "Epoch 39/50\n",
      "246/246 [==============================] - 1s 4ms/step - loss: 0.8128 - recall_1: 0.6510 - categorical_accuracy: 0.7347 - val_loss: 2.0892 - val_recall_1: 0.4399 - val_categorical_accuracy: 0.4971\n",
      "Epoch 40/50\n"
     ]
    },
    {
     "name": "stdout",
     "output_type": "stream",
     "text": [
      "246/246 [==============================] - 1s 4ms/step - loss: 0.8056 - recall_1: 0.6497 - categorical_accuracy: 0.7327 - val_loss: 3.5096 - val_recall_1: 0.4055 - val_categorical_accuracy: 0.4593\n",
      "Epoch 41/50\n",
      "246/246 [==============================] - 1s 4ms/step - loss: 0.8045 - recall_1: 0.6540 - categorical_accuracy: 0.7348 - val_loss: 2.6050 - val_recall_1: 0.4822 - val_categorical_accuracy: 0.5475\n",
      "Epoch 42/50\n",
      "246/246 [==============================] - 1s 4ms/step - loss: 0.7897 - recall_1: 0.6501 - categorical_accuracy: 0.7353 - val_loss: 2.8635 - val_recall_1: 0.4651 - val_categorical_accuracy: 0.5407\n",
      "Epoch 43/50\n",
      "246/246 [==============================] - 1s 4ms/step - loss: 0.8079 - recall_1: 0.6515 - categorical_accuracy: 0.7370 - val_loss: 3.1033 - val_recall_1: 0.4387 - val_categorical_accuracy: 0.5040\n",
      "Epoch 44/50\n",
      "246/246 [==============================] - 1s 4ms/step - loss: 0.7503 - recall_1: 0.6710 - categorical_accuracy: 0.7448 - val_loss: 3.5638 - val_recall_1: 0.4777 - val_categorical_accuracy: 0.5178\n",
      "Epoch 45/50\n",
      "246/246 [==============================] - 1s 4ms/step - loss: 0.7958 - recall_1: 0.6562 - categorical_accuracy: 0.7412 - val_loss: 3.1786 - val_recall_1: 0.4754 - val_categorical_accuracy: 0.5510\n",
      "Epoch 46/50\n",
      "246/246 [==============================] - 1s 4ms/step - loss: 0.7601 - recall_1: 0.6668 - categorical_accuracy: 0.7418 - val_loss: 3.5344 - val_recall_1: 0.4307 - val_categorical_accuracy: 0.4845\n",
      "Epoch 47/50\n",
      "246/246 [==============================] - 1s 4ms/step - loss: 0.8038 - recall_1: 0.6660 - categorical_accuracy: 0.7426 - val_loss: 2.6532 - val_recall_1: 0.4811 - val_categorical_accuracy: 0.5407\n",
      "Epoch 48/50\n",
      "246/246 [==============================] - 1s 4ms/step - loss: 0.7789 - recall_1: 0.6683 - categorical_accuracy: 0.7434 - val_loss: 3.7318 - val_recall_1: 0.4948 - val_categorical_accuracy: 0.5281\n",
      "Epoch 49/50\n",
      "246/246 [==============================] - 1s 4ms/step - loss: 0.7833 - recall_1: 0.6637 - categorical_accuracy: 0.7397 - val_loss: 4.4250 - val_recall_1: 0.4719 - val_categorical_accuracy: 0.5120\n",
      "Epoch 50/50\n",
      "246/246 [==============================] - 1s 4ms/step - loss: 0.7667 - recall_1: 0.6651 - categorical_accuracy: 0.7441 - val_loss: 3.4108 - val_recall_1: 0.4822 - val_categorical_accuracy: 0.5384\n"
     ]
    }
   ],
   "source": [
    "n_epochs = 50\n",
    "history = model.fit(X_train, to_categorical(y_train), epochs=n_epochs, verbose = 1,\n",
    "              validation_data = (X_test, to_categorical(y_test)))"
   ]
  },
  {
   "cell_type": "code",
   "execution_count": 383,
   "id": "declared-radius",
   "metadata": {},
   "outputs": [
    {
     "name": "stdout",
     "output_type": "stream",
     "text": [
      "246/246 [==============================] - 0s 2ms/step\n",
      "Accuracy on training data: 0.6350680589675903% \n",
      " Error on training data: 0.36493194103240967\n",
      "28/28 [==============================] - 0s 2ms/step\n",
      "Accuracy on test data: 0.4822451174259186% \n",
      " Error on test data: 0.5177548825740814\n"
     ]
    }
   ],
   "source": [
    "pred_train= model.predict(X_train)\n",
    "scores = model.evaluate(X_train, to_categorical(y_train), verbose=0)\n",
    "print('Accuracy on training data: {}% \\n Error on training data: {}'.format(scores[1], 1 - scores[1]))   \n",
    " \n",
    "pred_test= model.predict(X_test)\n",
    "scores2 = model.evaluate(X_test, to_categorical(y_test), verbose=0)\n",
    "print('Accuracy on test data: {}% \\n Error on test data: {}'.format(scores2[1], 1 - scores2[1]))    "
   ]
  },
  {
   "cell_type": "code",
   "execution_count": 384,
   "id": "sealed-religion",
   "metadata": {},
   "outputs": [],
   "source": [
    "keras_confmat = confusion_matrix(to_categorical(y_test).argmax(axis=1), pred_test.argmax(axis=1))"
   ]
  },
  {
   "cell_type": "code",
   "execution_count": 385,
   "id": "saved-headline",
   "metadata": {},
   "outputs": [
    {
     "data": {
      "text/plain": [
       "<Figure size 648x648 with 0 Axes>"
      ]
     },
     "metadata": {},
     "output_type": "display_data"
    },
    {
     "data": {
      "image/png": "[encoded data removed]",
      "text/plain": [
       "<Figure size 432x288 with 2 Axes>"
      ]
     },
     "metadata": {
      "needs_background": "light"
     },
     "output_type": "display_data"
    }
   ],
   "source": [
    "plt.figure(figsize=(9,9))\n",
    "disp = ConfusionMatrixDisplay(keras_confmat,display_labels=classlabels)\n",
    "disp.plot(xticks_rotation='vertical')\n",
    "plt.show()"
   ]
  },
  {
   "cell_type": "code",
   "execution_count": 386,
   "id": "amazing-bookmark",
   "metadata": {},
   "outputs": [
    {
     "data": {
      "image/png": "[encoded data removed]",
      "text/plain": [
       "<Figure size 1008x432 with 1 Axes>"
      ]
     },
     "metadata": {
      "needs_background": "light"
     },
     "output_type": "display_data"
    }
   ],
   "source": [
    "history_dict = history.history\n",
    "\n",
    "plt.figure(figsize = (14,6))\n",
    "\n",
    "plt.scatter(range(1,n_epochs+1), history_dict['categorical_accuracy'], label = \"Training Accuracy\")\n",
    "plt.scatter(range(1,n_epochs+1), history_dict['val_categorical_accuracy'], marker='v', label = \"Validation Set Accuracy\")\n",
    "\n",
    "plt.scatter(range(1,n_epochs+1), history_dict['recall_1'], label = \"Training Recall\")\n",
    "plt.scatter(range(1,n_epochs+1), history_dict['val_recall_1'], marker='v', label = \"Validation Recall\")\n",
    "\n",
    "plt.xlabel(\"Epoch\", fontsize=18)\n",
    "#plt.ylabel(\"Accuracy\", fontsize=18)\n",
    "\n",
    "plt.xticks(fontsize=16)\n",
    "plt.yticks(fontsize=16)\n",
    "\n",
    "plt.legend(fontsize=18)\n",
    "\n",
    "plt.show()"
   ]
  },
  {
   "cell_type": "code",
   "execution_count": 371,
   "id": "successful-bullet",
   "metadata": {},
   "outputs": [],
   "source": [
    "def make_class_scatter_plot(p,ytest,label):\n",
    "    fig = plt.figure()\n",
    "    ax0 = fig.add_subplot(111)\n",
    "\n",
    "    #ax0.scatter(classlabels,TPR(pred,y_test),label='TPR')\n",
    "    ax0.scatter(classlabels,precision(ytest,p),label='Precision')\n",
    "    ax0.scatter(classlabels,recall(ytest,p),label='Recall')\n",
    "    ax0.scatter(classlabels,Fmeasure(ytest,p),label='Fmeasure')\n",
    "\n",
    "    ax0.tick_params(rotation=90)\n",
    "    ax0.legend()\n",
    "    ax0.set_ylim(0,1)\n",
    "    plt.title(f'Classifier: {label}')\n",
    "    plt.tight_layout()\n",
    "    plt.show()\n",
    "    \n",
    "def make_family_scatter_plot(p,ytest,label):\n",
    "    fig = plt.figure()\n",
    "    ax0 = fig.add_subplot(111)\n",
    "\n",
    "    #ax0.scatter(classlabels,TPR(pred,y_test),label='TPR')\n",
    "    ax0.scatter(familylabels,precision(ytest,p),label='Precision')\n",
    "    ax0.scatter(familylabels,recall(ytest,p),label='Recall')\n",
    "    ax0.scatter(familylabels,Fmeasure(ytest,p),label='Fmeasure')\n",
    "\n",
    "    ax0.tick_params(rotation=90)\n",
    "    ax0.legend()\n",
    "    ax0.set_ylim(0,1)\n",
    "    plt.title(f'Classifier: {label}')\n",
    "    plt.tight_layout()\n",
    "    plt.show()"
   ]
  },
  {
   "cell_type": "code",
   "execution_count": 372,
   "id": "revolutionary-inventory",
   "metadata": {},
   "outputs": [
    {
     "data": {
      "image/png": "[encoded data removed]",
      "text/plain": [
       "<Figure size 432x288 with 1 Axes>"
      ]
     },
     "metadata": {
      "needs_background": "light"
     },
     "output_type": "display_data"
    }
   ],
   "source": [
    "make_class_scatter_plot(y_test,pred_test.argmax(axis=1),'Keras')"
   ]
  },
  {
   "cell_type": "code",
   "execution_count": 373,
   "id": "living-exhaust",
   "metadata": {},
   "outputs": [
    {
     "data": {
      "text/plain": [
       "0.7142857142857143"
      ]
     },
     "execution_count": 373,
     "metadata": {},
     "output_type": "execute_result"
    }
   ],
   "source": [
    "recall(pred_test.argmax(axis=1),y_test)[6]"
   ]
  },
  {
   "cell_type": "code",
   "execution_count": 357,
   "id": "monthly-sessions",
   "metadata": {},
   "outputs": [
    {
     "data": {
      "text/plain": [
       "<Figure size 648x648 with 0 Axes>"
      ]
     },
     "metadata": {},
     "output_type": "display_data"
    },
    {
     "data": {
      "image/png": "[encoded data removed]",
      "text/plain": [
       "<Figure size 432x288 with 2 Axes>"
      ]
     },
     "metadata": {
      "needs_background": "light"
     },
     "output_type": "display_data"
    }
   ],
   "source": [
    "plt.figure(figsize=(9,9))\n",
    "disp = ConfusionMatrixDisplay(confusion_matrix(pred_mlp,y_test),display_labels=classlabels)\n",
    "disp.plot(xticks_rotation='vertical')\n",
    "plt.show()"
   ]
  },
  {
   "cell_type": "markdown",
   "id": "green-sierra",
   "metadata": {},
   "source": [
    "## Looping through specified models"
   ]
  },
  {
   "cell_type": "code",
   "execution_count": 362,
   "id": "documented-apollo",
   "metadata": {},
   "outputs": [
    {
     "name": "stderr",
     "output_type": "stream",
     "text": [
      "/home/mheffernan/anaconda3/lib/python3.8/site-packages/sklearn/linear_model/_logistic.py:763: ConvergenceWarning: lbfgs failed to converge (status=1):\n",
      "STOP: TOTAL NO. of ITERATIONS REACHED LIMIT.\n",
      "\n",
      "Increase the number of iterations (max_iter) or scale the data as shown in:\n",
      "    https://scikit-learn.org/stable/modules/preprocessing.html\n",
      "Please also refer to the documentation for alternative solver options:\n",
      "    https://scikit-learn.org/stable/modules/linear_model.html#logistic-regression\n",
      "  n_iter_i = _check_optimize_result(\n"
     ]
    },
    {
     "data": {
      "image/png": "[encoded data removed]",
      "text/plain": [
       "<Figure size 432x288 with 1 Axes>"
      ]
     },
     "metadata": {
      "needs_background": "light"
     },
     "output_type": "display_data"
    },
    {
     "name": "stdout",
     "output_type": "stream",
     "text": [
      "Logistic Regression Classifier accuracy score: 0.561282932416953\n",
      "Logistic Regression Classifier gunshot recall score: 0.6285714285714286\n"
     ]
    },
    {
     "data": {
      "image/png": "[encoded data removed]",
      "text/plain": [
       "<Figure size 432x288 with 1 Axes>"
      ]
     },
     "metadata": {
      "needs_background": "light"
     },
     "output_type": "display_data"
    },
    {
     "name": "stdout",
     "output_type": "stream",
     "text": [
      "Nearest Neighbors Classifier accuracy score: 0.44215349369988544\n",
      "Nearest Neighbors Classifier gunshot recall score: 0.6285714285714286\n"
     ]
    },
    {
     "data": {
      "image/png": "[encoded data removed]",
      "text/plain": [
       "<Figure size 432x288 with 1 Axes>"
      ]
     },
     "metadata": {
      "needs_background": "light"
     },
     "output_type": "display_data"
    },
    {
     "name": "stdout",
     "output_type": "stream",
     "text": [
      "Linear SVM Classifier accuracy score: 0.5154639175257731\n",
      "Linear SVM Classifier gunshot recall score: 0.3142857142857143\n"
     ]
    },
    {
     "name": "stderr",
     "output_type": "stream",
     "text": [
      "<ipython-input-169-0a88006117b9>:32: RuntimeWarning: invalid value encountered in long_scalars\n",
      "  prec = lambda a, b, c: a/(b+c)\n",
      "<ipython-input-170-0037ae515cef>:31: RuntimeWarning: invalid value encountered in long_scalars\n",
      "  workhorse = lambda a, b, c: a/(b+c)\n",
      "<ipython-input-170-0037ae515cef>:32: RuntimeWarning: invalid value encountered in double_scalars\n",
      "  Fmeas = lambda x,y : (2*x*y)/(x+y)\n"
     ]
    },
    {
     "data": {
      "image/png": "[encoded data removed]",
      "text/plain": [
       "<Figure size 432x288 with 1 Axes>"
      ]
     },
     "metadata": {
      "needs_background": "light"
     },
     "output_type": "display_data"
    },
    {
     "name": "stdout",
     "output_type": "stream",
     "text": [
      "RBF SVM Classifier accuracy score: 0.12256586483390607\n",
      "RBF SVM Classifier gunshot recall score: 0.0\n"
     ]
    },
    {
     "data": {
      "image/png": "[encoded data removed]",
      "text/plain": [
       "<Figure size 432x288 with 1 Axes>"
      ]
     },
     "metadata": {
      "needs_background": "light"
     },
     "output_type": "display_data"
    },
    {
     "name": "stdout",
     "output_type": "stream",
     "text": [
      "Decision Tree Classifier accuracy score: 0.38258877434135163\n",
      "Decision Tree Classifier gunshot recall score: 0.4\n"
     ]
    },
    {
     "data": {
      "image/png": "[encoded data removed]",
      "text/plain": [
       "<Figure size 432x288 with 1 Axes>"
      ]
     },
     "metadata": {
      "needs_background": "light"
     },
     "output_type": "display_data"
    },
    {
     "name": "stdout",
     "output_type": "stream",
     "text": [
      "Random Forest Classifier accuracy score: 0.5246277205040092\n",
      "Random Forest Classifier gunshot recall score: 0.5714285714285714\n"
     ]
    },
    {
     "data": {
      "image/png": "[encoded data removed]",
      "text/plain": [
       "<Figure size 432x288 with 1 Axes>"
      ]
     },
     "metadata": {
      "needs_background": "light"
     },
     "output_type": "display_data"
    },
    {
     "name": "stdout",
     "output_type": "stream",
     "text": [
      "Neural Net Classifier accuracy score: 0.5693012600229095\n",
      "Neural Net Classifier gunshot recall score: 0.7428571428571429\n"
     ]
    },
    {
     "data": {
      "image/png": "[encoded data removed]",
      "text/plain": [
       "<Figure size 432x288 with 1 Axes>"
      ]
     },
     "metadata": {
      "needs_background": "light"
     },
     "output_type": "display_data"
    },
    {
     "name": "stdout",
     "output_type": "stream",
     "text": [
      "AdaBoost Classifier accuracy score: 0.4146620847651776\n",
      "AdaBoost Classifier gunshot recall score: 0.6571428571428571\n"
     ]
    },
    {
     "data": {
      "image/png": "[encoded data removed]",
      "text/plain": [
       "<Figure size 432x288 with 1 Axes>"
      ]
     },
     "metadata": {
      "needs_background": "light"
     },
     "output_type": "display_data"
    },
    {
     "name": "stdout",
     "output_type": "stream",
     "text": [
      "Naive Bayes Classifier accuracy score: 0.37800687285223367\n",
      "Naive Bayes Classifier gunshot recall score: 0.2\n"
     ]
    },
    {
     "data": {
      "image/png": "[encoded data removed]",
      "text/plain": [
       "<Figure size 432x288 with 1 Axes>"
      ]
     },
     "metadata": {
      "needs_background": "light"
     },
     "output_type": "display_data"
    },
    {
     "name": "stdout",
     "output_type": "stream",
     "text": [
      "QDA Classifier accuracy score: 0.5315005727376861\n",
      "QDA Classifier gunshot recall score: 0.5142857142857142\n"
     ]
    },
    {
     "data": {
      "image/png": "[encoded data removed]",
      "text/plain": [
       "<Figure size 432x288 with 1 Axes>"
      ]
     },
     "metadata": {
      "needs_background": "light"
     },
     "output_type": "display_data"
    },
    {
     "name": "stdout",
     "output_type": "stream",
     "text": [
      "LDA Classifier accuracy score: 0.5624284077892325\n",
      "LDA Classifier gunshot recall score: 0.6571428571428571\n"
     ]
    },
    {
     "data": {
      "image/png": "[encoded data removed]",
      "text/plain": [
       "<Figure size 432x288 with 1 Axes>"
      ]
     },
     "metadata": {
      "needs_background": "light"
     },
     "output_type": "display_data"
    },
    {
     "name": "stdout",
     "output_type": "stream",
     "text": [
      "ExtraTrees Classifier accuracy score: 0.4650630011454754\n",
      "ExtraTrees Classifier gunshot recall score: 0.2\n"
     ]
    },
    {
     "data": {
      "image/png": "[encoded data removed]",
      "text/plain": [
       "<Figure size 432x288 with 1 Axes>"
      ]
     },
     "metadata": {
      "needs_background": "light"
     },
     "output_type": "display_data"
    },
    {
     "name": "stdout",
     "output_type": "stream",
     "text": [
      "Boosted RF Classifier accuracy score: 0.5292096219931272\n",
      "Boosted RF Classifier gunshot recall score: 0.45714285714285713\n"
     ]
    },
    {
     "data": {
      "image/png": "[encoded data removed]",
      "text/plain": [
       "<Figure size 432x288 with 1 Axes>"
      ]
     },
     "metadata": {
      "needs_background": "light"
     },
     "output_type": "display_data"
    },
    {
     "name": "stdout",
     "output_type": "stream",
     "text": [
      "GradientBoosting Classifier accuracy score: 0.5555555555555556\n",
      "GradientBoosting Classifier gunshot recall score: 0.45714285714285713\n"
     ]
    }
   ],
   "source": [
    "for i, classifier in enumerate(classifiers):\n",
    "\n",
    "    classifier.fit(X_train, y_train)\n",
    "    pred = classifier.predict(X_test)\n",
    "    make_class_scatter_plot(pred,y_test,names[i])\n",
    "    print(f'{names[i]} Classifier accuracy score: {accuracy_score(y_test, pred)}')\n",
    "    print(f'{names[i]} Classifier gunshot recall score: {recall(y_test, pred)[6]}')\n",
    "#     print(f'{names[i]} Classifier Precision: {precision(y_test, pred)}')\n",
    "#     print(f'{names[i]} Classifier Recall: {recall(y_test, pred)}')\n",
    "#     print(f'{names[i]} Classifier Fmeasure: {Fmeasure(y_test, pred)}')\n",
    "#     print(\"\")"
   ]
  },
  {
   "cell_type": "code",
   "execution_count": 50,
   "id": "competitive-pantyhose",
   "metadata": {},
   "outputs": [
    {
     "data": {
      "text/plain": [
       "0.5532646048109966"
      ]
     },
     "execution_count": 50,
     "metadata": {},
     "output_type": "execute_result"
    }
   ],
   "source": [
    "accuracy_score(pred,y_test)"
   ]
  },
  {
   "cell_type": "code",
   "execution_count": 51,
   "id": "demonstrated-meter",
   "metadata": {},
   "outputs": [
    {
     "data": {
      "text/plain": [
       "<Figure size 648x648 with 0 Axes>"
      ]
     },
     "metadata": {},
     "output_type": "display_data"
    },
    {
     "data": {
      "image/png": "[encoded data removed]",
      "text/plain": [
       "<Figure size 432x288 with 2 Axes>"
      ]
     },
     "metadata": {
      "needs_background": "light"
     },
     "output_type": "display_data"
    }
   ],
   "source": [
    "plt.figure(figsize=(9,9))\n",
    "disp = ConfusionMatrixDisplay(confusion_matrix(pred,y_test),display_labels=classlabels)\n",
    "disp.plot(xticks_rotation='vertical')\n",
    "plt.show()"
   ]
  },
  {
   "cell_type": "markdown",
   "id": "southwest-ghost",
   "metadata": {},
   "source": [
    "## Trying out a Voting Classifier to beat the others"
   ]
  },
  {
   "cell_type": "code",
   "execution_count": 52,
   "id": "answering-african",
   "metadata": {},
   "outputs": [],
   "source": [
    "voter_list = [(names[i], classifiers[i]) for i in range(len(names))]"
   ]
  },
  {
   "cell_type": "code",
   "execution_count": 55,
   "id": "dietary-associate",
   "metadata": {},
   "outputs": [],
   "source": [
    "voting = VotingClassifier(voter_list,\n",
    "                         voting='hard',\n",
    "                         n_jobs=4)"
   ]
  },
  {
   "cell_type": "code",
   "execution_count": 116,
   "id": "aquatic-richards",
   "metadata": {},
   "outputs": [
    {
     "data": {
      "text/plain": [
       "VotingClassifier(estimators=[('Logistic Regression',\n",
       "                              Pipeline(steps=[('robustscaler', RobustScaler()),\n",
       "                                              ('logisticregression',\n",
       "                                               LogisticRegression(max_iter=5000))])),\n",
       "                             ('Nearest Neighbors',\n",
       "                              Pipeline(steps=[('robustscaler', RobustScaler()),\n",
       "                                              ('kneighborsclassifier',\n",
       "                                               KNeighborsClassifier(n_jobs=4))])),\n",
       "                             ('Linear SVM',\n",
       "                              Pipeline(steps=[('robustscaler', RobustScaler()),\n",
       "                                              ('s...\n",
       "                                               LinearDiscriminantAnalysis())])),\n",
       "                             ('ExtraTrees',\n",
       "                              Pipeline(steps=[('robustscaler', RobustScaler()),\n",
       "                                              ('extratreesclassifier',\n",
       "                                               ExtraTreesClassifier(max_depth=15,\n",
       "                                                                    n_estimators=500))])),\n",
       "                             ('Boosted RF',\n",
       "                              Pipeline(steps=[('robustscaler', RobustScaler()),\n",
       "                                              ('adaboostclassifier',\n",
       "                                               AdaBoostClassifier(base_estimator=RandomForestClassifier(max_depth=15,\n",
       "                                                                                                        n_estimators=500,\n",
       "                                                                                                        n_jobs=4)))]))],\n",
       "                 n_jobs=4)"
      ]
     },
     "execution_count": 116,
     "metadata": {},
     "output_type": "execute_result"
    }
   ],
   "source": [
    "voting.fit(X_train, y_train)"
   ]
  },
  {
   "cell_type": "code",
   "execution_count": 56,
   "id": "willing-tooth",
   "metadata": {},
   "outputs": [
    {
     "ename": "NotFittedError",
     "evalue": "This VotingClassifier instance is not fitted yet. Call 'fit' with appropriate arguments before using this estimator.",
     "output_type": "error",
     "traceback": [
      "\u001b[0;31m---------------------------------------------------------------------------\u001b[0m",
      "\u001b[0;31mNotFittedError\u001b[0m                            Traceback (most recent call last)",
      "\u001b[0;32m<ipython-input-56-9b9639ae7f8b>\u001b[0m in \u001b[0;36m<module>\u001b[0;34m\u001b[0m\n\u001b[0;32m----> 1\u001b[0;31m \u001b[0mvpred\u001b[0m \u001b[0;34m=\u001b[0m \u001b[0mvoting\u001b[0m\u001b[0;34m.\u001b[0m\u001b[0mpredict\u001b[0m\u001b[0;34m(\u001b[0m\u001b[0mX_test\u001b[0m\u001b[0;34m)\u001b[0m\u001b[0;34m\u001b[0m\u001b[0;34m\u001b[0m\u001b[0m\n\u001b[0m",
      "\u001b[0;32m~/anaconda3/lib/python3.8/site-packages/sklearn/ensemble/_voting.py\u001b[0m in \u001b[0;36mpredict\u001b[0;34m(self, X)\u001b[0m\n\u001b[1;32m    305\u001b[0m             \u001b[0mPredicted\u001b[0m \u001b[0;32mclass\u001b[0m \u001b[0mlabels\u001b[0m\u001b[0;34m.\u001b[0m\u001b[0;34m\u001b[0m\u001b[0;34m\u001b[0m\u001b[0m\n\u001b[1;32m    306\u001b[0m         \"\"\"\n\u001b[0;32m--> 307\u001b[0;31m         \u001b[0mcheck_is_fitted\u001b[0m\u001b[0;34m(\u001b[0m\u001b[0mself\u001b[0m\u001b[0;34m)\u001b[0m\u001b[0;34m\u001b[0m\u001b[0;34m\u001b[0m\u001b[0m\n\u001b[0m\u001b[1;32m    308\u001b[0m         \u001b[0;32mif\u001b[0m \u001b[0mself\u001b[0m\u001b[0;34m.\u001b[0m\u001b[0mvoting\u001b[0m \u001b[0;34m==\u001b[0m \u001b[0;34m'soft'\u001b[0m\u001b[0;34m:\u001b[0m\u001b[0;34m\u001b[0m\u001b[0;34m\u001b[0m\u001b[0m\n\u001b[1;32m    309\u001b[0m             \u001b[0mmaj\u001b[0m \u001b[0;34m=\u001b[0m \u001b[0mnp\u001b[0m\u001b[0;34m.\u001b[0m\u001b[0margmax\u001b[0m\u001b[0;34m(\u001b[0m\u001b[0mself\u001b[0m\u001b[0;34m.\u001b[0m\u001b[0mpredict_proba\u001b[0m\u001b[0;34m(\u001b[0m\u001b[0mX\u001b[0m\u001b[0;34m)\u001b[0m\u001b[0;34m,\u001b[0m \u001b[0maxis\u001b[0m\u001b[0;34m=\u001b[0m\u001b[0;36m1\u001b[0m\u001b[0;34m)\u001b[0m\u001b[0;34m\u001b[0m\u001b[0;34m\u001b[0m\u001b[0m\n",
      "\u001b[0;32m~/anaconda3/lib/python3.8/site-packages/sklearn/utils/validation.py\u001b[0m in \u001b[0;36minner_f\u001b[0;34m(*args, **kwargs)\u001b[0m\n\u001b[1;32m     61\u001b[0m             \u001b[0mextra_args\u001b[0m \u001b[0;34m=\u001b[0m \u001b[0mlen\u001b[0m\u001b[0;34m(\u001b[0m\u001b[0margs\u001b[0m\u001b[0;34m)\u001b[0m \u001b[0;34m-\u001b[0m \u001b[0mlen\u001b[0m\u001b[0;34m(\u001b[0m\u001b[0mall_args\u001b[0m\u001b[0;34m)\u001b[0m\u001b[0;34m\u001b[0m\u001b[0;34m\u001b[0m\u001b[0m\n\u001b[1;32m     62\u001b[0m             \u001b[0;32mif\u001b[0m \u001b[0mextra_args\u001b[0m \u001b[0;34m<=\u001b[0m \u001b[0;36m0\u001b[0m\u001b[0;34m:\u001b[0m\u001b[0;34m\u001b[0m\u001b[0;34m\u001b[0m\u001b[0m\n\u001b[0;32m---> 63\u001b[0;31m                 \u001b[0;32mreturn\u001b[0m \u001b[0mf\u001b[0m\u001b[0;34m(\u001b[0m\u001b[0;34m*\u001b[0m\u001b[0margs\u001b[0m\u001b[0;34m,\u001b[0m \u001b[0;34m**\u001b[0m\u001b[0mkwargs\u001b[0m\u001b[0;34m)\u001b[0m\u001b[0;34m\u001b[0m\u001b[0;34m\u001b[0m\u001b[0m\n\u001b[0m\u001b[1;32m     64\u001b[0m \u001b[0;34m\u001b[0m\u001b[0m\n\u001b[1;32m     65\u001b[0m             \u001b[0;31m# extra_args > 0\u001b[0m\u001b[0;34m\u001b[0m\u001b[0;34m\u001b[0m\u001b[0;34m\u001b[0m\u001b[0m\n",
      "\u001b[0;32m~/anaconda3/lib/python3.8/site-packages/sklearn/utils/validation.py\u001b[0m in \u001b[0;36mcheck_is_fitted\u001b[0;34m(estimator, attributes, msg, all_or_any)\u001b[0m\n\u001b[1;32m   1039\u001b[0m \u001b[0;34m\u001b[0m\u001b[0m\n\u001b[1;32m   1040\u001b[0m     \u001b[0;32mif\u001b[0m \u001b[0;32mnot\u001b[0m \u001b[0mattrs\u001b[0m\u001b[0;34m:\u001b[0m\u001b[0;34m\u001b[0m\u001b[0;34m\u001b[0m\u001b[0m\n\u001b[0;32m-> 1041\u001b[0;31m         \u001b[0;32mraise\u001b[0m \u001b[0mNotFittedError\u001b[0m\u001b[0;34m(\u001b[0m\u001b[0mmsg\u001b[0m \u001b[0;34m%\u001b[0m \u001b[0;34m{\u001b[0m\u001b[0;34m'name'\u001b[0m\u001b[0;34m:\u001b[0m \u001b[0mtype\u001b[0m\u001b[0;34m(\u001b[0m\u001b[0mestimator\u001b[0m\u001b[0;34m)\u001b[0m\u001b[0;34m.\u001b[0m\u001b[0m__name__\u001b[0m\u001b[0;34m}\u001b[0m\u001b[0;34m)\u001b[0m\u001b[0;34m\u001b[0m\u001b[0;34m\u001b[0m\u001b[0m\n\u001b[0m\u001b[1;32m   1042\u001b[0m \u001b[0;34m\u001b[0m\u001b[0m\n\u001b[1;32m   1043\u001b[0m \u001b[0;34m\u001b[0m\u001b[0m\n",
      "\u001b[0;31mNotFittedError\u001b[0m: This VotingClassifier instance is not fitted yet. Call 'fit' with appropriate arguments before using this estimator."
     ]
    }
   ],
   "source": [
    "vpred = voting.predict(X_test)\n"
   ]
  },
  {
   "cell_type": "code",
   "execution_count": 118,
   "id": "respective-williams",
   "metadata": {},
   "outputs": [
    {
     "data": {
      "text/plain": [
       "0.5624284077892325"
      ]
     },
     "execution_count": 118,
     "metadata": {},
     "output_type": "execute_result"
    }
   ],
   "source": [
    "accuracy_score(y_test,vpred)"
   ]
  },
  {
   "cell_type": "code",
   "execution_count": 119,
   "id": "based-stationery",
   "metadata": {},
   "outputs": [
    {
     "data": {
      "image/png": "[encoded data removed]",
      "text/plain": [
       "<Figure size 432x288 with 1 Axes>"
      ]
     },
     "metadata": {
      "needs_background": "light"
     },
     "output_type": "display_data"
    }
   ],
   "source": [
    "make_class_scatter_plot(vpred,y_test,'Voting')"
   ]
  },
  {
   "cell_type": "code",
   "execution_count": 121,
   "id": "persistent-manchester",
   "metadata": {},
   "outputs": [
    {
     "data": {
      "text/plain": [
       "0.5445835640457735"
      ]
     },
     "execution_count": 121,
     "metadata": {},
     "output_type": "execute_result"
    }
   ],
   "source": [
    "np.mean(TPR(y_test,vpred))"
   ]
  },
  {
   "cell_type": "code",
   "execution_count": 122,
   "id": "mobile-james",
   "metadata": {},
   "outputs": [
    {
     "data": {
      "text/plain": [
       "0.5966663700665487"
      ]
     },
     "execution_count": 122,
     "metadata": {},
     "output_type": "execute_result"
    }
   ],
   "source": [
    "np.mean(precision(y_test,vpred))"
   ]
  },
  {
   "cell_type": "code",
   "execution_count": 123,
   "id": "outside-pitch",
   "metadata": {},
   "outputs": [
    {
     "data": {
      "text/plain": [
       "0.5445835640457735"
      ]
     },
     "execution_count": 123,
     "metadata": {},
     "output_type": "execute_result"
    }
   ],
   "source": [
    "np.mean(recall(y_test,vpred))"
   ]
  },
  {
   "cell_type": "code",
   "execution_count": 124,
   "id": "surprising-graham",
   "metadata": {},
   "outputs": [
    {
     "data": {
      "text/plain": [
       "0.5570911836496554"
      ]
     },
     "execution_count": 124,
     "metadata": {},
     "output_type": "execute_result"
    }
   ],
   "source": [
    "np.mean(Fmeasure(y_test,vpred))"
   ]
  },
  {
   "cell_type": "markdown",
   "id": "blessed-walker",
   "metadata": {},
   "source": [
    "Notably, the Voting Classifier doesn't always improve things. "
   ]
  },
  {
   "cell_type": "markdown",
   "id": "optimum-damages",
   "metadata": {},
   "source": [
    "### What about a stacking classifier?"
   ]
  },
  {
   "cell_type": "code",
   "execution_count": 57,
   "id": "linear-challenge",
   "metadata": {},
   "outputs": [],
   "source": [
    "estimators = [('LDA', make_pipeline(StandardScaler(),LinearDiscriminantAnalysis())),\n",
    "    ('rf', RandomForestClassifier(max_depth=15,n_estimators=500, random_state=42))\n",
    "]"
   ]
  },
  {
   "cell_type": "code",
   "execution_count": 58,
   "id": "based-grill",
   "metadata": {},
   "outputs": [],
   "source": [
    "clf = StackingClassifier(estimators=estimators, final_estimator=LogisticRegression(max_iter=5000))"
   ]
  },
  {
   "cell_type": "code",
   "execution_count": 59,
   "id": "defined-digit",
   "metadata": {},
   "outputs": [
    {
     "data": {
      "text/plain": [
       "StackingClassifier(estimators=[('svr',\n",
       "                                Pipeline(steps=[('standardscaler',\n",
       "                                                 StandardScaler()),\n",
       "                                                ('lineardiscriminantanalysis',\n",
       "                                                 LinearDiscriminantAnalysis())])),\n",
       "                               ('rf',\n",
       "                                RandomForestClassifier(max_depth=15,\n",
       "                                                       n_estimators=500,\n",
       "                                                       random_state=42))],\n",
       "                   final_estimator=LogisticRegression(max_iter=5000))"
      ]
     },
     "execution_count": 59,
     "metadata": {},
     "output_type": "execute_result"
    }
   ],
   "source": [
    "clf.fit(X_train, y_train)"
   ]
  },
  {
   "cell_type": "code",
   "execution_count": 60,
   "id": "animal-roman",
   "metadata": {},
   "outputs": [],
   "source": [
    "stackpred = clf.predict(X_test)"
   ]
  },
  {
   "cell_type": "code",
   "execution_count": 61,
   "id": "visible-watts",
   "metadata": {},
   "outputs": [
    {
     "data": {
      "image/png": "[encoded data removed]",
      "text/plain": [
       "<Figure size 432x288 with 1 Axes>"
      ]
     },
     "metadata": {
      "needs_background": "light"
     },
     "output_type": "display_data"
    }
   ],
   "source": [
    "make_class_scatter_plot(stackpred,y_test,'Stacking')"
   ]
  },
  {
   "cell_type": "code",
   "execution_count": 62,
   "id": "international-imperial",
   "metadata": {},
   "outputs": [
    {
     "data": {
      "text/plain": [
       "0.5292096219931272"
      ]
     },
     "execution_count": 62,
     "metadata": {},
     "output_type": "execute_result"
    }
   ],
   "source": [
    "accuracy_score(stackpred,y_test)"
   ]
  },
  {
   "cell_type": "markdown",
   "id": "stuck-output",
   "metadata": {},
   "source": [
    "## Considering all folds in validation"
   ]
  },
  {
   "cell_type": "code",
   "execution_count": 32,
   "id": "hollywood-secret",
   "metadata": {},
   "outputs": [
    {
     "data": {
      "text/plain": [
       "13"
      ]
     },
     "execution_count": 32,
     "metadata": {},
     "output_type": "execute_result"
    }
   ],
   "source": [
    "len(names)"
   ]
  },
  {
   "cell_type": "code",
   "execution_count": 33,
   "id": "linear-differential",
   "metadata": {},
   "outputs": [],
   "source": [
    "accuracies = np.zeros((10, len(names)))\n",
    "TPRs = np.zeros((10,len(names)))\n",
    "Fs = np.zeros((10,len(names)))\n",
    "recalls = np.zeros((10,len(names)))\n",
    "precisions = np.zeros((10,len(names)))"
   ]
  },
  {
   "cell_type": "code",
   "execution_count": 34,
   "id": "democratic-cedar",
   "metadata": {},
   "outputs": [
    {
     "name": "stdout",
     "output_type": "stream",
     "text": [
      "0 0\n",
      "0 1\n",
      "0 2\n",
      "0 3\n",
      "0 4\n",
      "0 5\n",
      "0 6\n",
      "0 7\n",
      "0 8\n",
      "0 9\n",
      "0 10\n",
      "0 11\n",
      "0 12\n",
      "1 0\n",
      "1 1\n",
      "1 2\n",
      "1 3\n",
      "1 4\n",
      "1 5\n",
      "1 6\n",
      "1 7\n",
      "1 8\n",
      "1 9\n",
      "1 10\n",
      "1 11\n",
      "1 12\n",
      "2 0\n",
      "2 1\n",
      "2 2\n",
      "2 3\n",
      "2 4\n",
      "2 5\n",
      "2 6\n",
      "2 7\n",
      "2 8\n",
      "2 9\n",
      "2 10\n",
      "2 11\n",
      "2 12\n",
      "3 0\n",
      "3 1\n",
      "3 2\n",
      "3 3\n",
      "3 4\n",
      "3 5\n",
      "3 6\n",
      "3 7\n",
      "3 8\n",
      "3 9\n",
      "3 10\n",
      "3 11\n",
      "3 12\n",
      "4 0\n",
      "4 1\n",
      "4 2\n",
      "4 3\n",
      "4 4\n",
      "4 5\n",
      "4 6\n",
      "4 7\n",
      "4 8\n",
      "4 9\n",
      "4 10\n",
      "4 11\n",
      "4 12\n",
      "5 0\n",
      "5 1\n",
      "5 2\n",
      "5 3\n",
      "5 4\n",
      "5 5\n",
      "5 6\n",
      "5 7\n",
      "5 8\n",
      "5 9\n",
      "5 10\n",
      "5 11\n",
      "5 12\n",
      "6 0\n",
      "6 1\n",
      "6 2\n",
      "6 3\n",
      "6 4\n",
      "6 5\n",
      "6 6\n",
      "6 7\n",
      "6 8\n",
      "6 9\n",
      "6 10\n",
      "6 11\n",
      "6 12\n",
      "7 0\n",
      "7 1\n",
      "7 2\n",
      "7 3\n"
     ]
    },
    {
     "name": "stderr",
     "output_type": "stream",
     "text": [
      "<ipython-input-13-bf842f1e60e5>:32: RuntimeWarning: invalid value encountered in double_scalars\n",
      "  Fmeas = lambda x,y : (2*x*y)/(x+y)\n"
     ]
    },
    {
     "name": "stdout",
     "output_type": "stream",
     "text": [
      "7 4\n",
      "7 5\n",
      "7 6\n",
      "7 7\n",
      "7 8\n",
      "7 9\n",
      "7 10\n",
      "7 11\n",
      "7 12\n",
      "8 0\n",
      "8 1\n",
      "8 2\n",
      "8 3\n",
      "8 4\n",
      "8 5\n",
      "8 6\n",
      "8 7\n",
      "8 8\n",
      "8 9\n",
      "8 10\n",
      "8 11\n",
      "8 12\n",
      "9 0\n",
      "9 1\n",
      "9 2\n",
      "9 3\n",
      "9 4\n",
      "9 5\n",
      "9 6\n",
      "9 7\n",
      "9 8\n",
      "9 9\n",
      "9 10\n",
      "9 11\n",
      "9 12\n"
     ]
    }
   ],
   "source": [
    "for dfi in range(0,10):\n",
    "    dropfold = dfi + 1\n",
    "    cv_features_df = features_df.drop(features_df[features_df['fold']==dropfold].index)\n",
    "    validation_features_df = features_df.drop(features_df[features_df['fold']!=dropfold].index)\n",
    "\n",
    "    if len(classify_keys) == 1:\n",
    "        X_train = cv_features_df[classify_keys[0]].values.reshape(-1,1)\n",
    "    else:\n",
    "        X_train = cv_features_df[classify_keys].values\n",
    "\n",
    "    y_train = cv_features_df['class'].values\n",
    "\n",
    "    X_test = validation_features_df[classify_keys].values\n",
    "    y_test = validation_features_df['class']\n",
    "\n",
    "    for i, classifier in enumerate(classifiers):\n",
    "        print(dfi, i)\n",
    "        classifier.fit(X_train, y_train)\n",
    "        pred = classifier.predict(X_test)\n",
    "        \n",
    "        accuracies[dfi][i] = accuracy_score(y_test, pred)\n",
    "        TPRs[dfi][i] = TPR(y_test, pred)\n",
    "        Fs[dfi][i] = Fmeasure(y_test, pred)\n",
    "        recalls[dfi][i] = recall(y_test, pred)\n",
    "        precisions[dfi][i] = precision(y_test, pred)"
   ]
  },
  {
   "cell_type": "code",
   "execution_count": 35,
   "id": "central-norwegian",
   "metadata": {},
   "outputs": [],
   "source": [
    "TPRs_final = np.mean(TPRs,axis=0)\n",
    "accuracies_final = np.mean(accuracies,axis=0)\n",
    "Fs_final = np.mean(Fs,axis=0)\n",
    "recalls_final = np.mean(recalls,axis=0)\n",
    "precisions_final = np.mean(precisions,axis=0)"
   ]
  },
  {
   "cell_type": "code",
   "execution_count": 36,
   "id": "hollow-patch",
   "metadata": {},
   "outputs": [
    {
     "name": "stdout",
     "output_type": "stream",
     "text": [
      "Logistic Regression accuracy: 0.5425496112025389\n",
      "Nearest Neighbors accuracy: 0.4514205223731942\n",
      "Linear SVM accuracy: 0.4827354771887668\n",
      "RBF SVM accuracy: 0.39589141480566764\n",
      "Decision Tree accuracy: 0.4139801900471256\n",
      "Random Forest accuracy: 0.5421407705422256\n",
      "Neural Net accuracy: 0.5610780074115181\n",
      "AdaBoost accuracy: 0.3915390529956718\n",
      "Naive Bayes accuracy: 0.3234899760812644\n",
      "QDA accuracy: 0.466816725386908\n",
      "LDA accuracy: 0.46016797941904547\n",
      "ExtraTrees accuracy: 0.4909148128133312\n",
      "Boosted RF accuracy: 0.544672786804426\n"
     ]
    }
   ],
   "source": [
    "for i,name in enumerate(names):\n",
    "    print(f'{name} accuracy: {accuracies_final[i]}')"
   ]
  },
  {
   "cell_type": "code",
   "execution_count": 37,
   "id": "northern-compact",
   "metadata": {},
   "outputs": [
    {
     "name": "stdout",
     "output_type": "stream",
     "text": [
      "Logistic Regression TPR: 0.5378700435458591\n",
      "Nearest Neighbors TPR: 0.46048357175783794\n",
      "Linear SVM TPR: 0.47226842015612247\n",
      "RBF SVM TPR: 0.3742313724017198\n",
      "Decision Tree TPR: 0.4245740986076486\n",
      "Random Forest TPR: 0.5445354276874319\n",
      "Neural Net TPR: 0.5670828426362703\n",
      "AdaBoost TPR: 0.39989120926766153\n",
      "Naive Bayes TPR: 0.3217824543596647\n",
      "QDA TPR: 0.46828793197839846\n",
      "LDA TPR: 0.44688797892932197\n",
      "ExtraTrees TPR: 0.4799060151258794\n",
      "Boosted RF TPR: 0.5479338566229124\n"
     ]
    }
   ],
   "source": [
    "for i,name in enumerate(names):\n",
    "    print(f'{name} TPR: {TPRs_final[i]}')"
   ]
  },
  {
   "cell_type": "code",
   "execution_count": 38,
   "id": "cathedral-prevention",
   "metadata": {},
   "outputs": [
    {
     "name": "stdout",
     "output_type": "stream",
     "text": [
      "Logistic Regression Fmeasure: 0.5355785299768603\n",
      "Nearest Neighbors Fmeasure: 0.45391351784471984\n",
      "Linear SVM Fmeasure: 0.47217333734270844\n",
      "RBF SVM Fmeasure: nan\n",
      "Decision Tree Fmeasure: 0.41428880691418046\n",
      "Random Forest Fmeasure: 0.5389281492298815\n",
      "Neural Net Fmeasure: 0.5598119755456575\n",
      "AdaBoost Fmeasure: 0.3786211682428176\n",
      "Naive Bayes Fmeasure: 0.30238820847647674\n",
      "QDA Fmeasure: 0.47298664355691\n",
      "LDA Fmeasure: 0.45368748461266434\n",
      "ExtraTrees Fmeasure: 0.47211375219155727\n",
      "Boosted RF Fmeasure: 0.5423479225584578\n"
     ]
    }
   ],
   "source": [
    "for i,name in enumerate(names):\n",
    "    print(f'{name} Fmeasure: {Fs_final[i]}')"
   ]
  },
  {
   "cell_type": "code",
   "execution_count": 39,
   "id": "early-smith",
   "metadata": {},
   "outputs": [
    {
     "name": "stdout",
     "output_type": "stream",
     "text": [
      "Logistic Regression recall: 0.5378700435458591\n",
      "Nearest Neighbors recall: 0.46048357175783794\n",
      "Linear SVM recall: 0.47226842015612247\n",
      "RBF SVM recall: 0.3742313724017198\n",
      "Decision Tree recall: 0.4245740986076486\n",
      "Random Forest recall: 0.5445354276874319\n",
      "Neural Net recall: 0.5670828426362703\n",
      "AdaBoost recall: 0.39989120926766153\n",
      "Naive Bayes recall: 0.3217824543596647\n",
      "QDA recall: 0.46828793197839846\n",
      "LDA recall: 0.44688797892932197\n",
      "ExtraTrees recall: 0.4799060151258794\n",
      "Boosted RF recall: 0.5479338566229124\n"
     ]
    }
   ],
   "source": [
    "for i,name in enumerate(names):\n",
    "    print(f'{name} recall: {recalls_final[i]}')"
   ]
  },
  {
   "cell_type": "code",
   "execution_count": 40,
   "id": "contrary-photography",
   "metadata": {},
   "outputs": [
    {
     "name": "stdout",
     "output_type": "stream",
     "text": [
      "Logistic Regression precision: 0.5709708848898587\n",
      "Nearest Neighbors precision: 0.46428290835212965\n",
      "Linear SVM precision: 0.5355037897732108\n",
      "RBF SVM precision: 0.4672654970562576\n",
      "Decision Tree precision: 0.41988513552000245\n",
      "Random Forest precision: 0.5568981762268274\n",
      "Neural Net precision: 0.5758761852603016\n",
      "AdaBoost precision: 0.39299912193524494\n",
      "Naive Bayes precision: 0.41589962085115967\n",
      "QDA precision: 0.5241336336337945\n",
      "LDA precision: 0.5271520612050247\n",
      "ExtraTrees precision: 0.49774286211331714\n",
      "Boosted RF precision: 0.5635709060978755\n"
     ]
    }
   ],
   "source": [
    "for i,name in enumerate(names):\n",
    "    print(f'{name} precision: {precisions_final[i]}')"
   ]
  },
  {
   "cell_type": "markdown",
   "id": "governmental-consultation",
   "metadata": {},
   "source": [
    "## Now: Tune the best models\n",
    "\n",
    "Now that a preliminary search of the classifier space has given us a ranking of classifiers, we can focus the search on a more limited number of methods. We can then tune these hyperparameters for optimal performance.\n",
    "\n",
    "Preliminary model ranking:\n",
    "   1. Random Forest (Boosted is comparable)\n",
    "   2. Neural Net\n",
    "   3. Naive Bayes"
   ]
  },
  {
   "cell_type": "markdown",
   "id": "cordless-dylan",
   "metadata": {},
   "source": [
    "# Hierarchical Classification\n",
    "\n",
    "First, focus on gunshot vs. other noise. Then, once we've accomplished that, we can split it up into other groups after dropping the gunshots."
   ]
  },
  {
   "cell_type": "code",
   "execution_count": null,
   "id": "controlled-disability",
   "metadata": {},
   "outputs": [],
   "source": [
    "class columnTransformer():\n",
    "    \"\"\"replace column values for family so I can do two-stage classification\n",
    "    \n",
    "    Stolen from: https://stackoverflow.com/questions/68402691/adding-dropping-column-instance-into-a-pipeline\n",
    "    \n",
    "    \"\"\"\n",
    "    def __init__(self,columns):\n",
    "        self.columns=columns\n",
    "\n",
    "    def transform(self,X,y=None):\n",
    "        return #X.drop(self.columns,axis=1)\n",
    "\n",
    "    def fit(self, X, y=None):\n",
    "        return self "
   ]
  },
  {
   "cell_type": "code",
   "execution_count": 216,
   "id": "palestinian-uruguay",
   "metadata": {},
   "outputs": [],
   "source": [
    "if len(classify_keys) == 1:\n",
    "    Xf_train = cv_features_df[classify_keys[0]].values.reshape(-1,1)\n",
    "else:\n",
    "    Xf_train = cv_features_df[classify_keys].values\n",
    "    \n",
    "yf_train = cv_features_df['family'].values\n",
    "\n",
    "Xf_test = validation_features_df[classify_keys].values\n",
    "yf_test = validation_features_df['family']\n",
    "\n",
    "if len(classify_keys) == 1:\n",
    "    Xc_train = cv_features_df[classify_keys[0]].values.reshape(-1,1)\n",
    "else:\n",
    "    Xc_train = cv_features_df[classify_keys].values\n",
    "    \n",
    "yc_train = cv_features_df['class'].values\n",
    "\n",
    "Xc_test = validation_features_df[classify_keys].values\n",
    "yc_test = validation_features_df['class']"
   ]
  },
  {
   "cell_type": "code",
   "execution_count": 217,
   "id": "every-blair",
   "metadata": {},
   "outputs": [],
   "source": [
    "# first: gunshot vs no gunshot"
   ]
  },
  {
   "cell_type": "code",
   "execution_count": 256,
   "id": "tamil-electronics",
   "metadata": {},
   "outputs": [],
   "source": [
    "base_lr = LogisticRegression(solver='lbfgs', max_iter=5000)\n",
    "chain = ClassifierChain(base_lr, order='random', random_state=0)"
   ]
  },
  {
   "cell_type": "code",
   "execution_count": 226,
   "id": "computational-rescue",
   "metadata": {},
   "outputs": [],
   "source": [
    "forest = make_pipeline(RobustScaler(), \n",
    "                       #RandomForestClassifier(max_depth=15, n_estimators=1000,n_jobs=4),\n",
    "                       GradientBoostingClassifier(),\n",
    "                      )"
   ]
  },
  {
   "cell_type": "code",
   "execution_count": 227,
   "id": "cosmetic-commonwealth",
   "metadata": {},
   "outputs": [
    {
     "data": {
      "text/plain": [
       "Pipeline(steps=[('robustscaler', RobustScaler()),\n",
       "                ('gradientboostingclassifier', GradientBoostingClassifier())])"
      ]
     },
     "execution_count": 227,
     "metadata": {},
     "output_type": "execute_result"
    }
   ],
   "source": [
    "forest.fit(Xf_train,yf_train)"
   ]
  },
  {
   "cell_type": "code",
   "execution_count": 257,
   "id": "bright-lyric",
   "metadata": {},
   "outputs": [
    {
     "data": {
      "text/plain": [
       "LogisticRegression(max_iter=5000)"
      ]
     },
     "execution_count": 257,
     "metadata": {},
     "output_type": "execute_result"
    }
   ],
   "source": [
    "base_lr.fit(Xf_train, yf_train)"
   ]
  },
  {
   "cell_type": "code",
   "execution_count": 258,
   "id": "danish-reaction",
   "metadata": {},
   "outputs": [],
   "source": [
    "pred = base_lr.predict(Xf_test)#forest.predict(Xf_test)"
   ]
  },
  {
   "cell_type": "code",
   "execution_count": 261,
   "id": "fatal-match",
   "metadata": {},
   "outputs": [
    {
     "data": {
      "text/plain": [
       "0.97709049255441"
      ]
     },
     "execution_count": 261,
     "metadata": {},
     "output_type": "execute_result"
    }
   ],
   "source": [
    "accuracy_score(pred,yf_test)"
   ]
  },
  {
   "cell_type": "code",
   "execution_count": 262,
   "id": "polar-compiler",
   "metadata": {},
   "outputs": [
    {
     "data": {
      "text/plain": [
       "[0.9916467780429594, 0.6285714285714286]"
      ]
     },
     "execution_count": 262,
     "metadata": {},
     "output_type": "execute_result"
    }
   ],
   "source": [
    "precision(pred,yf_test)"
   ]
  },
  {
   "cell_type": "code",
   "execution_count": 263,
   "id": "decimal-beauty",
   "metadata": {},
   "outputs": [
    {
     "data": {
      "text/plain": [
       "[0.9845971563981043, 0.7586206896551724]"
      ]
     },
     "execution_count": 263,
     "metadata": {},
     "output_type": "execute_result"
    }
   ],
   "source": [
    "recall(pred,yf_test)"
   ]
  },
  {
   "cell_type": "code",
   "execution_count": 259,
   "id": "spread-usage",
   "metadata": {},
   "outputs": [
    {
     "data": {
      "image/png": "[encoded data removed]",
      "text/plain": [
       "<Figure size 432x288 with 1 Axes>"
      ]
     },
     "metadata": {
      "needs_background": "light"
     },
     "output_type": "display_data"
    }
   ],
   "source": [
    "make_family_scatter_plot(pred,yf_test,'Stage 1')"
   ]
  },
  {
   "cell_type": "code",
   "execution_count": 260,
   "id": "removable-category",
   "metadata": {},
   "outputs": [
    {
     "data": {
      "text/plain": [
       "<Figure size 648x648 with 0 Axes>"
      ]
     },
     "metadata": {},
     "output_type": "display_data"
    },
    {
     "data": {
      "image/png": "[encoded data removed]",
      "text/plain": [
       "<Figure size 432x288 with 2 Axes>"
      ]
     },
     "metadata": {
      "needs_background": "light"
     },
     "output_type": "display_data"
    }
   ],
   "source": [
    "plt.figure(figsize=(9,9))\n",
    "disp = ConfusionMatrixDisplay(confusion_matrix(pred,yf_test),display_labels=familylabels)\n",
    "disp.plot(xticks_rotation='vertical')\n",
    "plt.show()"
   ]
  },
  {
   "cell_type": "code",
   "execution_count": 208,
   "id": "educational-investment",
   "metadata": {},
   "outputs": [],
   "source": [
    "# second: drop gunshot classes"
   ]
  },
  {
   "cell_type": "code",
   "execution_count": null,
   "id": "emerging-labor",
   "metadata": {},
   "outputs": [],
   "source": []
  }
 ],
 "metadata": {
  "kernelspec": {
   "display_name": "Python 3",
   "language": "python",
   "name": "python3"
  },
  "language_info": {
   "codemirror_mode": {
    "name": "ipython",
    "version": 3
   },
   "file_extension": ".py",
   "mimetype": "text/x-python",
   "name": "python",
   "nbconvert_exporter": "python",
   "pygments_lexer": "ipython3",
   "version": "3.8.0"
  }
 },
 "nbformat": 4,
 "nbformat_minor": 5
}

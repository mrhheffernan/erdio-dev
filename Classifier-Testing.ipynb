{
 "cells": [
  {
   "cell_type": "markdown",
   "id": "controversial-cleaner",
   "metadata": {},
   "source": [
    "# Erdio: Testing Classifiers\n",
    "\n",
    "Testing audio classifiers for Project Erdio, an urban environmental sound classifier.\n",
    "\n",
    "Team members (no particular order): Matthew Frick, Matthew Heffernan, Paul Jredini, Jonathan Osborne, Joanne Dong  \n",
    "\n",
    "Goal: Classify sounds for key stakeholders (see Stakeholder and KPI documentation).\n",
    "\n",
    "In those notebook, I'll explore a variety of different classifiers, including Ensemble Learning, in the quest for an optimal classifier. I also investigate the power set to ensure we aren't throwing data at a wall and confusing ourselves."
   ]
  },
  {
   "cell_type": "markdown",
   "id": "incorrect-sessions",
   "metadata": {},
   "source": [
    "### Remaining things to do:\n",
    "\n",
    "- Tune the top candidates better and produce some plots"
   ]
  },
  {
   "cell_type": "code",
   "execution_count": 1,
   "id": "optimum-nudist",
   "metadata": {},
   "outputs": [],
   "source": [
    "# Load packages\n",
    "import numpy as np\n",
    "import matplotlib.pyplot as plt\n",
    "import seaborn as sns\n",
    "\n",
    "import pandas as pd\n",
    "\n",
    "# Standard sklearn processing\n",
    "from sklearn.model_selection import train_test_split\n",
    "from sklearn.preprocessing import StandardScaler\n",
    "from sklearn.pipeline import make_pipeline\n",
    "\n",
    "# sklearn Classifiers\n",
    "from sklearn.linear_model import LogisticRegression\n",
    "from sklearn.neural_network import MLPClassifier\n",
    "from sklearn.neighbors import KNeighborsClassifier\n",
    "from sklearn.svm import SVC\n",
    "from sklearn.gaussian_process import GaussianProcessClassifier\n",
    "from sklearn.gaussian_process.kernels import RBF\n",
    "from sklearn.tree import DecisionTreeClassifier\n",
    "from sklearn.ensemble import RandomForestClassifier, AdaBoostClassifier\n",
    "from sklearn.naive_bayes import GaussianNB\n",
    "from sklearn.discriminant_analysis import QuadraticDiscriminantAnalysis, LinearDiscriminantAnalysis\n",
    "\n",
    "## The VotingClassifier\n",
    "from sklearn.ensemble import VotingClassifier\n",
    "# The Extra Trees Classifier\n",
    "from sklearn.ensemble import ExtraTreesClassifier\n",
    "\n",
    "## import accuracy metric\n",
    "from sklearn.metrics import accuracy_score, confusion_matrix, ConfusionMatrixDisplay\n",
    "\n",
    "# Define shortcuts for classifiers\n",
    "names = [\n",
    "    \"Logistic Regression\",\n",
    "    \"Nearest Neighbors\",\n",
    "    \"Linear SVM\",\n",
    "    \"RBF SVM\",\n",
    "    #\"Gaussian Process\",\n",
    "    \"Decision Tree\",\n",
    "    \"Random Forest\",\n",
    "    \"Neural Net\",\n",
    "    \"AdaBoost\",\n",
    "    \"Naive Bayes\",\n",
    "    \"QDA\",\n",
    "    \"LDA\",\n",
    "    \"ExtraTrees\",\n",
    "    \"Boosted RF\"\n",
    "]\n",
    "\n",
    "# Collect classifiers into an iterable\n",
    "## All the hyperparameters below can and should be investigated\n",
    "classifiers = [\n",
    "    make_pipeline(StandardScaler(), LogisticRegression(max_iter=1000)),\n",
    "    make_pipeline(StandardScaler(), KNeighborsClassifier(10,n_jobs=4)),\n",
    "    make_pipeline(StandardScaler(), SVC(kernel=\"linear\", C=0.025)),\n",
    "    make_pipeline(StandardScaler(), SVC(gamma=2, C=1)),\n",
    "    #GaussianProcessClassifier(1.0 * RBF(1.0)),\n",
    "    make_pipeline(StandardScaler(), DecisionTreeClassifier(max_depth=15)),\n",
    "    make_pipeline(StandardScaler(), RandomForestClassifier(max_depth=15, n_estimators=500,n_jobs=4)),\n",
    "    make_pipeline(StandardScaler(), MLPClassifier(alpha=0.01, max_iter=1000,early_stopping=True)),\n",
    "    make_pipeline(StandardScaler(), AdaBoostClassifier()),\n",
    "    make_pipeline(StandardScaler(), GaussianNB()),\n",
    "    make_pipeline(StandardScaler(), QuadraticDiscriminantAnalysis()),\n",
    "    make_pipeline(StandardScaler(), LinearDiscriminantAnalysis()),\n",
    "    make_pipeline(StandardScaler(), ExtraTreesClassifier(n_estimators=500, max_depth=15)),\n",
    "    make_pipeline(StandardScaler(), AdaBoostClassifier(RandomForestClassifier(max_depth=15, n_estimators=500,n_jobs=4))),\n",
    "]\n",
    "\n",
    "%matplotlib inline"
   ]
  },
  {
   "cell_type": "markdown",
   "id": "derived-malawi",
   "metadata": {},
   "source": [
    "## Setting up: Loading data, setting keys"
   ]
  },
  {
   "cell_type": "code",
   "execution_count": 2,
   "id": "likely-tournament",
   "metadata": {},
   "outputs": [],
   "source": [
    "# Keys for classifier \n",
    "classify_keys = ['crestfactor','harmonic_power','percussive_power','percussive_hits','harmonic_hits']"
   ]
  },
  {
   "cell_type": "code",
   "execution_count": 3,
   "id": "changed-twins",
   "metadata": {},
   "outputs": [],
   "source": [
    "# Load data\n",
    "#features_df = pd.read_csv('large_data/eq_with_harmony2.csv') # Old partial details\n",
    "features_df = pd.read_csv('large_data/eq_harmony_combined.csv')\n",
    "#features_df.dropna() # Drops NaN rows from our feature processing list\n",
    "keys = list(features_df.keys())"
   ]
  },
  {
   "cell_type": "code",
   "execution_count": 20,
   "id": "disturbed-torture",
   "metadata": {},
   "outputs": [],
   "source": [
    "use_all = True # Use all features to predict\n",
    "if use_all:\n",
    "    classify_keys = keys[1:-1] # don't include class or fold"
   ]
  },
  {
   "cell_type": "code",
   "execution_count": 22,
   "id": "capable-capture",
   "metadata": {},
   "outputs": [],
   "source": [
    "classify_keys.remove('salience')"
   ]
  },
  {
   "cell_type": "code",
   "execution_count": 24,
   "id": "rural-moral",
   "metadata": {},
   "outputs": [
    {
     "data": {
      "text/html": [
       "<div>\n",
       "<style scoped>\n",
       "    .dataframe tbody tr th:only-of-type {\n",
       "        vertical-align: middle;\n",
       "    }\n",
       "\n",
       "    .dataframe tbody tr th {\n",
       "        vertical-align: top;\n",
       "    }\n",
       "\n",
       "    .dataframe thead th {\n",
       "        text-align: right;\n",
       "    }\n",
       "</style>\n",
       "<table border=\"1\" class=\"dataframe\">\n",
       "  <thead>\n",
       "    <tr style=\"text-align: right;\">\n",
       "      <th></th>\n",
       "      <th>eq_0</th>\n",
       "      <th>eq_10</th>\n",
       "      <th>eq_20</th>\n",
       "      <th>eq_30</th>\n",
       "      <th>eq_40</th>\n",
       "      <th>eq_60</th>\n",
       "      <th>eq_80</th>\n",
       "      <th>eq_120</th>\n",
       "      <th>eq_160</th>\n",
       "      <th>eq_230</th>\n",
       "      <th>...</th>\n",
       "      <th>eq_10000</th>\n",
       "      <th>eq_15000</th>\n",
       "      <th>eq_20000</th>\n",
       "      <th>crestfactor</th>\n",
       "      <th>salience</th>\n",
       "      <th>harmonic_power</th>\n",
       "      <th>percussive_power</th>\n",
       "      <th>harmonic_hits</th>\n",
       "      <th>percussive_hits</th>\n",
       "      <th>fold</th>\n",
       "    </tr>\n",
       "  </thead>\n",
       "  <tbody>\n",
       "    <tr>\n",
       "      <th>count</th>\n",
       "      <td>7732.000000</td>\n",
       "      <td>7732.000000</td>\n",
       "      <td>7732.000000</td>\n",
       "      <td>7732.000000</td>\n",
       "      <td>7732.000000</td>\n",
       "      <td>7732.000000</td>\n",
       "      <td>7732.000000</td>\n",
       "      <td>7732.000000</td>\n",
       "      <td>7732.000000</td>\n",
       "      <td>7732.000000</td>\n",
       "      <td>...</td>\n",
       "      <td>7732.000000</td>\n",
       "      <td>7732.000000</td>\n",
       "      <td>7732.000000</td>\n",
       "      <td>7732.000000</td>\n",
       "      <td>7732.000000</td>\n",
       "      <td>7.732000e+03</td>\n",
       "      <td>7.732000e+03</td>\n",
       "      <td>7732.000000</td>\n",
       "      <td>7732.000000</td>\n",
       "      <td>7732.000000</td>\n",
       "    </tr>\n",
       "    <tr>\n",
       "      <th>mean</th>\n",
       "      <td>43.022745</td>\n",
       "      <td>46.495207</td>\n",
       "      <td>52.153118</td>\n",
       "      <td>54.881930</td>\n",
       "      <td>62.084174</td>\n",
       "      <td>66.125071</td>\n",
       "      <td>66.530550</td>\n",
       "      <td>67.419768</td>\n",
       "      <td>67.375583</td>\n",
       "      <td>64.949511</td>\n",
       "      <td>...</td>\n",
       "      <td>11.462260</td>\n",
       "      <td>8.913350</td>\n",
       "      <td>7.122022</td>\n",
       "      <td>7.676651</td>\n",
       "      <td>1.338593</td>\n",
       "      <td>2.565263e-03</td>\n",
       "      <td>3.256207e-04</td>\n",
       "      <td>228.589735</td>\n",
       "      <td>8.332256</td>\n",
       "      <td>5.371185</td>\n",
       "    </tr>\n",
       "    <tr>\n",
       "      <th>std</th>\n",
       "      <td>176.703567</td>\n",
       "      <td>136.634445</td>\n",
       "      <td>125.369831</td>\n",
       "      <td>116.421147</td>\n",
       "      <td>108.180386</td>\n",
       "      <td>100.336508</td>\n",
       "      <td>89.913139</td>\n",
       "      <td>88.670364</td>\n",
       "      <td>86.341888</td>\n",
       "      <td>80.649000</td>\n",
       "      <td>...</td>\n",
       "      <td>13.843459</td>\n",
       "      <td>10.893360</td>\n",
       "      <td>7.794862</td>\n",
       "      <td>4.594971</td>\n",
       "      <td>0.473262</td>\n",
       "      <td>1.406049e-02</td>\n",
       "      <td>1.925023e-03</td>\n",
       "      <td>252.334626</td>\n",
       "      <td>15.219344</td>\n",
       "      <td>2.843176</td>\n",
       "    </tr>\n",
       "    <tr>\n",
       "      <th>min</th>\n",
       "      <td>0.000432</td>\n",
       "      <td>0.000540</td>\n",
       "      <td>0.000594</td>\n",
       "      <td>0.000631</td>\n",
       "      <td>0.001056</td>\n",
       "      <td>0.001074</td>\n",
       "      <td>0.001088</td>\n",
       "      <td>0.001651</td>\n",
       "      <td>0.002765</td>\n",
       "      <td>0.004346</td>\n",
       "      <td>...</td>\n",
       "      <td>0.020673</td>\n",
       "      <td>0.016762</td>\n",
       "      <td>0.014721</td>\n",
       "      <td>1.182664</td>\n",
       "      <td>1.000000</td>\n",
       "      <td>6.659914e-14</td>\n",
       "      <td>3.317685e-10</td>\n",
       "      <td>0.000000</td>\n",
       "      <td>0.000000</td>\n",
       "      <td>1.000000</td>\n",
       "    </tr>\n",
       "    <tr>\n",
       "      <th>25%</th>\n",
       "      <td>1.822219</td>\n",
       "      <td>2.427433</td>\n",
       "      <td>3.154214</td>\n",
       "      <td>3.951474</td>\n",
       "      <td>5.685361</td>\n",
       "      <td>7.405419</td>\n",
       "      <td>8.839198</td>\n",
       "      <td>10.447118</td>\n",
       "      <td>11.793331</td>\n",
       "      <td>12.633812</td>\n",
       "      <td>...</td>\n",
       "      <td>3.266331</td>\n",
       "      <td>2.497383</td>\n",
       "      <td>2.085227</td>\n",
       "      <td>4.969632</td>\n",
       "      <td>1.000000</td>\n",
       "      <td>4.320456e-06</td>\n",
       "      <td>6.010279e-07</td>\n",
       "      <td>48.978612</td>\n",
       "      <td>1.000000</td>\n",
       "      <td>3.000000</td>\n",
       "    </tr>\n",
       "    <tr>\n",
       "      <th>50%</th>\n",
       "      <td>7.021452</td>\n",
       "      <td>9.146109</td>\n",
       "      <td>11.815302</td>\n",
       "      <td>14.114159</td>\n",
       "      <td>21.751311</td>\n",
       "      <td>27.243246</td>\n",
       "      <td>32.488573</td>\n",
       "      <td>34.854983</td>\n",
       "      <td>38.513382</td>\n",
       "      <td>38.477670</td>\n",
       "      <td>...</td>\n",
       "      <td>7.277380</td>\n",
       "      <td>5.562813</td>\n",
       "      <td>4.760455</td>\n",
       "      <td>6.520001</td>\n",
       "      <td>1.000000</td>\n",
       "      <td>2.636459e-05</td>\n",
       "      <td>1.420699e-06</td>\n",
       "      <td>142.271870</td>\n",
       "      <td>2.000000</td>\n",
       "      <td>5.000000</td>\n",
       "    </tr>\n",
       "    <tr>\n",
       "      <th>75%</th>\n",
       "      <td>26.350054</td>\n",
       "      <td>35.357184</td>\n",
       "      <td>43.092715</td>\n",
       "      <td>49.437613</td>\n",
       "      <td>66.702473</td>\n",
       "      <td>81.095333</td>\n",
       "      <td>86.521367</td>\n",
       "      <td>87.974056</td>\n",
       "      <td>87.461882</td>\n",
       "      <td>85.545922</td>\n",
       "      <td>...</td>\n",
       "      <td>14.256337</td>\n",
       "      <td>11.169525</td>\n",
       "      <td>9.553031</td>\n",
       "      <td>9.083698</td>\n",
       "      <td>2.000000</td>\n",
       "      <td>3.230638e-04</td>\n",
       "      <td>1.177675e-05</td>\n",
       "      <td>313.098490</td>\n",
       "      <td>7.000000</td>\n",
       "      <td>8.000000</td>\n",
       "    </tr>\n",
       "    <tr>\n",
       "      <th>max</th>\n",
       "      <td>3546.550091</td>\n",
       "      <td>2167.821913</td>\n",
       "      <td>1556.984098</td>\n",
       "      <td>1364.750299</td>\n",
       "      <td>1192.576708</td>\n",
       "      <td>1011.511983</td>\n",
       "      <td>963.127206</td>\n",
       "      <td>1032.481591</td>\n",
       "      <td>887.508786</td>\n",
       "      <td>847.766325</td>\n",
       "      <td>...</td>\n",
       "      <td>116.073719</td>\n",
       "      <td>96.531130</td>\n",
       "      <td>87.146006</td>\n",
       "      <td>78.221700</td>\n",
       "      <td>2.000000</td>\n",
       "      <td>6.049485e-01</td>\n",
       "      <td>4.137904e-02</td>\n",
       "      <td>2542.986702</td>\n",
       "      <td>86.000000</td>\n",
       "      <td>10.000000</td>\n",
       "    </tr>\n",
       "  </tbody>\n",
       "</table>\n",
       "<p>8 rows × 30 columns</p>\n",
       "</div>"
      ],
      "text/plain": [
       "              eq_0        eq_10        eq_20        eq_30        eq_40  \\\n",
       "count  7732.000000  7732.000000  7732.000000  7732.000000  7732.000000   \n",
       "mean     43.022745    46.495207    52.153118    54.881930    62.084174   \n",
       "std     176.703567   136.634445   125.369831   116.421147   108.180386   \n",
       "min       0.000432     0.000540     0.000594     0.000631     0.001056   \n",
       "25%       1.822219     2.427433     3.154214     3.951474     5.685361   \n",
       "50%       7.021452     9.146109    11.815302    14.114159    21.751311   \n",
       "75%      26.350054    35.357184    43.092715    49.437613    66.702473   \n",
       "max    3546.550091  2167.821913  1556.984098  1364.750299  1192.576708   \n",
       "\n",
       "             eq_60        eq_80       eq_120       eq_160       eq_230  ...  \\\n",
       "count  7732.000000  7732.000000  7732.000000  7732.000000  7732.000000  ...   \n",
       "mean     66.125071    66.530550    67.419768    67.375583    64.949511  ...   \n",
       "std     100.336508    89.913139    88.670364    86.341888    80.649000  ...   \n",
       "min       0.001074     0.001088     0.001651     0.002765     0.004346  ...   \n",
       "25%       7.405419     8.839198    10.447118    11.793331    12.633812  ...   \n",
       "50%      27.243246    32.488573    34.854983    38.513382    38.477670  ...   \n",
       "75%      81.095333    86.521367    87.974056    87.461882    85.545922  ...   \n",
       "max    1011.511983   963.127206  1032.481591   887.508786   847.766325  ...   \n",
       "\n",
       "          eq_10000     eq_15000     eq_20000  crestfactor     salience  \\\n",
       "count  7732.000000  7732.000000  7732.000000  7732.000000  7732.000000   \n",
       "mean     11.462260     8.913350     7.122022     7.676651     1.338593   \n",
       "std      13.843459    10.893360     7.794862     4.594971     0.473262   \n",
       "min       0.020673     0.016762     0.014721     1.182664     1.000000   \n",
       "25%       3.266331     2.497383     2.085227     4.969632     1.000000   \n",
       "50%       7.277380     5.562813     4.760455     6.520001     1.000000   \n",
       "75%      14.256337    11.169525     9.553031     9.083698     2.000000   \n",
       "max     116.073719    96.531130    87.146006    78.221700     2.000000   \n",
       "\n",
       "       harmonic_power  percussive_power  harmonic_hits  percussive_hits  \\\n",
       "count    7.732000e+03      7.732000e+03    7732.000000      7732.000000   \n",
       "mean     2.565263e-03      3.256207e-04     228.589735         8.332256   \n",
       "std      1.406049e-02      1.925023e-03     252.334626        15.219344   \n",
       "min      6.659914e-14      3.317685e-10       0.000000         0.000000   \n",
       "25%      4.320456e-06      6.010279e-07      48.978612         1.000000   \n",
       "50%      2.636459e-05      1.420699e-06     142.271870         2.000000   \n",
       "75%      3.230638e-04      1.177675e-05     313.098490         7.000000   \n",
       "max      6.049485e-01      4.137904e-02    2542.986702        86.000000   \n",
       "\n",
       "              fold  \n",
       "count  7732.000000  \n",
       "mean      5.371185  \n",
       "std       2.843176  \n",
       "min       1.000000  \n",
       "25%       3.000000  \n",
       "50%       5.000000  \n",
       "75%       8.000000  \n",
       "max      10.000000  \n",
       "\n",
       "[8 rows x 30 columns]"
      ]
     },
     "execution_count": 24,
     "metadata": {},
     "output_type": "execute_result"
    }
   ],
   "source": [
    "features_df.describe()"
   ]
  },
  {
   "cell_type": "code",
   "execution_count": 25,
   "id": "sudden-peter",
   "metadata": {},
   "outputs": [
    {
     "data": {
      "text/html": [
       "<div>\n",
       "<style scoped>\n",
       "    .dataframe tbody tr th:only-of-type {\n",
       "        vertical-align: middle;\n",
       "    }\n",
       "\n",
       "    .dataframe tbody tr th {\n",
       "        vertical-align: top;\n",
       "    }\n",
       "\n",
       "    .dataframe thead th {\n",
       "        text-align: right;\n",
       "    }\n",
       "</style>\n",
       "<table border=\"1\" class=\"dataframe\">\n",
       "  <thead>\n",
       "    <tr style=\"text-align: right;\">\n",
       "      <th></th>\n",
       "      <th>class</th>\n",
       "      <th>eq_0</th>\n",
       "      <th>eq_10</th>\n",
       "      <th>eq_20</th>\n",
       "      <th>eq_30</th>\n",
       "      <th>eq_40</th>\n",
       "      <th>eq_60</th>\n",
       "      <th>eq_80</th>\n",
       "      <th>eq_120</th>\n",
       "      <th>eq_160</th>\n",
       "      <th>...</th>\n",
       "      <th>eq_10000</th>\n",
       "      <th>eq_15000</th>\n",
       "      <th>eq_20000</th>\n",
       "      <th>crestfactor</th>\n",
       "      <th>salience</th>\n",
       "      <th>harmonic_power</th>\n",
       "      <th>percussive_power</th>\n",
       "      <th>harmonic_hits</th>\n",
       "      <th>percussive_hits</th>\n",
       "      <th>fold</th>\n",
       "    </tr>\n",
       "  </thead>\n",
       "  <tbody>\n",
       "    <tr>\n",
       "      <th>2</th>\n",
       "      <td>street_music</td>\n",
       "      <td>3.980402</td>\n",
       "      <td>5.639204</td>\n",
       "      <td>8.452841</td>\n",
       "      <td>13.437525</td>\n",
       "      <td>19.415338</td>\n",
       "      <td>35.319351</td>\n",
       "      <td>61.852247</td>\n",
       "      <td>62.117064</td>\n",
       "      <td>69.794119</td>\n",
       "      <td>...</td>\n",
       "      <td>4.442734</td>\n",
       "      <td>3.375018</td>\n",
       "      <td>3.069331</td>\n",
       "      <td>7.897027</td>\n",
       "      <td>1</td>\n",
       "      <td>0.000030</td>\n",
       "      <td>6.712090e-05</td>\n",
       "      <td>332.313043</td>\n",
       "      <td>4</td>\n",
       "      <td>7</td>\n",
       "    </tr>\n",
       "    <tr>\n",
       "      <th>3</th>\n",
       "      <td>engine_idling</td>\n",
       "      <td>49.217855</td>\n",
       "      <td>118.563553</td>\n",
       "      <td>413.636333</td>\n",
       "      <td>356.165592</td>\n",
       "      <td>298.137279</td>\n",
       "      <td>250.708116</td>\n",
       "      <td>187.251374</td>\n",
       "      <td>154.515099</td>\n",
       "      <td>123.041750</td>\n",
       "      <td>...</td>\n",
       "      <td>7.791927</td>\n",
       "      <td>5.879618</td>\n",
       "      <td>5.338780</td>\n",
       "      <td>2.837097</td>\n",
       "      <td>1</td>\n",
       "      <td>0.013045</td>\n",
       "      <td>2.409356e-07</td>\n",
       "      <td>132.342029</td>\n",
       "      <td>16</td>\n",
       "      <td>10</td>\n",
       "    </tr>\n",
       "    <tr>\n",
       "      <th>4</th>\n",
       "      <td>jackhammer</td>\n",
       "      <td>32.283071</td>\n",
       "      <td>64.291137</td>\n",
       "      <td>87.047839</td>\n",
       "      <td>95.002994</td>\n",
       "      <td>83.547205</td>\n",
       "      <td>78.752242</td>\n",
       "      <td>62.357059</td>\n",
       "      <td>56.717538</td>\n",
       "      <td>47.499636</td>\n",
       "      <td>...</td>\n",
       "      <td>6.121235</td>\n",
       "      <td>4.655034</td>\n",
       "      <td>3.885653</td>\n",
       "      <td>7.351516</td>\n",
       "      <td>1</td>\n",
       "      <td>0.000003</td>\n",
       "      <td>7.250180e-07</td>\n",
       "      <td>77.518617</td>\n",
       "      <td>64</td>\n",
       "      <td>1</td>\n",
       "    </tr>\n",
       "    <tr>\n",
       "      <th>5</th>\n",
       "      <td>engine_idling</td>\n",
       "      <td>8.848471</td>\n",
       "      <td>11.130128</td>\n",
       "      <td>10.380974</td>\n",
       "      <td>9.584670</td>\n",
       "      <td>10.101372</td>\n",
       "      <td>12.845699</td>\n",
       "      <td>21.601185</td>\n",
       "      <td>36.468534</td>\n",
       "      <td>35.321569</td>\n",
       "      <td>...</td>\n",
       "      <td>1.566303</td>\n",
       "      <td>1.181698</td>\n",
       "      <td>0.988505</td>\n",
       "      <td>3.722183</td>\n",
       "      <td>1</td>\n",
       "      <td>0.001770</td>\n",
       "      <td>3.998450e-07</td>\n",
       "      <td>1067.550532</td>\n",
       "      <td>0</td>\n",
       "      <td>9</td>\n",
       "    </tr>\n",
       "    <tr>\n",
       "      <th>7</th>\n",
       "      <td>drilling</td>\n",
       "      <td>15.700406</td>\n",
       "      <td>13.609655</td>\n",
       "      <td>10.262346</td>\n",
       "      <td>8.286569</td>\n",
       "      <td>6.292002</td>\n",
       "      <td>5.021286</td>\n",
       "      <td>4.564815</td>\n",
       "      <td>4.215959</td>\n",
       "      <td>4.250508</td>\n",
       "      <td>...</td>\n",
       "      <td>20.899897</td>\n",
       "      <td>17.508719</td>\n",
       "      <td>14.861140</td>\n",
       "      <td>4.940376</td>\n",
       "      <td>1</td>\n",
       "      <td>0.000489</td>\n",
       "      <td>7.032312e-07</td>\n",
       "      <td>161.944149</td>\n",
       "      <td>0</td>\n",
       "      <td>2</td>\n",
       "    </tr>\n",
       "  </tbody>\n",
       "</table>\n",
       "<p>5 rows × 31 columns</p>\n",
       "</div>"
      ],
      "text/plain": [
       "           class       eq_0       eq_10       eq_20       eq_30       eq_40  \\\n",
       "2   street_music   3.980402    5.639204    8.452841   13.437525   19.415338   \n",
       "3  engine_idling  49.217855  118.563553  413.636333  356.165592  298.137279   \n",
       "4     jackhammer  32.283071   64.291137   87.047839   95.002994   83.547205   \n",
       "5  engine_idling   8.848471   11.130128   10.380974    9.584670   10.101372   \n",
       "7       drilling  15.700406   13.609655   10.262346    8.286569    6.292002   \n",
       "\n",
       "        eq_60       eq_80      eq_120      eq_160  ...   eq_10000   eq_15000  \\\n",
       "2   35.319351   61.852247   62.117064   69.794119  ...   4.442734   3.375018   \n",
       "3  250.708116  187.251374  154.515099  123.041750  ...   7.791927   5.879618   \n",
       "4   78.752242   62.357059   56.717538   47.499636  ...   6.121235   4.655034   \n",
       "5   12.845699   21.601185   36.468534   35.321569  ...   1.566303   1.181698   \n",
       "7    5.021286    4.564815    4.215959    4.250508  ...  20.899897  17.508719   \n",
       "\n",
       "    eq_20000  crestfactor  salience  harmonic_power  percussive_power  \\\n",
       "2   3.069331     7.897027         1        0.000030      6.712090e-05   \n",
       "3   5.338780     2.837097         1        0.013045      2.409356e-07   \n",
       "4   3.885653     7.351516         1        0.000003      7.250180e-07   \n",
       "5   0.988505     3.722183         1        0.001770      3.998450e-07   \n",
       "7  14.861140     4.940376         1        0.000489      7.032312e-07   \n",
       "\n",
       "   harmonic_hits  percussive_hits  fold  \n",
       "2     332.313043                4     7  \n",
       "3     132.342029               16    10  \n",
       "4      77.518617               64     1  \n",
       "5    1067.550532                0     9  \n",
       "7     161.944149                0     2  \n",
       "\n",
       "[5 rows x 31 columns]"
      ]
     },
     "execution_count": 25,
     "metadata": {},
     "output_type": "execute_result"
    }
   ],
   "source": [
    "features_df.head()"
   ]
  },
  {
   "cell_type": "code",
   "execution_count": 26,
   "id": "enclosed-jewel",
   "metadata": {},
   "outputs": [],
   "source": [
    "# What if we drop children playing?\n",
    "features_df = features_df[features_df['class'] != 'children_playing']"
   ]
  },
  {
   "cell_type": "code",
   "execution_count": 27,
   "id": "coated-assurance",
   "metadata": {},
   "outputs": [],
   "source": [
    "# Try grouping sounds into families since jackhammers/drills are hard to differentiate between and \n",
    "# crowd noises drown out children playing and street music\n",
    "\n",
    "#features_df['family'] = features_df['class'].replace({'air_conditioner':5, 'car_horn':1, 'children_playing':0, 'dog_bark':3, 'drilling':4, 'engine_idling':5, 'gun_shot':6, 'jackhammer':4, 'siren':8, 'street_music':0},inplace=False)"
   ]
  },
  {
   "cell_type": "code",
   "execution_count": 28,
   "id": "dress-consortium",
   "metadata": {},
   "outputs": [
    {
     "data": {
      "text/plain": [
       "(array([], dtype=int64), array([], dtype=int64))"
      ]
     },
     "execution_count": 28,
     "metadata": {},
     "output_type": "execute_result"
    }
   ],
   "source": [
    "# Searching for NaNs in input\n",
    "np.where(np.isnan(features_df[classify_keys].values) == 1)"
   ]
  },
  {
   "cell_type": "markdown",
   "id": "caroline-perfume",
   "metadata": {},
   "source": [
    "Now that we've loaded the data, I'll drop a fold as recommended by the documentation."
   ]
  },
  {
   "cell_type": "code",
   "execution_count": 29,
   "id": "perceived-knowing",
   "metadata": {},
   "outputs": [],
   "source": [
    "dropfold = 1\n",
    "\n",
    "cv_features_df = features_df.drop(features_df[features_df['fold']==dropfold].index)\n",
    "validation_features_df = features_df.drop(features_df[features_df['fold']!=dropfold].index)"
   ]
  },
  {
   "cell_type": "code",
   "execution_count": 30,
   "id": "exposed-actor",
   "metadata": {},
   "outputs": [
    {
     "data": {
      "text/html": [
       "<div>\n",
       "<style scoped>\n",
       "    .dataframe tbody tr th:only-of-type {\n",
       "        vertical-align: middle;\n",
       "    }\n",
       "\n",
       "    .dataframe tbody tr th {\n",
       "        vertical-align: top;\n",
       "    }\n",
       "\n",
       "    .dataframe thead th {\n",
       "        text-align: right;\n",
       "    }\n",
       "</style>\n",
       "<table border=\"1\" class=\"dataframe\">\n",
       "  <thead>\n",
       "    <tr style=\"text-align: right;\">\n",
       "      <th></th>\n",
       "      <th>class</th>\n",
       "      <th>eq_0</th>\n",
       "      <th>eq_10</th>\n",
       "      <th>eq_20</th>\n",
       "      <th>eq_30</th>\n",
       "      <th>eq_40</th>\n",
       "      <th>eq_60</th>\n",
       "      <th>eq_80</th>\n",
       "      <th>eq_120</th>\n",
       "      <th>eq_160</th>\n",
       "      <th>...</th>\n",
       "      <th>eq_10000</th>\n",
       "      <th>eq_15000</th>\n",
       "      <th>eq_20000</th>\n",
       "      <th>crestfactor</th>\n",
       "      <th>salience</th>\n",
       "      <th>harmonic_power</th>\n",
       "      <th>percussive_power</th>\n",
       "      <th>harmonic_hits</th>\n",
       "      <th>percussive_hits</th>\n",
       "      <th>fold</th>\n",
       "    </tr>\n",
       "  </thead>\n",
       "  <tbody>\n",
       "    <tr>\n",
       "      <th>2</th>\n",
       "      <td>street_music</td>\n",
       "      <td>3.980402</td>\n",
       "      <td>5.639204</td>\n",
       "      <td>8.452841</td>\n",
       "      <td>13.437525</td>\n",
       "      <td>19.415338</td>\n",
       "      <td>35.319351</td>\n",
       "      <td>61.852247</td>\n",
       "      <td>62.117064</td>\n",
       "      <td>69.794119</td>\n",
       "      <td>...</td>\n",
       "      <td>4.442734</td>\n",
       "      <td>3.375018</td>\n",
       "      <td>3.069331</td>\n",
       "      <td>7.897027</td>\n",
       "      <td>1</td>\n",
       "      <td>0.000030</td>\n",
       "      <td>6.712090e-05</td>\n",
       "      <td>332.313043</td>\n",
       "      <td>4</td>\n",
       "      <td>7</td>\n",
       "    </tr>\n",
       "    <tr>\n",
       "      <th>3</th>\n",
       "      <td>engine_idling</td>\n",
       "      <td>49.217855</td>\n",
       "      <td>118.563553</td>\n",
       "      <td>413.636333</td>\n",
       "      <td>356.165592</td>\n",
       "      <td>298.137279</td>\n",
       "      <td>250.708116</td>\n",
       "      <td>187.251374</td>\n",
       "      <td>154.515099</td>\n",
       "      <td>123.041750</td>\n",
       "      <td>...</td>\n",
       "      <td>7.791927</td>\n",
       "      <td>5.879618</td>\n",
       "      <td>5.338780</td>\n",
       "      <td>2.837097</td>\n",
       "      <td>1</td>\n",
       "      <td>0.013045</td>\n",
       "      <td>2.409356e-07</td>\n",
       "      <td>132.342029</td>\n",
       "      <td>16</td>\n",
       "      <td>10</td>\n",
       "    </tr>\n",
       "    <tr>\n",
       "      <th>5</th>\n",
       "      <td>engine_idling</td>\n",
       "      <td>8.848471</td>\n",
       "      <td>11.130128</td>\n",
       "      <td>10.380974</td>\n",
       "      <td>9.584670</td>\n",
       "      <td>10.101372</td>\n",
       "      <td>12.845699</td>\n",
       "      <td>21.601185</td>\n",
       "      <td>36.468534</td>\n",
       "      <td>35.321569</td>\n",
       "      <td>...</td>\n",
       "      <td>1.566303</td>\n",
       "      <td>1.181698</td>\n",
       "      <td>0.988505</td>\n",
       "      <td>3.722183</td>\n",
       "      <td>1</td>\n",
       "      <td>0.001770</td>\n",
       "      <td>3.998450e-07</td>\n",
       "      <td>1067.550532</td>\n",
       "      <td>0</td>\n",
       "      <td>9</td>\n",
       "    </tr>\n",
       "    <tr>\n",
       "      <th>7</th>\n",
       "      <td>drilling</td>\n",
       "      <td>15.700406</td>\n",
       "      <td>13.609655</td>\n",
       "      <td>10.262346</td>\n",
       "      <td>8.286569</td>\n",
       "      <td>6.292002</td>\n",
       "      <td>5.021286</td>\n",
       "      <td>4.564815</td>\n",
       "      <td>4.215959</td>\n",
       "      <td>4.250508</td>\n",
       "      <td>...</td>\n",
       "      <td>20.899897</td>\n",
       "      <td>17.508719</td>\n",
       "      <td>14.861140</td>\n",
       "      <td>4.940376</td>\n",
       "      <td>1</td>\n",
       "      <td>0.000489</td>\n",
       "      <td>7.032312e-07</td>\n",
       "      <td>161.944149</td>\n",
       "      <td>0</td>\n",
       "      <td>2</td>\n",
       "    </tr>\n",
       "    <tr>\n",
       "      <th>8</th>\n",
       "      <td>jackhammer</td>\n",
       "      <td>15.457212</td>\n",
       "      <td>9.107619</td>\n",
       "      <td>8.688648</td>\n",
       "      <td>7.658117</td>\n",
       "      <td>9.039835</td>\n",
       "      <td>8.061542</td>\n",
       "      <td>8.755220</td>\n",
       "      <td>10.832037</td>\n",
       "      <td>11.061374</td>\n",
       "      <td>...</td>\n",
       "      <td>16.451793</td>\n",
       "      <td>12.660217</td>\n",
       "      <td>11.504940</td>\n",
       "      <td>11.322416</td>\n",
       "      <td>1</td>\n",
       "      <td>0.000095</td>\n",
       "      <td>1.132678e-05</td>\n",
       "      <td>41.947826</td>\n",
       "      <td>69</td>\n",
       "      <td>5</td>\n",
       "    </tr>\n",
       "  </tbody>\n",
       "</table>\n",
       "<p>5 rows × 31 columns</p>\n",
       "</div>"
      ],
      "text/plain": [
       "           class       eq_0       eq_10       eq_20       eq_30       eq_40  \\\n",
       "2   street_music   3.980402    5.639204    8.452841   13.437525   19.415338   \n",
       "3  engine_idling  49.217855  118.563553  413.636333  356.165592  298.137279   \n",
       "5  engine_idling   8.848471   11.130128   10.380974    9.584670   10.101372   \n",
       "7       drilling  15.700406   13.609655   10.262346    8.286569    6.292002   \n",
       "8     jackhammer  15.457212    9.107619    8.688648    7.658117    9.039835   \n",
       "\n",
       "        eq_60       eq_80      eq_120      eq_160  ...   eq_10000   eq_15000  \\\n",
       "2   35.319351   61.852247   62.117064   69.794119  ...   4.442734   3.375018   \n",
       "3  250.708116  187.251374  154.515099  123.041750  ...   7.791927   5.879618   \n",
       "5   12.845699   21.601185   36.468534   35.321569  ...   1.566303   1.181698   \n",
       "7    5.021286    4.564815    4.215959    4.250508  ...  20.899897  17.508719   \n",
       "8    8.061542    8.755220   10.832037   11.061374  ...  16.451793  12.660217   \n",
       "\n",
       "    eq_20000  crestfactor  salience  harmonic_power  percussive_power  \\\n",
       "2   3.069331     7.897027         1        0.000030      6.712090e-05   \n",
       "3   5.338780     2.837097         1        0.013045      2.409356e-07   \n",
       "5   0.988505     3.722183         1        0.001770      3.998450e-07   \n",
       "7  14.861140     4.940376         1        0.000489      7.032312e-07   \n",
       "8  11.504940    11.322416         1        0.000095      1.132678e-05   \n",
       "\n",
       "   harmonic_hits  percussive_hits  fold  \n",
       "2     332.313043                4     7  \n",
       "3     132.342029               16    10  \n",
       "5    1067.550532                0     9  \n",
       "7     161.944149                0     2  \n",
       "8      41.947826               69     5  \n",
       "\n",
       "[5 rows x 31 columns]"
      ]
     },
     "execution_count": 30,
     "metadata": {},
     "output_type": "execute_result"
    }
   ],
   "source": [
    "cv_features_df.head()"
   ]
  },
  {
   "cell_type": "code",
   "execution_count": 31,
   "id": "average-texas",
   "metadata": {},
   "outputs": [
    {
     "data": {
      "image/png": "[encoded data removed]",
      "text/plain": [
       "<Figure size 792x360 with 1 Axes>"
      ]
     },
     "metadata": {
      "needs_background": "light"
     },
     "output_type": "display_data"
    }
   ],
   "source": [
    "plt.figure(figsize=(11,5))\n",
    "sns.stripplot(data = cv_features_df,\n",
    "             x = 'class',\n",
    "             y = 'eq_20000')\n",
    "plt.tight_layout()\n",
    "plt.show()"
   ]
  },
  {
   "cell_type": "code",
   "execution_count": 32,
   "id": "polish-employment",
   "metadata": {},
   "outputs": [],
   "source": [
    "def reduce_confmat(matrix):\n",
    "    \"\"\"\n",
    "    Takes the N-dimensional confusion matrix as input and returns \n",
    "    a tuple (true positive, false positive, false negative) for the whole set.\n",
    "    \n",
    "    confusion matrix C is such that C_ij is equal to the \n",
    "    number of observations known to be in group i \n",
    "    and predicted to be in group j.\n",
    "    \"\"\"\n",
    "    \n",
    "    tps = [] # True positives for each axis\n",
    "    fps = [] # True \n",
    "    fns = []\n",
    "    \n",
    "    for i in range(len(matrix)):\n",
    "        \n",
    "        tps.append(matrix[i,i]) # Append true positives for a class\n",
    "        #confusion_matrix(pred,y_test)[0,:] # returns row 0\n",
    "        #confusion_matrix(pred,y_test)[:,0] # returns column 0\n",
    "        fps.append( np.delete(matrix[:,i],i).sum() ) # take sum, dropping the diagonal element\n",
    "        fns.append( np.delete(matrix[i,:],i).sum() ) # take sum, dropping the diagonal element\n",
    "        \n",
    "    res = (tps, fps, fns)\n",
    "    return res"
   ]
  },
  {
   "cell_type": "code",
   "execution_count": 33,
   "id": "broke-wagner",
   "metadata": {},
   "outputs": [],
   "source": [
    "def TPR(prediction, data):\n",
    "    \"\"\"\n",
    "    Returns True Positive Ratio given a prediction and data\n",
    "    \"\"\"\n",
    "    confmat = confusion_matrix(prediction, data)\n",
    "#     print(confmat)\n",
    "#     plt.figure()\n",
    "#     ConfusionMatrixDisplay(confmat)\n",
    "#     plt.show()\n",
    "#     TN = confmat[0,0]\n",
    "#     FP = confmat[0,1]\n",
    "#     FN = confmat[1,0]\n",
    "#     TP = confmat[1,1]\n",
    "    \n",
    "    (TP, FP, FN) = reduce_confmat(confmat)\n",
    "    \n",
    "    truepos = lambda a, b, c: a/(b+c)\n",
    "    \n",
    "    return np.mean([truepos(TP[i], TP[i], FN[i]) for i in range(len(TP))])\n",
    "    \n",
    "\n",
    "    "
   ]
  },
  {
   "cell_type": "code",
   "execution_count": 34,
   "id": "italic-yeast",
   "metadata": {},
   "outputs": [],
   "source": [
    "def recall(prediction, data):\n",
    "    \"\"\"\n",
    "    Calculates recall of a prediction\n",
    "    \"\"\"\n",
    "    \n",
    "    confmat = confusion_matrix(prediction, data)\n",
    "\n",
    "#     TN = confmat[0,0]\n",
    "#     FP = confmat[0,1]\n",
    "#     FN = confmat[1,0]\n",
    "#     TP = confmat[1,1]\n",
    "    (TP, FP, FN) = reduce_confmat(confmat)\n",
    "    \n",
    "    rec = lambda a, b, c: a/(b+c)\n",
    "    \n",
    "    return np.mean([rec(TP[i], TP[i], FN[i]) for i in range(len(TP))])\n",
    "    \n",
    "\n",
    "def precision(prediction, data):\n",
    "    \"\"\"\n",
    "    Calculates precision of a prediction\n",
    "    \"\"\"\n",
    "    \n",
    "    confmat = confusion_matrix(prediction, data)\n",
    "\n",
    "#     TN = confmat[0,0]\n",
    "#     FP = confmat[0,1]\n",
    "#     FN = confmat[1,0]\n",
    "#     TP = confmat[1,1]\n",
    "    (TP, FP, FN) = reduce_confmat(confmat)\n",
    "    \n",
    "    prec = lambda a, b, c: a/(b+c)\n",
    "    \n",
    "    return np.mean([prec(TP[i], TP[i], FP[i]) for i in range(len(TP))])\n",
    "    "
   ]
  },
  {
   "cell_type": "code",
   "execution_count": 35,
   "id": "fitting-controversy",
   "metadata": {},
   "outputs": [],
   "source": [
    "def Fmeasure(prediction, data):\n",
    "    \"\"\"\n",
    "    Returns Fmeasure. \n",
    "    \n",
    "    This is considered a balance of the precision and the recall.\n",
    "    \n",
    "    F = (2*P*R)/(P+R)\n",
    "    \n",
    "    where\n",
    "    \n",
    "    P = TP/(TP + FP) is the precision and\n",
    "    R = TP/(TP + FN) is the recall.\n",
    "    \n",
    "    Reference: \n",
    "    Müller, Meinard. Fundamentals of music processing: Audio, analysis, algorithms, applications. \n",
    "    Vol. 5. Cham: Springer, 2015.\n",
    "    Sec. 4.5 pp. 217\n",
    "    \"\"\"\n",
    "    confmat = confusion_matrix(prediction, data)\n",
    "\n",
    "#     TN = confmat[0,0]\n",
    "#     FP = confmat[0,1]\n",
    "#     FN = confmat[1,0]\n",
    "#     TP = confmat[1,1]\n",
    "    \n",
    "    (TP, FP, FN) = reduce_confmat(confmat)\n",
    "    \n",
    "#     P = TP/(TP + FP)\n",
    "#     R = TP/(TP + FN)\n",
    "    \n",
    "    workhorse = lambda a, b, c: a/(b+c)\n",
    "    Fmeas = lambda x,y : (2*x*y)/(x+y)\n",
    "    \n",
    "    P = [workhorse(TP[i], TP[i], FP[i]) for i in range(len(TP))]\n",
    "    R = [workhorse(TP[i], TP[i], FN[i]) for i in range(len(TP))]\n",
    "    \n",
    "    \n",
    "    #F = (2*P*R)/(P + R)\n",
    "    return np.average([Fmeas(P[i],R[i]) for i in range(len(P))]) #F\n",
    "    "
   ]
  },
  {
   "cell_type": "markdown",
   "id": "reported-marriage",
   "metadata": {},
   "source": [
    "## Establishing a baseline: The Random Forest"
   ]
  },
  {
   "cell_type": "code",
   "execution_count": 36,
   "id": "processed-croatia",
   "metadata": {},
   "outputs": [],
   "source": [
    "forest = RandomForestClassifier(max_depth=25, n_estimators=1000, n_jobs=4) "
   ]
  },
  {
   "cell_type": "code",
   "execution_count": 37,
   "id": "unlikely-wagner",
   "metadata": {},
   "outputs": [
    {
     "ename": "KeyError",
     "evalue": "'family'",
     "output_type": "error",
     "traceback": [
      "\u001b[0;31m---------------------------------------------------------------------------\u001b[0m",
      "\u001b[0;31mKeyError\u001b[0m                                  Traceback (most recent call last)",
      "\u001b[0;32m~/anaconda3/lib/python3.8/site-packages/pandas/core/indexes/base.py\u001b[0m in \u001b[0;36mget_loc\u001b[0;34m(self, key, method, tolerance)\u001b[0m\n\u001b[1;32m   3620\u001b[0m             \u001b[0;32mtry\u001b[0m\u001b[0;34m:\u001b[0m\u001b[0;34m\u001b[0m\u001b[0;34m\u001b[0m\u001b[0m\n\u001b[0;32m-> 3621\u001b[0;31m                 \u001b[0;32mreturn\u001b[0m \u001b[0mself\u001b[0m\u001b[0;34m.\u001b[0m\u001b[0m_engine\u001b[0m\u001b[0;34m.\u001b[0m\u001b[0mget_loc\u001b[0m\u001b[0;34m(\u001b[0m\u001b[0mcasted_key\u001b[0m\u001b[0;34m)\u001b[0m\u001b[0;34m\u001b[0m\u001b[0;34m\u001b[0m\u001b[0m\n\u001b[0m\u001b[1;32m   3622\u001b[0m             \u001b[0;32mexcept\u001b[0m \u001b[0mKeyError\u001b[0m \u001b[0;32mas\u001b[0m \u001b[0merr\u001b[0m\u001b[0;34m:\u001b[0m\u001b[0;34m\u001b[0m\u001b[0;34m\u001b[0m\u001b[0m\n",
      "\u001b[0;32m~/anaconda3/lib/python3.8/site-packages/pandas/_libs/index.pyx\u001b[0m in \u001b[0;36mpandas._libs.index.IndexEngine.get_loc\u001b[0;34m()\u001b[0m\n",
      "\u001b[0;32m~/anaconda3/lib/python3.8/site-packages/pandas/_libs/index.pyx\u001b[0m in \u001b[0;36mpandas._libs.index.IndexEngine.get_loc\u001b[0;34m()\u001b[0m\n",
      "\u001b[0;32mpandas/_libs/hashtable_class_helper.pxi\u001b[0m in \u001b[0;36mpandas._libs.hashtable.PyObjectHashTable.get_item\u001b[0;34m()\u001b[0m\n",
      "\u001b[0;32mpandas/_libs/hashtable_class_helper.pxi\u001b[0m in \u001b[0;36mpandas._libs.hashtable.PyObjectHashTable.get_item\u001b[0;34m()\u001b[0m\n",
      "\u001b[0;31mKeyError\u001b[0m: 'family'",
      "\nThe above exception was the direct cause of the following exception:\n",
      "\u001b[0;31mKeyError\u001b[0m                                  Traceback (most recent call last)",
      "\u001b[0;32m<ipython-input-37-1daa4d7a5944>\u001b[0m in \u001b[0;36m<module>\u001b[0;34m\u001b[0m\n\u001b[1;32m      4\u001b[0m     \u001b[0mX_train\u001b[0m \u001b[0;34m=\u001b[0m \u001b[0mcv_features_df\u001b[0m\u001b[0;34m[\u001b[0m\u001b[0mclassify_keys\u001b[0m\u001b[0;34m]\u001b[0m\u001b[0;34m.\u001b[0m\u001b[0mvalues\u001b[0m\u001b[0;34m\u001b[0m\u001b[0;34m\u001b[0m\u001b[0m\n\u001b[1;32m      5\u001b[0m \u001b[0;34m\u001b[0m\u001b[0m\n\u001b[0;32m----> 6\u001b[0;31m \u001b[0my_train\u001b[0m \u001b[0;34m=\u001b[0m \u001b[0mcv_features_df\u001b[0m\u001b[0;34m[\u001b[0m\u001b[0;34m'family'\u001b[0m\u001b[0;34m]\u001b[0m\u001b[0;34m.\u001b[0m\u001b[0mvalues\u001b[0m\u001b[0;34m\u001b[0m\u001b[0;34m\u001b[0m\u001b[0m\n\u001b[0m\u001b[1;32m      7\u001b[0m \u001b[0;34m\u001b[0m\u001b[0m\n\u001b[1;32m      8\u001b[0m \u001b[0mX_test\u001b[0m \u001b[0;34m=\u001b[0m \u001b[0mvalidation_features_df\u001b[0m\u001b[0;34m[\u001b[0m\u001b[0mclassify_keys\u001b[0m\u001b[0;34m]\u001b[0m\u001b[0;34m.\u001b[0m\u001b[0mvalues\u001b[0m\u001b[0;34m\u001b[0m\u001b[0;34m\u001b[0m\u001b[0m\n",
      "\u001b[0;32m~/anaconda3/lib/python3.8/site-packages/pandas/core/frame.py\u001b[0m in \u001b[0;36m__getitem__\u001b[0;34m(self, key)\u001b[0m\n\u001b[1;32m   3503\u001b[0m             \u001b[0;32mif\u001b[0m \u001b[0mself\u001b[0m\u001b[0;34m.\u001b[0m\u001b[0mcolumns\u001b[0m\u001b[0;34m.\u001b[0m\u001b[0mnlevels\u001b[0m \u001b[0;34m>\u001b[0m \u001b[0;36m1\u001b[0m\u001b[0;34m:\u001b[0m\u001b[0;34m\u001b[0m\u001b[0;34m\u001b[0m\u001b[0m\n\u001b[1;32m   3504\u001b[0m                 \u001b[0;32mreturn\u001b[0m \u001b[0mself\u001b[0m\u001b[0;34m.\u001b[0m\u001b[0m_getitem_multilevel\u001b[0m\u001b[0;34m(\u001b[0m\u001b[0mkey\u001b[0m\u001b[0;34m)\u001b[0m\u001b[0;34m\u001b[0m\u001b[0;34m\u001b[0m\u001b[0m\n\u001b[0;32m-> 3505\u001b[0;31m             \u001b[0mindexer\u001b[0m \u001b[0;34m=\u001b[0m \u001b[0mself\u001b[0m\u001b[0;34m.\u001b[0m\u001b[0mcolumns\u001b[0m\u001b[0;34m.\u001b[0m\u001b[0mget_loc\u001b[0m\u001b[0;34m(\u001b[0m\u001b[0mkey\u001b[0m\u001b[0;34m)\u001b[0m\u001b[0;34m\u001b[0m\u001b[0;34m\u001b[0m\u001b[0m\n\u001b[0m\u001b[1;32m   3506\u001b[0m             \u001b[0;32mif\u001b[0m \u001b[0mis_integer\u001b[0m\u001b[0;34m(\u001b[0m\u001b[0mindexer\u001b[0m\u001b[0;34m)\u001b[0m\u001b[0;34m:\u001b[0m\u001b[0;34m\u001b[0m\u001b[0;34m\u001b[0m\u001b[0m\n\u001b[1;32m   3507\u001b[0m                 \u001b[0mindexer\u001b[0m \u001b[0;34m=\u001b[0m \u001b[0;34m[\u001b[0m\u001b[0mindexer\u001b[0m\u001b[0;34m]\u001b[0m\u001b[0;34m\u001b[0m\u001b[0;34m\u001b[0m\u001b[0m\n",
      "\u001b[0;32m~/anaconda3/lib/python3.8/site-packages/pandas/core/indexes/base.py\u001b[0m in \u001b[0;36mget_loc\u001b[0;34m(self, key, method, tolerance)\u001b[0m\n\u001b[1;32m   3621\u001b[0m                 \u001b[0;32mreturn\u001b[0m \u001b[0mself\u001b[0m\u001b[0;34m.\u001b[0m\u001b[0m_engine\u001b[0m\u001b[0;34m.\u001b[0m\u001b[0mget_loc\u001b[0m\u001b[0;34m(\u001b[0m\u001b[0mcasted_key\u001b[0m\u001b[0;34m)\u001b[0m\u001b[0;34m\u001b[0m\u001b[0;34m\u001b[0m\u001b[0m\n\u001b[1;32m   3622\u001b[0m             \u001b[0;32mexcept\u001b[0m \u001b[0mKeyError\u001b[0m \u001b[0;32mas\u001b[0m \u001b[0merr\u001b[0m\u001b[0;34m:\u001b[0m\u001b[0;34m\u001b[0m\u001b[0;34m\u001b[0m\u001b[0m\n\u001b[0;32m-> 3623\u001b[0;31m                 \u001b[0;32mraise\u001b[0m \u001b[0mKeyError\u001b[0m\u001b[0;34m(\u001b[0m\u001b[0mkey\u001b[0m\u001b[0;34m)\u001b[0m \u001b[0;32mfrom\u001b[0m \u001b[0merr\u001b[0m\u001b[0;34m\u001b[0m\u001b[0;34m\u001b[0m\u001b[0m\n\u001b[0m\u001b[1;32m   3624\u001b[0m             \u001b[0;32mexcept\u001b[0m \u001b[0mTypeError\u001b[0m\u001b[0;34m:\u001b[0m\u001b[0;34m\u001b[0m\u001b[0;34m\u001b[0m\u001b[0m\n\u001b[1;32m   3625\u001b[0m                 \u001b[0;31m# If we have a listlike key, _check_indexing_error will raise\u001b[0m\u001b[0;34m\u001b[0m\u001b[0;34m\u001b[0m\u001b[0;34m\u001b[0m\u001b[0m\n",
      "\u001b[0;31mKeyError\u001b[0m: 'family'"
     ]
    }
   ],
   "source": [
    "if len(classify_keys) == 1:\n",
    "    X_train = cv_features_df[classify_keys[0]].values.reshape(-1,1)\n",
    "else:\n",
    "    X_train = cv_features_df[classify_keys].values\n",
    "    \n",
    "y_train = cv_features_df['family'].values\n",
    "\n",
    "X_test = validation_features_df[classify_keys].values\n",
    "y_test = validation_features_df['family']"
   ]
  },
  {
   "cell_type": "code",
   "execution_count": 127,
   "id": "convertible-client",
   "metadata": {},
   "outputs": [
    {
     "data": {
      "text/plain": [
       "set()"
      ]
     },
     "execution_count": 127,
     "metadata": {},
     "output_type": "execute_result"
    }
   ],
   "source": [
    "set(np.where(np.isnan(X_train) == 1)[0])"
   ]
  },
  {
   "cell_type": "code",
   "execution_count": 128,
   "id": "representative-louisville",
   "metadata": {},
   "outputs": [
    {
     "data": {
      "text/plain": [
       "RandomForestClassifier(max_depth=25, n_estimators=1000, n_jobs=4)"
      ]
     },
     "execution_count": 128,
     "metadata": {},
     "output_type": "execute_result"
    }
   ],
   "source": [
    "forest.fit(X_train, y_train)"
   ]
  },
  {
   "cell_type": "code",
   "execution_count": 129,
   "id": "mexican-maria",
   "metadata": {},
   "outputs": [],
   "source": [
    "pred = forest.predict(X_test)"
   ]
  },
  {
   "cell_type": "code",
   "execution_count": 130,
   "id": "authorized-border",
   "metadata": {},
   "outputs": [
    {
     "data": {
      "text/plain": [
       "0.6688227684346701"
      ]
     },
     "execution_count": 130,
     "metadata": {},
     "output_type": "execute_result"
    }
   ],
   "source": [
    "accuracy_score(pred,y_test)"
   ]
  },
  {
   "cell_type": "code",
   "execution_count": 131,
   "id": "allied-riverside",
   "metadata": {},
   "outputs": [
    {
     "data": {
      "text/plain": [
       "array([0.03074615, 0.03160271, 0.02985037, 0.03145312, 0.03515415,\n",
       "       0.03284496, 0.0320296 , 0.03233284, 0.0378898 , 0.04010964,\n",
       "       0.03062583, 0.03147822, 0.02565869, 0.02715677, 0.02995894,\n",
       "       0.02626621, 0.02155936, 0.02051765, 0.02189752, 0.02696454,\n",
       "       0.0359346 , 0.0381327 , 0.03370578, 0.05568201, 0.0299029 ,\n",
       "       0.05827643, 0.06595203, 0.05129086, 0.03502561])"
      ]
     },
     "execution_count": 131,
     "metadata": {},
     "output_type": "execute_result"
    }
   ],
   "source": [
    "forest.feature_importances_"
   ]
  },
  {
   "cell_type": "code",
   "execution_count": 132,
   "id": "completed-coating",
   "metadata": {},
   "outputs": [
    {
     "data": {
      "image/png": "[encoded data removed]",
      "text/plain": [
       "<Figure size 432x288 with 1 Axes>"
      ]
     },
     "metadata": {
      "needs_background": "light"
     },
     "output_type": "display_data"
    }
   ],
   "source": [
    "fig = plt.figure()\n",
    "ax0 = fig.add_subplot(111)\n",
    "\n",
    "ax0.bar(classify_keys,forest.feature_importances_)\n",
    "\n",
    "# alternatively\n",
    "ax0.tick_params(rotation=90)\n",
    "ax0.set_ylabel('Feature importance')\n",
    "\n",
    "plt.tight_layout()\n",
    "plt.show()"
   ]
  },
  {
   "cell_type": "code",
   "execution_count": 133,
   "id": "sorted-maker",
   "metadata": {},
   "outputs": [],
   "source": [
    "#classlabels = {'air_conditioner':0, 'car_horn':1, 'children_playing':2, 'dog_bark':3, 'drilling':4, 'engine_idling':5, 'gun_shot':6, 'jackhammer':7, 'siren':8, 'street_music':9}.keys()\n",
    "classlabels = {'air_conditioner':0, 'car_horn':1, 'dog_bark':3, 'drilling':4, 'engine_idling':5, 'gun_shot':6, 'jackhammer':7, 'siren':8, 'street_music':9}.keys()\n",
    "\n",
    "\n",
    "#familylabels = {'house_sounds':0, 'car_horn':1, 'dog_bark':3, 'drilling':4, 'engine_idling':5, 'gun_shot':6, 'jackhammer':7, 'siren':8, }.keys()\n",
    "\n",
    "familylabels = {'house_sounds':0, 'car_horn':1, 'dog_bark':3, 'construction':4, 'motors':5, 'gun_shot':6, 'siren':8}.keys()"
   ]
  },
  {
   "cell_type": "code",
   "execution_count": 134,
   "id": "second-hospital",
   "metadata": {},
   "outputs": [
    {
     "data": {
      "text/plain": [
       "0.67491068444163"
      ]
     },
     "execution_count": 134,
     "metadata": {},
     "output_type": "execute_result"
    }
   ],
   "source": [
    "TPR(pred,y_test)"
   ]
  },
  {
   "cell_type": "code",
   "execution_count": 135,
   "id": "broken-council",
   "metadata": {},
   "outputs": [
    {
     "data": {
      "text/plain": [
       "array([[ 61,  10,   7,   1,  52,   1,   3],\n",
       "       [  1,  17,   1,   1,   1,   0,   1],\n",
       "       [  0,   0,  76,   8,   4,   9,   3],\n",
       "       [ 28,   4,   4, 194,  33,   6,   4],\n",
       "       [  7,   2,   6,  13,  91,   0,  10],\n",
       "       [  0,   0,   2,   2,   2,  19,   6],\n",
       "       [  3,   3,   4,   1,  13,   0,  59]])"
      ]
     },
     "execution_count": 135,
     "metadata": {},
     "output_type": "execute_result"
    }
   ],
   "source": [
    "confusion_matrix(pred,y_test)"
   ]
  },
  {
   "cell_type": "code",
   "execution_count": 136,
   "id": "worldwide-automation",
   "metadata": {},
   "outputs": [
    {
     "data": {
      "text/plain": [
       "<Figure size 648x648 with 0 Axes>"
      ]
     },
     "metadata": {},
     "output_type": "display_data"
    },
    {
     "data": {
      "image/png": "[encoded data removed]",
      "text/plain": [
       "<Figure size 432x288 with 2 Axes>"
      ]
     },
     "metadata": {
      "needs_background": "light"
     },
     "output_type": "display_data"
    }
   ],
   "source": [
    "plt.figure(figsize=(9,9))\n",
    "disp = ConfusionMatrixDisplay(confusion_matrix(pred,y_test),display_labels=familylabels)\n",
    "disp.plot(xticks_rotation='vertical')\n",
    "plt.show()"
   ]
  },
  {
   "cell_type": "markdown",
   "id": "small-channels",
   "metadata": {},
   "source": [
    "### Trying another model: A simple NN"
   ]
  },
  {
   "cell_type": "code",
   "execution_count": 137,
   "id": "polish-breath",
   "metadata": {},
   "outputs": [],
   "source": [
    "mlp = MLPClassifier(alpha=0.1, max_iter=5000,early_stopping=True)"
   ]
  },
  {
   "cell_type": "code",
   "execution_count": 138,
   "id": "emotional-salvation",
   "metadata": {},
   "outputs": [
    {
     "data": {
      "text/plain": [
       "MLPClassifier(alpha=0.1, early_stopping=True, max_iter=5000)"
      ]
     },
     "execution_count": 138,
     "metadata": {},
     "output_type": "execute_result"
    }
   ],
   "source": [
    "mlp.fit(X_train, y_train)"
   ]
  },
  {
   "cell_type": "code",
   "execution_count": 139,
   "id": "fossil-november",
   "metadata": {},
   "outputs": [],
   "source": [
    "pred_mlp = mlp.predict(X_test)"
   ]
  },
  {
   "cell_type": "code",
   "execution_count": 140,
   "id": "municipal-broadcast",
   "metadata": {},
   "outputs": [
    {
     "data": {
      "text/plain": [
       "0.6377749029754204"
      ]
     },
     "execution_count": 140,
     "metadata": {},
     "output_type": "execute_result"
    }
   ],
   "source": [
    "accuracy_score(pred_mlp,y_test)"
   ]
  },
  {
   "cell_type": "code",
   "execution_count": 141,
   "id": "narrative-bowling",
   "metadata": {},
   "outputs": [
    {
     "data": {
      "text/plain": [
       "0.5800741499695274"
      ]
     },
     "execution_count": 141,
     "metadata": {},
     "output_type": "execute_result"
    }
   ],
   "source": [
    "TPR(pred_mlp,y_test)"
   ]
  },
  {
   "cell_type": "markdown",
   "id": "green-sierra",
   "metadata": {},
   "source": [
    "## Looping through specified models"
   ]
  },
  {
   "cell_type": "code",
   "execution_count": 142,
   "id": "documented-apollo",
   "metadata": {},
   "outputs": [
    {
     "name": "stdout",
     "output_type": "stream",
     "text": [
      "Logistic Regression Classifier accuracy score: 0.702457956015524\n",
      "Logistic Regression Classifier Precision: 0.6670914079106735\n",
      "Logistic Regression Classifier Recall: 0.6473179075314813\n",
      "Logistic Regression Classifier Fmeasure: 0.6525652545429118\n",
      "\n",
      "Nearest Neighbors Classifier accuracy score: 0.5976714100905562\n",
      "Nearest Neighbors Classifier Precision: 0.5647883861003357\n",
      "Nearest Neighbors Classifier Recall: 0.5550042358632771\n",
      "Nearest Neighbors Classifier Fmeasure: 0.5561407735570797\n",
      "\n",
      "Linear SVM Classifier accuracy score: 0.6752910737386805\n",
      "Linear SVM Classifier Precision: 0.6366072408297823\n",
      "Linear SVM Classifier Recall: 0.5882836912072793\n",
      "Linear SVM Classifier Fmeasure: 0.5996039673633992\n",
      "\n",
      "RBF SVM Classifier accuracy score: 0.49288486416558863\n",
      "RBF SVM Classifier Precision: 0.5375038493363979\n",
      "RBF SVM Classifier Recall: 0.3969984474208489\n",
      "RBF SVM Classifier Fmeasure: nan\n",
      "\n"
     ]
    },
    {
     "name": "stderr",
     "output_type": "stream",
     "text": [
      "<ipython-input-111-bf842f1e60e5>:32: RuntimeWarning: invalid value encountered in double_scalars\n",
      "  Fmeas = lambda x,y : (2*x*y)/(x+y)\n"
     ]
    },
    {
     "name": "stdout",
     "output_type": "stream",
     "text": [
      "Decision Tree Classifier accuracy score: 0.5588615782664942\n",
      "Decision Tree Classifier Precision: 0.5068433819741421\n",
      "Decision Tree Classifier Recall: 0.5158513331840338\n",
      "Decision Tree Classifier Fmeasure: 0.5019595020859213\n",
      "\n",
      "Random Forest Classifier accuracy score: 0.666235446313066\n",
      "Random Forest Classifier Precision: 0.6828367839424053\n",
      "Random Forest Classifier Recall: 0.6334066202742045\n",
      "Random Forest Classifier Fmeasure: 0.6470212693058397\n",
      "\n",
      "Neural Net Classifier accuracy score: 0.7011642949547219\n",
      "Neural Net Classifier Precision: 0.6752138330441317\n",
      "Neural Net Classifier Recall: 0.6601396636375279\n",
      "Neural Net Classifier Fmeasure: 0.6648983337930232\n",
      "\n",
      "AdaBoost Classifier accuracy score: 0.46183699870633893\n",
      "AdaBoost Classifier Precision: 0.536430473781142\n",
      "AdaBoost Classifier Recall: 0.4585229609814327\n",
      "AdaBoost Classifier Fmeasure: 0.453974287441712\n",
      "\n",
      "Naive Bayes Classifier accuracy score: 0.4087968952134541\n",
      "Naive Bayes Classifier Precision: 0.45995013645650434\n",
      "Naive Bayes Classifier Recall: 0.47545325791647575\n",
      "Naive Bayes Classifier Fmeasure: 0.4063164616834369\n",
      "\n",
      "QDA Classifier accuracy score: 0.5937904269081501\n",
      "QDA Classifier Precision: 0.5939632778204571\n",
      "QDA Classifier Recall: 0.6103629076718777\n",
      "QDA Classifier Fmeasure: 0.5675594266091423\n",
      "\n",
      "LDA Classifier accuracy score: 0.6403622250970246\n",
      "LDA Classifier Precision: 0.6455472369907661\n",
      "LDA Classifier Recall: 0.5984907725296903\n",
      "LDA Classifier Fmeasure: 0.6005018233629744\n",
      "\n",
      "ExtraTrees Classifier accuracy score: 0.630012936610608\n",
      "ExtraTrees Classifier Precision: 0.6239793429280651\n",
      "ExtraTrees Classifier Recall: 0.5485254744201113\n",
      "ExtraTrees Classifier Fmeasure: 0.5621508241274074\n",
      "\n",
      "Boosted RF Classifier accuracy score: 0.6727037516170763\n",
      "Boosted RF Classifier Precision: 0.6833019929160582\n",
      "Boosted RF Classifier Recall: 0.6452843781225367\n",
      "Boosted RF Classifier Fmeasure: 0.6555780409479404\n",
      "\n"
     ]
    }
   ],
   "source": [
    "for i, classifier in enumerate(classifiers):\n",
    "\n",
    "    classifier.fit(X_train, y_train)\n",
    "    pred = classifier.predict(X_test)\n",
    "    print(f'{names[i]} Classifier accuracy score: {accuracy_score(y_test, pred)}')\n",
    "    print(f'{names[i]} Classifier Precision: {precision(y_test, pred)}')\n",
    "    print(f'{names[i]} Classifier Recall: {recall(y_test, pred)}')\n",
    "    print(f'{names[i]} Classifier Fmeasure: {Fmeasure(y_test, pred)}')\n",
    "    print(\"\")"
   ]
  },
  {
   "cell_type": "code",
   "execution_count": 60,
   "id": "polyphonic-racing",
   "metadata": {},
   "outputs": [
    {
     "ename": "NameError",
     "evalue": "name 'nb_' is not defined",
     "output_type": "error",
     "traceback": [
      "\u001b[0;31m---------------------------------------------------------------------------\u001b[0m",
      "\u001b[0;31mNameError\u001b[0m                                 Traceback (most recent call last)",
      "\u001b[0;32m<ipython-input-60-5e014fa046f6>\u001b[0m in \u001b[0;36m<module>\u001b[0;34m\u001b[0m\n\u001b[0;32m----> 1\u001b[0;31m \u001b[0mnb_\u001b[0m\u001b[0;34m\u001b[0m\u001b[0;34m\u001b[0m\u001b[0m\n\u001b[0m",
      "\u001b[0;31mNameError\u001b[0m: name 'nb_' is not defined"
     ]
    }
   ],
   "source": [
    "# Let's investigate the Logistic Regression, because what is happening there."
   ]
  },
  {
   "cell_type": "markdown",
   "id": "southwest-ghost",
   "metadata": {},
   "source": [
    "## Trying out a Voting Classifier to beat the others"
   ]
  },
  {
   "cell_type": "code",
   "execution_count": 61,
   "id": "answering-african",
   "metadata": {},
   "outputs": [],
   "source": [
    "voter_list = [(names[i], classifiers[i]) for i in range(len(names))]"
   ]
  },
  {
   "cell_type": "code",
   "execution_count": 62,
   "id": "dietary-associate",
   "metadata": {},
   "outputs": [],
   "source": [
    "voting = VotingClassifier(voter_list,\n",
    "                         voting='hard')"
   ]
  },
  {
   "cell_type": "code",
   "execution_count": 63,
   "id": "aquatic-richards",
   "metadata": {},
   "outputs": [
    {
     "data": {
      "text/plain": [
       "VotingClassifier(estimators=[('Logistic Regression',\n",
       "                              Pipeline(steps=[('standardscaler',\n",
       "                                               StandardScaler()),\n",
       "                                              ('logisticregression',\n",
       "                                               LogisticRegression(max_iter=1000))])),\n",
       "                             ('Nearest Neighbors',\n",
       "                              Pipeline(steps=[('standardscaler',\n",
       "                                               StandardScaler()),\n",
       "                                              ('kneighborsclassifier',\n",
       "                                               KNeighborsClassifier(n_jobs=4,\n",
       "                                                                    n_neighbors=10))])),\n",
       "                             ('Linear SVM',\n",
       "                              Pipeline(steps=[('standardsc...\n",
       "                                               LinearDiscriminantAnalysis())])),\n",
       "                             ('ExtraTrees',\n",
       "                              Pipeline(steps=[('standardscaler',\n",
       "                                               StandardScaler()),\n",
       "                                              ('extratreesclassifier',\n",
       "                                               ExtraTreesClassifier(max_depth=15,\n",
       "                                                                    n_estimators=500))])),\n",
       "                             ('Boosted RF',\n",
       "                              Pipeline(steps=[('standardscaler',\n",
       "                                               StandardScaler()),\n",
       "                                              ('adaboostclassifier',\n",
       "                                               AdaBoostClassifier(base_estimator=RandomForestClassifier(max_depth=15,\n",
       "                                                                                                        n_estimators=500,\n",
       "                                                                                                        n_jobs=4)))]))])"
      ]
     },
     "execution_count": 63,
     "metadata": {},
     "output_type": "execute_result"
    }
   ],
   "source": [
    "voting.fit(X_train, y_train)"
   ]
  },
  {
   "cell_type": "code",
   "execution_count": 64,
   "id": "willing-tooth",
   "metadata": {},
   "outputs": [],
   "source": [
    "vpred = voting.predict(X_test)\n"
   ]
  },
  {
   "cell_type": "code",
   "execution_count": 65,
   "id": "respective-williams",
   "metadata": {},
   "outputs": [
    {
     "data": {
      "text/plain": [
       "0.5521191294387171"
      ]
     },
     "execution_count": 65,
     "metadata": {},
     "output_type": "execute_result"
    }
   ],
   "source": [
    "accuracy_score(y_test,vpred)"
   ]
  },
  {
   "cell_type": "code",
   "execution_count": 66,
   "id": "persistent-manchester",
   "metadata": {},
   "outputs": [
    {
     "data": {
      "text/plain": [
       "0.730117760651974"
      ]
     },
     "execution_count": 66,
     "metadata": {},
     "output_type": "execute_result"
    }
   ],
   "source": [
    "TPR(y_test,vpred)"
   ]
  },
  {
   "cell_type": "code",
   "execution_count": 67,
   "id": "mobile-james",
   "metadata": {},
   "outputs": [
    {
     "data": {
      "text/plain": [
       "0.596111073142656"
      ]
     },
     "execution_count": 67,
     "metadata": {},
     "output_type": "execute_result"
    }
   ],
   "source": [
    "precision(y_test,vpred)"
   ]
  },
  {
   "cell_type": "code",
   "execution_count": 68,
   "id": "outside-pitch",
   "metadata": {},
   "outputs": [
    {
     "data": {
      "text/plain": [
       "0.53525023071244"
      ]
     },
     "execution_count": 68,
     "metadata": {},
     "output_type": "execute_result"
    }
   ],
   "source": [
    "recall(y_test,vpred)"
   ]
  },
  {
   "cell_type": "code",
   "execution_count": 69,
   "id": "surprising-graham",
   "metadata": {},
   "outputs": [
    {
     "data": {
      "text/plain": [
       "0.5475586001934875"
      ]
     },
     "execution_count": 69,
     "metadata": {},
     "output_type": "execute_result"
    }
   ],
   "source": [
    "Fmeasure(y_test,vpred)"
   ]
  },
  {
   "cell_type": "markdown",
   "id": "blessed-walker",
   "metadata": {},
   "source": [
    "Notably, the Voting Classifier doesn't always improve things. "
   ]
  },
  {
   "cell_type": "markdown",
   "id": "stuck-output",
   "metadata": {},
   "source": [
    "## Considering all folds in validation"
   ]
  },
  {
   "cell_type": "code",
   "execution_count": 32,
   "id": "hollywood-secret",
   "metadata": {},
   "outputs": [
    {
     "data": {
      "text/plain": [
       "13"
      ]
     },
     "execution_count": 32,
     "metadata": {},
     "output_type": "execute_result"
    }
   ],
   "source": [
    "len(names)"
   ]
  },
  {
   "cell_type": "code",
   "execution_count": 33,
   "id": "linear-differential",
   "metadata": {},
   "outputs": [],
   "source": [
    "accuracies = np.zeros((10, len(names)))\n",
    "TPRs = np.zeros((10,len(names)))\n",
    "Fs = np.zeros((10,len(names)))\n",
    "recalls = np.zeros((10,len(names)))\n",
    "precisions = np.zeros((10,len(names)))"
   ]
  },
  {
   "cell_type": "code",
   "execution_count": 34,
   "id": "democratic-cedar",
   "metadata": {},
   "outputs": [
    {
     "name": "stdout",
     "output_type": "stream",
     "text": [
      "0 0\n",
      "0 1\n",
      "0 2\n",
      "0 3\n",
      "0 4\n",
      "0 5\n",
      "0 6\n",
      "0 7\n",
      "0 8\n",
      "0 9\n",
      "0 10\n",
      "0 11\n",
      "0 12\n",
      "1 0\n",
      "1 1\n",
      "1 2\n",
      "1 3\n",
      "1 4\n",
      "1 5\n",
      "1 6\n",
      "1 7\n",
      "1 8\n",
      "1 9\n",
      "1 10\n",
      "1 11\n",
      "1 12\n",
      "2 0\n",
      "2 1\n",
      "2 2\n",
      "2 3\n",
      "2 4\n",
      "2 5\n",
      "2 6\n",
      "2 7\n",
      "2 8\n",
      "2 9\n",
      "2 10\n",
      "2 11\n",
      "2 12\n",
      "3 0\n",
      "3 1\n",
      "3 2\n",
      "3 3\n",
      "3 4\n",
      "3 5\n",
      "3 6\n",
      "3 7\n",
      "3 8\n",
      "3 9\n",
      "3 10\n",
      "3 11\n",
      "3 12\n",
      "4 0\n",
      "4 1\n",
      "4 2\n",
      "4 3\n",
      "4 4\n",
      "4 5\n",
      "4 6\n",
      "4 7\n",
      "4 8\n",
      "4 9\n",
      "4 10\n",
      "4 11\n",
      "4 12\n",
      "5 0\n",
      "5 1\n",
      "5 2\n",
      "5 3\n",
      "5 4\n",
      "5 5\n",
      "5 6\n",
      "5 7\n",
      "5 8\n",
      "5 9\n",
      "5 10\n",
      "5 11\n",
      "5 12\n",
      "6 0\n",
      "6 1\n",
      "6 2\n",
      "6 3\n",
      "6 4\n",
      "6 5\n",
      "6 6\n",
      "6 7\n",
      "6 8\n",
      "6 9\n",
      "6 10\n",
      "6 11\n",
      "6 12\n",
      "7 0\n",
      "7 1\n",
      "7 2\n",
      "7 3\n"
     ]
    },
    {
     "name": "stderr",
     "output_type": "stream",
     "text": [
      "<ipython-input-13-bf842f1e60e5>:32: RuntimeWarning: invalid value encountered in double_scalars\n",
      "  Fmeas = lambda x,y : (2*x*y)/(x+y)\n"
     ]
    },
    {
     "name": "stdout",
     "output_type": "stream",
     "text": [
      "7 4\n",
      "7 5\n",
      "7 6\n",
      "7 7\n",
      "7 8\n",
      "7 9\n",
      "7 10\n",
      "7 11\n",
      "7 12\n",
      "8 0\n",
      "8 1\n",
      "8 2\n",
      "8 3\n",
      "8 4\n",
      "8 5\n",
      "8 6\n",
      "8 7\n",
      "8 8\n",
      "8 9\n",
      "8 10\n",
      "8 11\n",
      "8 12\n",
      "9 0\n",
      "9 1\n",
      "9 2\n",
      "9 3\n",
      "9 4\n",
      "9 5\n",
      "9 6\n",
      "9 7\n",
      "9 8\n",
      "9 9\n",
      "9 10\n",
      "9 11\n",
      "9 12\n"
     ]
    }
   ],
   "source": [
    "for dfi in range(0,10):\n",
    "    dropfold = dfi + 1\n",
    "    cv_features_df = features_df.drop(features_df[features_df['fold']==dropfold].index)\n",
    "    validation_features_df = features_df.drop(features_df[features_df['fold']!=dropfold].index)\n",
    "\n",
    "    if len(classify_keys) == 1:\n",
    "        X_train = cv_features_df[classify_keys[0]].values.reshape(-1,1)\n",
    "    else:\n",
    "        X_train = cv_features_df[classify_keys].values\n",
    "\n",
    "    y_train = cv_features_df['class'].values\n",
    "\n",
    "    X_test = validation_features_df[classify_keys].values\n",
    "    y_test = validation_features_df['class']\n",
    "\n",
    "    for i, classifier in enumerate(classifiers):\n",
    "        print(dfi, i)\n",
    "        classifier.fit(X_train, y_train)\n",
    "        pred = classifier.predict(X_test)\n",
    "        \n",
    "        accuracies[dfi][i] = accuracy_score(y_test, pred)\n",
    "        TPRs[dfi][i] = TPR(y_test, pred)\n",
    "        Fs[dfi][i] = Fmeasure(y_test, pred)\n",
    "        recalls[dfi][i] = recall(y_test, pred)\n",
    "        precisions[dfi][i] = precision(y_test, pred)"
   ]
  },
  {
   "cell_type": "code",
   "execution_count": 35,
   "id": "central-norwegian",
   "metadata": {},
   "outputs": [],
   "source": [
    "TPRs_final = np.mean(TPRs,axis=0)\n",
    "accuracies_final = np.mean(accuracies,axis=0)\n",
    "Fs_final = np.mean(Fs,axis=0)\n",
    "recalls_final = np.mean(recalls,axis=0)\n",
    "precisions_final = np.mean(precisions,axis=0)"
   ]
  },
  {
   "cell_type": "code",
   "execution_count": 36,
   "id": "hollow-patch",
   "metadata": {},
   "outputs": [
    {
     "name": "stdout",
     "output_type": "stream",
     "text": [
      "Logistic Regression accuracy: 0.5425496112025389\n",
      "Nearest Neighbors accuracy: 0.4514205223731942\n",
      "Linear SVM accuracy: 0.4827354771887668\n",
      "RBF SVM accuracy: 0.39589141480566764\n",
      "Decision Tree accuracy: 0.4139801900471256\n",
      "Random Forest accuracy: 0.5421407705422256\n",
      "Neural Net accuracy: 0.5610780074115181\n",
      "AdaBoost accuracy: 0.3915390529956718\n",
      "Naive Bayes accuracy: 0.3234899760812644\n",
      "QDA accuracy: 0.466816725386908\n",
      "LDA accuracy: 0.46016797941904547\n",
      "ExtraTrees accuracy: 0.4909148128133312\n",
      "Boosted RF accuracy: 0.544672786804426\n"
     ]
    }
   ],
   "source": [
    "for i,name in enumerate(names):\n",
    "    print(f'{name} accuracy: {accuracies_final[i]}')"
   ]
  },
  {
   "cell_type": "code",
   "execution_count": 37,
   "id": "northern-compact",
   "metadata": {},
   "outputs": [
    {
     "name": "stdout",
     "output_type": "stream",
     "text": [
      "Logistic Regression TPR: 0.5378700435458591\n",
      "Nearest Neighbors TPR: 0.46048357175783794\n",
      "Linear SVM TPR: 0.47226842015612247\n",
      "RBF SVM TPR: 0.3742313724017198\n",
      "Decision Tree TPR: 0.4245740986076486\n",
      "Random Forest TPR: 0.5445354276874319\n",
      "Neural Net TPR: 0.5670828426362703\n",
      "AdaBoost TPR: 0.39989120926766153\n",
      "Naive Bayes TPR: 0.3217824543596647\n",
      "QDA TPR: 0.46828793197839846\n",
      "LDA TPR: 0.44688797892932197\n",
      "ExtraTrees TPR: 0.4799060151258794\n",
      "Boosted RF TPR: 0.5479338566229124\n"
     ]
    }
   ],
   "source": [
    "for i,name in enumerate(names):\n",
    "    print(f'{name} TPR: {TPRs_final[i]}')"
   ]
  },
  {
   "cell_type": "code",
   "execution_count": 38,
   "id": "cathedral-prevention",
   "metadata": {},
   "outputs": [
    {
     "name": "stdout",
     "output_type": "stream",
     "text": [
      "Logistic Regression Fmeasure: 0.5355785299768603\n",
      "Nearest Neighbors Fmeasure: 0.45391351784471984\n",
      "Linear SVM Fmeasure: 0.47217333734270844\n",
      "RBF SVM Fmeasure: nan\n",
      "Decision Tree Fmeasure: 0.41428880691418046\n",
      "Random Forest Fmeasure: 0.5389281492298815\n",
      "Neural Net Fmeasure: 0.5598119755456575\n",
      "AdaBoost Fmeasure: 0.3786211682428176\n",
      "Naive Bayes Fmeasure: 0.30238820847647674\n",
      "QDA Fmeasure: 0.47298664355691\n",
      "LDA Fmeasure: 0.45368748461266434\n",
      "ExtraTrees Fmeasure: 0.47211375219155727\n",
      "Boosted RF Fmeasure: 0.5423479225584578\n"
     ]
    }
   ],
   "source": [
    "for i,name in enumerate(names):\n",
    "    print(f'{name} Fmeasure: {Fs_final[i]}')"
   ]
  },
  {
   "cell_type": "code",
   "execution_count": 39,
   "id": "early-smith",
   "metadata": {},
   "outputs": [
    {
     "name": "stdout",
     "output_type": "stream",
     "text": [
      "Logistic Regression recall: 0.5378700435458591\n",
      "Nearest Neighbors recall: 0.46048357175783794\n",
      "Linear SVM recall: 0.47226842015612247\n",
      "RBF SVM recall: 0.3742313724017198\n",
      "Decision Tree recall: 0.4245740986076486\n",
      "Random Forest recall: 0.5445354276874319\n",
      "Neural Net recall: 0.5670828426362703\n",
      "AdaBoost recall: 0.39989120926766153\n",
      "Naive Bayes recall: 0.3217824543596647\n",
      "QDA recall: 0.46828793197839846\n",
      "LDA recall: 0.44688797892932197\n",
      "ExtraTrees recall: 0.4799060151258794\n",
      "Boosted RF recall: 0.5479338566229124\n"
     ]
    }
   ],
   "source": [
    "for i,name in enumerate(names):\n",
    "    print(f'{name} recall: {recalls_final[i]}')"
   ]
  },
  {
   "cell_type": "code",
   "execution_count": 40,
   "id": "contrary-photography",
   "metadata": {},
   "outputs": [
    {
     "name": "stdout",
     "output_type": "stream",
     "text": [
      "Logistic Regression precision: 0.5709708848898587\n",
      "Nearest Neighbors precision: 0.46428290835212965\n",
      "Linear SVM precision: 0.5355037897732108\n",
      "RBF SVM precision: 0.4672654970562576\n",
      "Decision Tree precision: 0.41988513552000245\n",
      "Random Forest precision: 0.5568981762268274\n",
      "Neural Net precision: 0.5758761852603016\n",
      "AdaBoost precision: 0.39299912193524494\n",
      "Naive Bayes precision: 0.41589962085115967\n",
      "QDA precision: 0.5241336336337945\n",
      "LDA precision: 0.5271520612050247\n",
      "ExtraTrees precision: 0.49774286211331714\n",
      "Boosted RF precision: 0.5635709060978755\n"
     ]
    }
   ],
   "source": [
    "for i,name in enumerate(names):\n",
    "    print(f'{name} precision: {precisions_final[i]}')"
   ]
  },
  {
   "cell_type": "markdown",
   "id": "governmental-consultation",
   "metadata": {},
   "source": [
    "## Now: Tune the best models\n",
    "\n",
    "Now that a preliminary search of the classifier space has given us a ranking of classifiers, we can focus the search on a more limited number of methods. We can then tune these hyperparameters for optimal performance.\n",
    "\n",
    "Preliminary model ranking:\n",
    "   1. Random Forest (Boosted is comparable)\n",
    "   2. Neural Net\n",
    "   3. Naive Bayes"
   ]
  }
 ],
 "metadata": {
  "kernelspec": {
   "display_name": "Python 3",
   "language": "python",
   "name": "python3"
  },
  "language_info": {
   "codemirror_mode": {
    "name": "ipython",
    "version": 3
   },
   "file_extension": ".py",
   "mimetype": "text/x-python",
   "name": "python",
   "nbconvert_exporter": "python",
   "pygments_lexer": "ipython3",
   "version": "3.8.0"
  }
 },
 "nbformat": 4,
 "nbformat_minor": 5
}
